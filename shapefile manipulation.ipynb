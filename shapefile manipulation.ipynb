{
 "cells": [
  {
   "cell_type": "code",
   "execution_count": 1,
   "id": "7b5234f4",
   "metadata": {},
   "outputs": [],
   "source": [
    "import geopandas as gpd\n",
    "import pandas as pd\n",
    "import numpy as np"
   ]
  },
  {
   "cell_type": "code",
   "execution_count": 2,
   "id": "a35747a7-66ca-40d8-8d39-660c3593242f",
   "metadata": {},
   "outputs": [],
   "source": [
    "import os\n",
    "os.chdir('/Users/najah/work/internships/meghna//LT05_L1TP_145044_20100428_20161016_01_T1')"
   ]
  },
  {
   "cell_type": "code",
   "execution_count": 68,
   "id": "0b71964a",
   "metadata": {},
   "outputs": [],
   "source": [
    "random_points1 = gpd.read_file(\"./145044_20100428_roi/145044_20100428_random_points_1/145044_20100428_random_points_1.shp\")"
   ]
  },
  {
   "cell_type": "code",
   "execution_count": 69,
   "id": "d1bb06fe-1122-4805-8995-a51d5010a211",
   "metadata": {},
   "outputs": [],
   "source": [
    "random_points2 = gpd.read_file(\"./145044_20100428_roi/145044_20100428_extra_random_points/145044_20100428_extra_random_points.shp\")"
   ]
  },
  {
   "cell_type": "code",
   "execution_count": 73,
   "id": "69c0bad7-5a88-4c7c-b433-0478864d0adf",
   "metadata": {},
   "outputs": [],
   "source": [
    "dataframesList = [random_points1, random_points2]\n",
    "random_points= gpd.GeoDataFrame(pd.concat(dataframesList, ignore_index=True), crs=dataframesList[0].crs)"
   ]
  },
  {
   "cell_type": "code",
   "execution_count": 74,
   "id": "1507d82d-f04e-457e-a3ce-407cb04a3250",
   "metadata": {},
   "outputs": [
    {
     "data": {
      "text/plain": [
       "<Geographic 2D CRS: EPSG:4326>\n",
       "Name: WGS 84\n",
       "Axis Info [ellipsoidal]:\n",
       "- Lat[north]: Geodetic latitude (degree)\n",
       "- Lon[east]: Geodetic longitude (degree)\n",
       "Area of Use:\n",
       "- name: World.\n",
       "- bounds: (-180.0, -90.0, 180.0, 90.0)\n",
       "Datum: World Geodetic System 1984 ensemble\n",
       "- Ellipsoid: WGS 84\n",
       "- Prime Meridian: Greenwich"
      ]
     },
     "execution_count": 74,
     "metadata": {},
     "output_type": "execute_result"
    }
   ],
   "source": [
    "random_points.crs"
   ]
  },
  {
   "cell_type": "code",
   "execution_count": 39,
   "id": "70937ba5-bbad-4093-b3ae-6992b178e0df",
   "metadata": {},
   "outputs": [],
   "source": [
    "###random_points= pd.concat([random_points1, random_points2])"
   ]
  },
  {
   "cell_type": "code",
   "execution_count": 75,
   "id": "e74e1fc1-e1c2-4cf5-9cfc-9c610f07ab2e",
   "metadata": {},
   "outputs": [],
   "source": [
    "random_points = random_points.drop(['cat', 'value', 'covervalue'], axis =1)"
   ]
  },
  {
   "cell_type": "code",
   "execution_count": 76,
   "id": "52af1895",
   "metadata": {},
   "outputs": [],
   "source": [
    "random_points['class'] = random_points['class'].astype('int')"
   ]
  },
  {
   "cell_type": "code",
   "execution_count": 77,
   "id": "51cedf7d-153b-4f8a-88ed-1381192fa4e4",
   "metadata": {},
   "outputs": [
    {
     "data": {
      "text/plain": [
       "11    221\n",
       "5     155\n",
       "1      73\n",
       "13     63\n",
       "4      59\n",
       "15     45\n",
       "2      35\n",
       "16     21\n",
       "17     15\n",
       "8      12\n",
       "12      1\n",
       "Name: class, dtype: int64"
      ]
     },
     "execution_count": 77,
     "metadata": {},
     "output_type": "execute_result"
    }
   ],
   "source": [
    " random_points['class'].value_counts()"
   ]
  },
  {
   "cell_type": "code",
   "execution_count": 78,
   "id": "703f00d1-279e-4675-82cd-b100d2a57a8e",
   "metadata": {},
   "outputs": [],
   "source": [
    "# changing class 12 to 11\n",
    "random_points['class'] = np.where(random_points['class']==12,11,random_points['class'])"
   ]
  },
  {
   "cell_type": "markdown",
   "id": "c62dfca9-56e9-42c8-9915-c38c9acb16b1",
   "metadata": {},
   "source": [
    "### randomly spltiing files"
   ]
  },
  {
   "cell_type": "code",
   "execution_count": 79,
   "id": "5e62f6f8-56dd-4683-b0b9-1ec7680ddfc3",
   "metadata": {},
   "outputs": [],
   "source": [
    "from sklearn.model_selection import train_test_split \n",
    "points500, points200 = train_test_split(random_points, test_size=200, stratify= random_points['class']) "
   ]
  },
  {
   "cell_type": "code",
   "execution_count": 89,
   "id": "79bdb794-55aa-49ef-91d0-abcf85e4ce86",
   "metadata": {},
   "outputs": [],
   "source": [
    "points500 = gpd.GeoDataFrame(points500)"
   ]
  },
  {
   "cell_type": "code",
   "execution_count": 88,
   "id": "ffc0364a-bb91-4f33-959b-c091eb166113",
   "metadata": {},
   "outputs": [],
   "source": [
    "points200 = gpd.GeoDataFrame(points200)"
   ]
  },
  {
   "cell_type": "code",
   "execution_count": 61,
   "id": "869f47c6-5f7c-4ea6-be93-b7eaec87163e",
   "metadata": {},
   "outputs": [
    {
     "data": {
      "text/plain": [
       "11    158\n",
       "5     111\n",
       "1      52\n",
       "13     45\n",
       "4      42\n",
       "15     32\n",
       "2      25\n",
       "16     15\n",
       "17     11\n",
       "8       9\n",
       "Name: class, dtype: int64"
      ]
     },
     "execution_count": 61,
     "metadata": {},
     "output_type": "execute_result"
    }
   ],
   "source": [
    "points500['class'].value_counts()"
   ]
  },
  {
   "cell_type": "markdown",
   "id": "237c2d03-d4f9-44f1-870b-54ff5519fafc",
   "metadata": {},
   "source": [
    "creating another class with 12 on others.\n",
    "what about 13?"
   ]
  },
  {
   "cell_type": "code",
   "execution_count": 62,
   "id": "0b65b469-821e-41a9-9065-94ac5ecaaee1",
   "metadata": {},
   "outputs": [
    {
     "data": {
      "text/plain": [
       "11    64\n",
       "5     44\n",
       "1     21\n",
       "13    18\n",
       "4     17\n",
       "15    13\n",
       "2     10\n",
       "16     6\n",
       "17     4\n",
       "8      3\n",
       "Name: class, dtype: int64"
      ]
     },
     "execution_count": 62,
     "metadata": {},
     "output_type": "execute_result"
    }
   ],
   "source": [
    "points200['class'].value_counts()"
   ]
  },
  {
   "cell_type": "markdown",
   "id": "eeb347e0-e483-4c7a-b155-df042d3ab888",
   "metadata": {},
   "source": [
    "## fast way"
   ]
  },
  {
   "cell_type": "code",
   "execution_count": 93,
   "id": "eaf8a755-7053-4125-9621-acd7ecf4e18e",
   "metadata": {},
   "outputs": [],
   "source": [
    "points500 = random_points.sample(n = 500, random_state= 123)"
   ]
  },
  {
   "cell_type": "code",
   "execution_count": 94,
   "id": "a915e03f-0ca6-49e0-8722-72cfdf92d0de",
   "metadata": {},
   "outputs": [
    {
     "data": {
      "text/plain": [
       "11    160\n",
       "5     112\n",
       "1      54\n",
       "13     44\n",
       "4      44\n",
       "15     29\n",
       "2      24\n",
       "16     15\n",
       "8      10\n",
       "17      8\n",
       "Name: class, dtype: int64"
      ]
     },
     "execution_count": 94,
     "metadata": {},
     "output_type": "execute_result"
    }
   ],
   "source": [
    "points500['class'].value_counts()"
   ]
  },
  {
   "cell_type": "markdown",
   "id": "73589ab4-9b3d-4bd7-8e3a-fae5b20475aa",
   "metadata": {},
   "source": [
    "creating another class with 12 on others.\n",
    "what about 13?"
   ]
  },
  {
   "cell_type": "code",
   "execution_count": 95,
   "id": "3028e5bd-3693-4aaa-9243-47f3844c59c4",
   "metadata": {},
   "outputs": [],
   "source": [
    "points200 =random_points.drop(points500.index)"
   ]
  },
  {
   "cell_type": "code",
   "execution_count": 96,
   "id": "3af49c5b-4e9a-4a62-b498-31e8ba745535",
   "metadata": {},
   "outputs": [
    {
     "data": {
      "text/plain": [
       "11    62\n",
       "5     43\n",
       "1     19\n",
       "13    19\n",
       "15    16\n",
       "4     15\n",
       "2     11\n",
       "17     7\n",
       "16     6\n",
       "8      2\n",
       "Name: class, dtype: int64"
      ]
     },
     "execution_count": 96,
     "metadata": {},
     "output_type": "execute_result"
    }
   ],
   "source": [
    "points200['class'].value_counts()"
   ]
  },
  {
   "cell_type": "markdown",
   "id": "e85ff412-ad31-48ea-8132-a16308a01e35",
   "metadata": {
    "tags": []
   },
   "source": [
    "## Writing files"
   ]
  },
  {
   "cell_type": "code",
   "execution_count": 101,
   "id": "7ce60a76-f1e0-46a6-8dbd-6d113394633a",
   "metadata": {},
   "outputs": [],
   "source": [
    "points200.to_file(\"./145044_20100428_roi/145044_20100428_200points.random_points\")"
   ]
  },
  {
   "cell_type": "code",
   "execution_count": 100,
   "id": "a5a56c06-c1dd-48d8-a8d4-ffa74a2f0564",
   "metadata": {},
   "outputs": [],
   "source": [
    "points500.to_file(\"./145044_20100428_roi/145044_20100428_500points.random_points\")"
   ]
  },
  {
   "cell_type": "markdown",
   "id": "9b1fc60d-7329-4250-9a55-3026bcb9107d",
   "metadata": {},
   "source": [
    "## some other things"
   ]
  },
  {
   "cell_type": "code",
   "execution_count": 84,
   "id": "6627449c-d868-488d-a6c6-db49dc8d2240",
   "metadata": {},
   "outputs": [],
   "source": [
    "random_200 = gpd.read_file(\"./145044_20100428_roi/145044_20100428_random_points/145044_20100428_random_points.shp\")"
   ]
  },
  {
   "cell_type": "code",
   "execution_count": 85,
   "id": "83cc3150-caa4-47cf-a454-10b479b0aebf",
   "metadata": {},
   "outputs": [
    {
     "data": {
      "text/plain": [
       "<Geographic 2D CRS: EPSG:4326>\n",
       "Name: WGS 84\n",
       "Axis Info [ellipsoidal]:\n",
       "- Lat[north]: Geodetic latitude (degree)\n",
       "- Lon[east]: Geodetic longitude (degree)\n",
       "Area of Use:\n",
       "- name: World.\n",
       "- bounds: (-180.0, -90.0, 180.0, 90.0)\n",
       "Datum: World Geodetic System 1984 ensemble\n",
       "- Ellipsoid: WGS 84\n",
       "- Prime Meridian: Greenwich"
      ]
     },
     "execution_count": 85,
     "metadata": {},
     "output_type": "execute_result"
    }
   ],
   "source": [
    "random_200.crs"
   ]
  },
  {
   "cell_type": "code",
   "execution_count": 14,
   "id": "b1b74808-dd5c-41f8-b8c4-0a854b50eca6",
   "metadata": {},
   "outputs": [],
   "source": [
    "random_200['class']= random_200['class'].astype('int')"
   ]
  },
  {
   "cell_type": "code",
   "execution_count": 15,
   "id": "1bd04546-2462-43e6-90e6-8fff442c656f",
   "metadata": {},
   "outputs": [
    {
     "data": {
      "text/plain": [
       "11    71\n",
       "10    68\n",
       "5     21\n",
       "1     15\n",
       "13    10\n",
       "4      9\n",
       "2      3\n",
       "8      2\n",
       "12     1\n",
       "Name: class, dtype: int64"
      ]
     },
     "execution_count": 15,
     "metadata": {},
     "output_type": "execute_result"
    }
   ],
   "source": [
    " random_200['class'].value_counts()"
   ]
  },
  {
   "cell_type": "code",
   "execution_count": 22,
   "id": "3727e566-7b20-490e-a82d-bab4453e6a1a",
   "metadata": {},
   "outputs": [],
   "source": [
    "random_points['ag_fire'] = np.where(random_points['class']==5,1,0)"
   ]
  },
  {
   "cell_type": "code",
   "execution_count": 77,
   "id": "6dd2b840",
   "metadata": {},
   "outputs": [],
   "source": [
    "random_points['fire'] = np.where(random_points['class1']==5,1,0)"
   ]
  },
  {
   "cell_type": "code",
   "execution_count": 85,
   "id": "c2959227",
   "metadata": {},
   "outputs": [],
   "source": [
    "random_points_fire = random_points[random_points['fire']==1]"
   ]
  },
  {
   "cell_type": "code",
   "execution_count": 84,
   "id": "db2ebd64",
   "metadata": {},
   "outputs": [],
   "source": [
    "random_points_nonfire = random_points[random_points['fire']==0]"
   ]
  },
  {
   "cell_type": "code",
   "execution_count": 68,
   "id": "b45a1a99",
   "metadata": {},
   "outputs": [],
   "source": [
    "import geemap\n"
   ]
  },
  {
   "cell_type": "code",
   "execution_count": 72,
   "id": "27bf0fcc",
   "metadata": {},
   "outputs": [],
   "source": [
    "import fiona"
   ]
  },
  {
   "cell_type": "code",
   "execution_count": 86,
   "id": "d150f4ce",
   "metadata": {},
   "outputs": [
    {
     "name": "stderr",
     "output_type": "stream",
     "text": [
      "/Users/najah/opt/anaconda3/envs/gee/lib/python3.10/site-packages/geopandas/io/file.py:362: FutureWarning: pandas.Int64Index is deprecated and will be removed from pandas in a future version. Use pandas.Index with the appropriate dtype instead.\n",
      "  pd.Int64Index,\n",
      "/Users/najah/opt/anaconda3/envs/gee/lib/python3.10/site-packages/geopandas/io/file.py:362: FutureWarning: pandas.Int64Index is deprecated and will be removed from pandas in a future version. Use pandas.Index with the appropriate dtype instead.\n",
      "  pd.Int64Index,\n"
     ]
    }
   ],
   "source": [
    "fiona.supported_drivers['KML'] = 'rw'\n",
    "\n",
    "random_points_fire.to_file('random_points_non_agfire.kml', driver='KML')\n",
    "\n",
    "random_points_nonfire.to_file('random_points_agfire.kml', driver='KML')"
   ]
  },
  {
   "cell_type": "code",
   "execution_count": null,
   "id": "2345c5f7",
   "metadata": {},
   "outputs": [],
   "source": [
    "\n",
    "geemap.kml_to_ee()"
   ]
  },
  {
   "cell_type": "markdown",
   "id": "2519cd04-ff17-44cd-9802-43459cd0f9a5",
   "metadata": {},
   "source": [
    "### removing the no data class"
   ]
  },
  {
   "cell_type": "code",
   "execution_count": 3,
   "id": "847fd342-84c2-41a1-ae16-d9f9e752f479",
   "metadata": {},
   "outputs": [],
   "source": [
    "rp = gpd.read_file('./145044_20100428_roi/145044_20100428_random_points/145044_20100428_random_points.shp')"
   ]
  },
  {
   "cell_type": "code",
   "execution_count": 4,
   "id": "85d0e728-6455-442f-9c91-1b1f0fc96977",
   "metadata": {},
   "outputs": [
    {
     "data": {
      "text/plain": [
       "geopandas.geodataframe.GeoDataFrame"
      ]
     },
     "execution_count": 4,
     "metadata": {},
     "output_type": "execute_result"
    }
   ],
   "source": [
    "type(rp)"
   ]
  },
  {
   "cell_type": "code",
   "execution_count": 9,
   "id": "d49601c0-8ee2-4d2a-9736-f04325bb89d2",
   "metadata": {},
   "outputs": [
    {
     "data": {
      "text/plain": [
       "Index(['id', 'long', 'lat', 'class', 'geometry'], dtype='object')"
      ]
     },
     "execution_count": 9,
     "metadata": {},
     "output_type": "execute_result"
    }
   ],
   "source": [
    "rp.columns"
   ]
  },
  {
   "cell_type": "code",
   "execution_count": 14,
   "id": "1b5643ba-3963-4d4e-a561-30ee47aec4d8",
   "metadata": {},
   "outputs": [],
   "source": [
    "random_points_new = rp[rp['class']!= 10]"
   ]
  },
  {
   "cell_type": "code",
   "execution_count": 13,
   "id": "dc381022-3a9c-4b85-9ae0-e8498ef57249",
   "metadata": {},
   "outputs": [
    {
     "data": {
      "text/plain": [
       "486"
      ]
     },
     "execution_count": 13,
     "metadata": {},
     "output_type": "execute_result"
    }
   ],
   "source": [
    "700-214"
   ]
  },
  {
   "cell_type": "code",
   "execution_count": 17,
   "id": "82d9d300-964b-4211-89d7-73c5efe2736e",
   "metadata": {},
   "outputs": [],
   "source": [
    "random_points_new.to_file('./145044_20100428_roi/145044_20100428_random_points_1/145044_20100428_random_points_1.shp')"
   ]
  },
  {
   "cell_type": "markdown",
   "id": "d5a2d775-da98-4442-9404-0d5da1556d82",
   "metadata": {},
   "source": [
    "### testing the new random points similarity"
   ]
  },
  {
   "cell_type": "code",
   "execution_count": null,
   "id": "289b843f-2d6b-4597-ab9d-d6d0add4bc8c",
   "metadata": {},
   "outputs": [],
   "source": []
  },
  {
   "cell_type": "code",
   "execution_count": 4,
   "id": "e8f98498-a043-47e9-b7ab-7eb304aa95b2",
   "metadata": {},
   "outputs": [],
   "source": [
    "random_points3 = gpd.read_file(\"./145044_20100428_roi/145044_20100428_random_points_2/random_points_merged_gcs.shp\")"
   ]
  },
  {
   "cell_type": "code",
   "execution_count": 3,
   "id": "44dbc5fe-d404-4cfa-a304-4126a84c0314",
   "metadata": {},
   "outputs": [],
   "source": [
    "random_points4 = gpd.read_file(\"./145044_20100428_roi/145044_20100428_random_points_2/random_points_merged.shp\")"
   ]
  },
  {
   "cell_type": "code",
   "execution_count": 7,
   "id": "1266e63c-a5fb-4bcc-87f6-59213b1cdbe2",
   "metadata": {},
   "outputs": [
    {
     "data": {
      "text/plain": [
       "Index(['cat', 'value', 'covervalue', 'class', 'id', 'long', 'lat', 'layer',\n",
       "       'path', 'geometry'],\n",
       "      dtype='object')"
      ]
     },
     "execution_count": 7,
     "metadata": {},
     "output_type": "execute_result"
    }
   ],
   "source": [
    "random_points3.columns"
   ]
  },
  {
   "cell_type": "code",
   "execution_count": 8,
   "id": "7b7be5eb-0f4e-48bc-9fa8-1683e7093cba",
   "metadata": {},
   "outputs": [
    {
     "data": {
      "text/plain": [
       "Index(['cat', 'value', 'covervalue', 'class', 'id', 'long', 'lat', 'layer',\n",
       "       'path', 'geometry'],\n",
       "      dtype='object')"
      ]
     },
     "execution_count": 8,
     "metadata": {},
     "output_type": "execute_result"
    }
   ],
   "source": [
    "random_points4.columns"
   ]
  },
  {
   "cell_type": "code",
   "execution_count": 10,
   "id": "8e4148b2-9542-4bc5-9220-9119d8060c6d",
   "metadata": {},
   "outputs": [
    {
     "data": {
      "text/plain": [
       "11.0    222\n",
       "5.0     155\n",
       "1.0      73\n",
       "13.0     63\n",
       "4.0      59\n",
       "15.0     45\n",
       "2.0      35\n",
       "16.0     21\n",
       "17.0     15\n",
       "8.0      12\n",
       "Name: class, dtype: int64"
      ]
     },
     "execution_count": 10,
     "metadata": {},
     "output_type": "execute_result"
    }
   ],
   "source": [
    " random_points4['class'].value_counts()"
   ]
  },
  {
   "cell_type": "code",
   "execution_count": 11,
   "id": "d3649f15-e9c3-4cdb-a03d-db3dc3f8d1a2",
   "metadata": {},
   "outputs": [
    {
     "data": {
      "text/plain": [
       "11.0    222\n",
       "5.0     155\n",
       "1.0      73\n",
       "13.0     63\n",
       "4.0      59\n",
       "15.0     45\n",
       "2.0      35\n",
       "16.0     21\n",
       "17.0     15\n",
       "8.0      12\n",
       "Name: class, dtype: int64"
      ]
     },
     "execution_count": 11,
     "metadata": {},
     "output_type": "execute_result"
    }
   ],
   "source": [
    " random_points3['class'].value_counts()"
   ]
  },
  {
   "cell_type": "code",
   "execution_count": 15,
   "id": "817f2f6d-bb4f-490c-a288-2d9109e763df",
   "metadata": {},
   "outputs": [
    {
     "data": {
      "text/plain": [
       "<Geographic 2D CRS: EPSG:4326>\n",
       "Name: WGS 84\n",
       "Axis Info [ellipsoidal]:\n",
       "- Lat[north]: Geodetic latitude (degree)\n",
       "- Lon[east]: Geodetic longitude (degree)\n",
       "Area of Use:\n",
       "- name: World.\n",
       "- bounds: (-180.0, -90.0, 180.0, 90.0)\n",
       "Datum: World Geodetic System 1984 ensemble\n",
       "- Ellipsoid: WGS 84\n",
       "- Prime Meridian: Greenwich"
      ]
     },
     "execution_count": 15,
     "metadata": {},
     "output_type": "execute_result"
    }
   ],
   "source": [
    " random_points3.crs"
   ]
  },
  {
   "cell_type": "code",
   "execution_count": 16,
   "id": "f092f368-91d0-427b-bbb3-765bb7b9cbc8",
   "metadata": {},
   "outputs": [
    {
     "data": {
      "text/plain": [
       "<Derived Projected CRS: EPSG:32643>\n",
       "Name: WGS 84 / UTM zone 43N\n",
       "Axis Info [cartesian]:\n",
       "- E[east]: Easting (metre)\n",
       "- N[north]: Northing (metre)\n",
       "Area of Use:\n",
       "- name: Between 72°E and 78°E, northern hemisphere between equator and 84°N, onshore and offshore. China. India. Kazakhstan. Kyrgyzstan. Maldives. Pakistan. Russian Federation. Tajikistan.\n",
       "- bounds: (72.0, 0.0, 78.0, 84.0)\n",
       "Coordinate Operation:\n",
       "- name: UTM zone 43N\n",
       "- method: Transverse Mercator\n",
       "Datum: World Geodetic System 1984 ensemble\n",
       "- Ellipsoid: WGS 84\n",
       "- Prime Meridian: Greenwich"
      ]
     },
     "execution_count": 16,
     "metadata": {},
     "output_type": "execute_result"
    }
   ],
   "source": [
    " random_points4.crs"
   ]
  },
  {
   "cell_type": "code",
   "execution_count": 17,
   "id": "fbeb01c5-291c-407b-9d1d-499d969d1f67",
   "metadata": {},
   "outputs": [
    {
     "data": {
      "text/plain": [
       "700"
      ]
     },
     "execution_count": 17,
     "metadata": {},
     "output_type": "execute_result"
    }
   ],
   "source": [
    "len(random_points4)"
   ]
  },
  {
   "cell_type": "code",
   "execution_count": null,
   "id": "236ff074-5724-4eaf-81d1-c24ce2822f36",
   "metadata": {},
   "outputs": [],
   "source": []
  }
 ],
 "metadata": {
  "kernelspec": {
   "display_name": "Python 3 (ipykernel)",
   "language": "python",
   "name": "python3"
  },
  "language_info": {
   "codemirror_mode": {
    "name": "ipython",
    "version": 3
   },
   "file_extension": ".py",
   "mimetype": "text/x-python",
   "name": "python",
   "nbconvert_exporter": "python",
   "pygments_lexer": "ipython3",
   "version": "3.9.13"
  }
 },
 "nbformat": 4,
 "nbformat_minor": 5
}
