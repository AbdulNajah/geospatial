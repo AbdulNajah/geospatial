{
 "cells": [
  {
   "cell_type": "markdown",
   "metadata": {},
   "source": [
    "## Import libraries"
   ]
  },
  {
   "cell_type": "code",
   "execution_count": null,
   "metadata": {},
   "outputs": [],
   "source": [
    "import ee\n",
    "import geemap"
   ]
  },
  {
   "cell_type": "markdown",
   "metadata": {},
   "source": [
    "## Create an interactive map"
   ]
  },
  {
   "cell_type": "code",
   "execution_count": null,
   "metadata": {},
   "outputs": [],
   "source": [
    "Map = geemap.Map(center=[40, -100], zoom=4)"
   ]
  },
  {
   "cell_type": "markdown",
   "metadata": {},
   "source": [
    "## Add Earth Engine Python script"
   ]
  },
  {
   "cell_type": "code",
   "execution_count": null,
   "metadata": {},
   "outputs": [],
   "source": [
    "# Add Earth Engine dataset\n",
    "image = ee.Image(\"USGS/SRTMGL1_003\")\n",
    "delhi = ee.FeatureCollection(\"FAO/GAUL/2015/level2\").filter(ee.Filter.eq('ADM2_NAME','Delhi')).geometry()\n",
    "\n",
    "\n",
    "Map.addLayer(delhi)\n",
    "\n",
    "\n",
    "\n",
    "s2 = ee.ImageCollection(\"COPERNICUS/S2_SR\")\n",
    "\n",
    "\n",
    "\n",
    "Map.centerObject(delhi)\n",
    "rgbVis = {\n",
    "  'min': 0.0,\n",
    "  'max': 3000,\n",
    "  'bands': ['B4', 'B3', 'B2'],\n",
    "}\n",
    "\n",
    "filtered = s2 \\\n",
    "  .filter(ee.Filter.date('2019-03-01', '2019-05-21')) \\\n",
    "  .filter(ee.Filter.lt('CLOUDY_PIXEL_PERCENTAGE', 30)) \\\n",
    "  .filter(ee.Filter.bounds(delhi)) \\\n",
    "  .select('B.*')\n",
    "\n",
    "\n",
    "before = filtered.median().clip(delhi)\n",
    "# Display the input composite.\n",
    "Map.addLayer(before, rgbVis, 'before')\n",
    "\n",
    "\n",
    "\n",
    "def addIndices(image):\n",
    "  ndvi = image.normalizedDifference(['B8', 'B4']).rename(['ndvi'])\n",
    "  ndbi = image.normalizedDifference(['B11', 'B8']).rename(['ndbi'])\n",
    "  mndwi = image.normalizedDifference(['B3', 'B11']).rename(['mndwi'])\n",
    "  ndwi = image.normalizedDifference(['B3', 'B8']).rename('ndwi')\n",
    "  return image.addBands(ndvi).addBands(ndbi).addBands(mndwi).addBands(ndwi)\n",
    "\n",
    "before = addIndices(before)\n",
    "\n",
    "data = urban.merge(non_urban)\n",
    "\n",
    "# Add a random column and split the GCPs into training and validation set\n",
    "data = data.randomColumn()\n",
    "\n",
    "# This being a simpler classification, we take 60% points\n",
    "# for validation. Normal recommended ratio is\n",
    "# 70% training, 30% validation\n",
    "training = data.filter(ee.Filter.lt('random', 0.7))\n",
    "validation = data.filter(ee.Filter.gte('random', 0.7))\n",
    "\n",
    "# Overlay the point on the image to get training data.\n",
    "training = before.sampleRegions({\n",
    "  'collection': training,\n",
    "  'properties': ['landcover'],\n",
    "   'tileScale': 16,\n",
    "  'scale': 10\n",
    "})\n",
    "\n",
    "# Train a classifier.\n",
    "classifier = ee.Classifier.smileRandomForest({\n",
    "       'numberOfTrees': 50,\n",
    "     } ).train({\n",
    "  'features': training,\n",
    "  'classProperty': 'landcover',\n",
    "  'inputProperties': before.bandNames()\n",
    "})\n",
    "\n",
    "# # Classify the image.\n",
    "classified = before.classify(classifier)\n",
    "Map.addLayer(classified,\n",
    "  {'min': 0, 'max': 3, 'palette': ['gray', 'brown', 'blue', 'green']}, 'before_classified')\n",
    "\n",
    "\n",
    "\n",
    "print(classified)\n",
    "\n",
    "classfied = classified.clip(delhi)\n",
    "\n",
    "\n",
    "# # # # exporting images to asset\n",
    "\n",
    "\n",
    "# Export.image.toAsset({\n",
    "#   image: classified,\n",
    "#   description: 'delhi19_classfiedtest',\n",
    "#   assetId: 'ee-najah',\n",
    "#   region: delhi,\n",
    "#   scale: 100,\n",
    "#   maxPixels: 1e10\n",
    "# })\n",
    "\n",
    "\n",
    "\n",
    "\n",
    "\n",
    "# Export.image.toDrive({\n",
    "#   image: classified,\n",
    "#   description: 'delhi_s2_30',\n",
    "#   scale: 30,\n",
    "#   region: delhi,\n",
    "#   maxPixels: 1e10\n",
    "# })\n",
    "\n",
    "\n",
    "\n",
    "#**************************************************************************\n",
    "# Accuracy Assessment\n",
    "#**************************************************************************\n",
    "\n",
    "# Use classification map to assess accuracy using the validation fraction\n",
    "# of the overall training set created above.\n",
    "\n",
    "test = classified.sampleRegions({\n",
    "  'collection': validation,\n",
    "  'properties': ['landcover'],\n",
    "  'tileScale': 16,\n",
    "  'scale': 10,\n",
    "})\n",
    "\n",
    "testConfusionMatrix = test.errorMatrix('landcover', 'classification')\n",
    "# Printing of confusion matrix may time out. Alternatively, you can export it as CSV\n",
    "print('Confusion Matrix', testConfusionMatrix)\n",
    "print('Test Accuracy', testConfusionMatrix.accuracy())\n",
    "\n",
    "\n",
    "\n",
    "Export.image.toDrive({\n",
    "  'image': classified,\n",
    "  'description': 'delhi_s2_100_clipped',\n",
    "  'scale': 10,\n",
    "  'region': delhi,\n",
    "  'maxPixels': 1e10\n",
    "})\n"
   ]
  },
  {
   "cell_type": "markdown",
   "metadata": {},
   "source": [
    "## Display the interactive map"
   ]
  },
  {
   "cell_type": "code",
   "execution_count": null,
   "metadata": {},
   "outputs": [],
   "source": [
    "Map"
   ]
  }
 ],
 "metadata": {
  "anaconda-cloud": {},
  "kernelspec": {
   "display_name": "Python 3 (ipykernel)",
   "language": "python",
   "name": "python3"
  },
  "language_info": {
   "codemirror_mode": {
    "name": "ipython",
    "version": 3
   },
   "file_extension": ".py",
   "mimetype": "text/x-python",
   "name": "python",
   "nbconvert_exporter": "python",
   "pygments_lexer": "ipython3",
   "version": "3.9.13"
  }
 },
 "nbformat": 4,
 "nbformat_minor": 4
}
