{
  "cells": [
    {
      "cell_type": "markdown",
      "metadata": {},
      "source": [
        "## Import libraries"
      ]
    },
    {
      "cell_type": "code",
      "metadata": {},
      "source": [
        "import ee\n",
        "import geemap"
      ],
      "outputs": [],
      "execution_count": null
    },
    {
      "cell_type": "markdown",
      "metadata": {},
      "source": [
        "## Create an interactive map"
      ]
    },
    {
      "cell_type": "code",
      "metadata": {},
      "source": [
        "Map = geemap.Map(center=[40, -100], zoom=4)"
      ],
      "outputs": [],
      "execution_count": null
    },
    {
      "cell_type": "markdown",
      "metadata": {},
      "source": [
        "## Add Earth Engine Python script"
      ]
    },
    {
      "cell_type": "code",
      "metadata": {},
      "source": [
        "# Add Earth Engine dataset\n",
        "image = ee.Image(\"USGS/SRTMGL1_003\")\n",
        "# Extract MODIS QA information from the \"state_1km\" QA band\n",
        "# and use it to mask out cloudy and deep ocean areas.\n",
        "#\n",
        "# QA Band information is available at:\n",
        "# https:#lpdaac.usgs.gov/products/modis_products_table/mod09ga\n",
        "# Table 1: 1-kilometer State QA Descriptions (16-bit)\n",
        "\n",
        "\n",
        "#*\n",
        " # Returns an image containing just the specified QA bits.\n",
        " #\n",
        " # Args:\n",
        " #   image - The QA Image to get bits from.\n",
        " #   start - The first bit position, 0-based.\n",
        " #   end   - The last bit position, inclusive.\n",
        " #   name  - A name for the output image.\n",
        " #\n",
        "def getQABits(image, start, end, newName):\n",
        "    # Compute the bits we need to extract.\n",
        "    pattern = 0\n",
        "    for i in range(start, end, 1):\n",
        "       pattern += math.pow(2, i)\n",
        "\n",
        "    return image.select([0], [newName]) \\\n",
        "                  .bitwiseAnd(pattern) \\\n",
        "                  .rightShift(start)\n",
        "\n",
        "\n",
        "# Reference a single MODIS MOD09GA image.\n",
        "image = ee.Image('MODIS/006/MOD09GA/2012_10_11')\n",
        "\n",
        "# Select the QA band\n",
        "QA = image.select('state_1km')\n",
        "\n",
        "# Get the cloud_state bits and find cloudy areas.\n",
        "cloud = getQABits(QA, 0, 1, 'cloud_state') \\\n",
        "                    .expression(\"b(0) == 1 || b(0) == 2\")\n",
        "\n",
        "# Get the land_water_flag bits.\n",
        "landWaterFlag = getQABits(QA, 3, 5, 'land_water_flag')\n",
        "\n",
        "# Create a mask that filters out deep ocean and cloudy areas.\n",
        "mask = landWaterFlag.neq(7).And(cloud.Not())\n",
        "\n",
        "# Add a map layer with the deep ocean and clouds areas masked out.\n",
        "Map.addLayer(image.updateMask(mask),\n",
        "  {\n",
        "    'bands': ['sur_refl_b01', 'sur_refl_b04', 'sur_refl_b03'],\n",
        "    'min': -100,\n",
        "    'max': 2000\n",
        "  }, 'MOD09GA 143'\n",
        ")\n",
        "\n",
        "# Add a semi-transparent map layer that displays the clouds.\n",
        "Map.addLayer(\n",
        "    cloud.updateMask(cloud),\n",
        "    {'palette': 'FFFFFF', 'opacity': 0.8},\n",
        "    'clouds'\n",
        ")"
      ],
      "outputs": [],
      "execution_count": null
    },
    {
      "cell_type": "markdown",
      "metadata": {},
      "source": [
        "## Display the interactive map"
      ]
    },
    {
      "cell_type": "code",
      "metadata": {},
      "source": [
        "Map"
      ],
      "outputs": [],
      "execution_count": null
    }
  ],
  "metadata": {
    "anaconda-cloud": {},
    "kernelspec": {
      "display_name": "Python 3",
      "language": "python",
      "name": "python3"
    },
    "language_info": {
      "codemirror_mode": {
        "name": "ipython",
        "version": 3
      },
      "file_extension": ".py",
      "mimetype": "text/x-python",
      "name": "python",
      "nbconvert_exporter": "python",
      "pygments_lexer": "ipython3",
      "version": "3.6.1"
    }
  },
  "nbformat": 4,
  "nbformat_minor": 4
}