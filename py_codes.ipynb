{
 "cells": [
  {
   "cell_type": "markdown",
   "id": "47c45a15",
   "metadata": {},
   "source": [
    "Potly go map\n"
   ]
  },
  {
   "cell_type": "code",
   "execution_count": null,
   "id": "940edd15",
   "metadata": {},
   "outputs": [],
   "source": [
    "import plotly.graph_objects as go\n",
    "\n",
    "\n",
    "fig = go.Figure(data=go.Choropleth(\n",
    "    locations=st_ecp['state'], # Spatial coordinates\n",
    "    z = st_ecp['ecp_count'].astype(int), # Data to be color-coded\n",
    "    locationmode = 'USA-states', # set of locations match entries in `locations`\n",
    "    colorscale = 'Reds',\n",
    "    colorbar_title = \"Number of ECPs\"\n",
    "    \n",
    "))\n",
    "\n",
    "fig.update_layout(\n",
    "    title_text = \"ESP's by State\",\n",
    "    geo_scope='usa', # limite map scope to USA\n",
    ")\n",
    "\n",
    "fig.show()"
   ]
  },
  {
   "cell_type": "raw",
   "id": "df10b654",
   "metadata": {},
   "source": [
    "creating new variable using condition"
   ]
  },
  {
   "cell_type": "code",
   "execution_count": null,
   "id": "ec74265a",
   "metadata": {
    "scrolled": true
   },
   "outputs": [],
   "source": [
    "marlo['order_type'] = np.where(\n",
    "    marlo['Patient_Type']== 'One time Patient', 'One time Patient',\n",
    "    'Returning order'\n",
    ")"
   ]
  },
  {
   "cell_type": "code",
   "execution_count": null,
   "id": "bee341c1",
   "metadata": {},
   "outputs": [],
   "source": [
    "## subset pands\n",
    "\n",
    "df.loc[(df.var=='')]\n"
   ]
  },
  {
   "cell_type": "code",
   "execution_count": 1,
   "id": "6bc19fbb",
   "metadata": {},
   "outputs": [
    {
     "ename": "SyntaxError",
     "evalue": "invalid syntax (3353483027.py, line 4)",
     "output_type": "error",
     "traceback": [
      "\u001b[0;36m  Input \u001b[0;32mIn [1]\u001b[0;36m\u001b[0m\n\u001b[0;31m    For the count, maybe what you need is countplot\u001b[0m\n\u001b[0m        ^\u001b[0m\n\u001b[0;31mSyntaxError\u001b[0m\u001b[0;31m:\u001b[0m invalid syntax\n"
     ]
    }
   ],
   "source": [
    "## count plots\n",
    "import seaborn as sns\n",
    "sns.striplot('column1', 'column2', data=df)\n",
    "For the count, maybe what you need is countplot\n",
    "\n",
    "sns.countplot('column1', data=df)\n",
    "The equivalent pandas code is:\n",
    "\n",
    "df.groupby('column1').size().plot(kind='bar')"
   ]
  },
  {
   "cell_type": "markdown",
   "id": "2cf6d026-0408-48ab-ae2f-34f4e6272fc8",
   "metadata": {},
   "source": [
    "## seeaborn multi plot\n"
   ]
  },
  {
   "cell_type": "code",
   "execution_count": null,
   "id": "cc9fe675-5702-4fad-a466-d6cff756aa22",
   "metadata": {},
   "outputs": [],
   "source": [
    "img_band1 = img.read(1)"
   ]
  },
  {
   "cell_type": "code",
   "execution_count": null,
   "id": "9e0ebd98-5518-49f8-b0d8-355db5d57266",
   "metadata": {},
   "outputs": [],
   "source": [
    "fig = plit.figure (figsize = (10,10))\n",
    "ax1 = fig.add_subbplot(2,2,1)\n",
    "ax1 = imshow(img_band1, cmap = 'pink')\n",
    "ax2 = fig.add_subplot(2,2,2)\n",
    "ax2.imshow(img_band2, cmap = 'pink')"
   ]
  },
  {
   "cell_type": "code",
   "execution_count": null,
   "id": "96dc37d7-172c-46a3-b3f7-4e461a62b5b3",
   "metadata": {},
   "outputs": [],
   "source": []
  }
 ],
 "metadata": {
  "kernelspec": {
   "display_name": "Python 3 (ipykernel)",
   "language": "python",
   "name": "python3"
  },
  "language_info": {
   "codemirror_mode": {
    "name": "ipython",
    "version": 3
   },
   "file_extension": ".py",
   "mimetype": "text/x-python",
   "name": "python",
   "nbconvert_exporter": "python",
   "pygments_lexer": "ipython3",
   "version": "3.9.13"
  }
 },
 "nbformat": 4,
 "nbformat_minor": 5
}
