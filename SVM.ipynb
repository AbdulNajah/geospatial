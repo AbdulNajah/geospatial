{
 "cells": [
  {
   "cell_type": "code",
   "execution_count": 1,
   "id": "b22b84fa-6db9-4902-86e8-ccbac2c97ff5",
   "metadata": {},
   "outputs": [],
   "source": [
    "import ee\n",
    "import geemap\n",
    "import pandas as pd\n",
    "import numpy as np\n",
    "import os\n",
    "import geopandas as gpd"
   ]
  },
  {
   "cell_type": "code",
   "execution_count": 2,
   "id": "c61c22d4-27f8-4e5f-86db-fea78b6fcfeb",
   "metadata": {},
   "outputs": [],
   "source": [
    "try:\n",
    "        ee.Initialize()\n",
    "except Exception as e:\n",
    "        ee.Authenticate()\n",
    "        ee.Initialize()\n"
   ]
  },
  {
   "cell_type": "code",
   "execution_count": 3,
   "id": "b49c3d33-b059-425b-a7fb-d8bbae231f82",
   "metadata": {},
   "outputs": [],
   "source": [
    "os.chdir('/Users/najah/work/internships/meghna//LT05_L1TP_145044_20100428_20161016_01_T1')"
   ]
  },
  {
   "cell_type": "code",
   "execution_count": 4,
   "id": "5b99234f-2871-400e-b8ad-e0f674f218a4",
   "metadata": {},
   "outputs": [
    {
     "data": {
      "application/vnd.jupyter.widget-view+json": {
       "model_id": "e08c38bbb5b7478aba554cd4e787a06e",
       "version_major": 2,
       "version_minor": 0
      },
      "text/plain": [
       "Map(center=[23.101347181130787, 78.0196924881727], controls=(WidgetControl(options=['position', 'transparent_b…"
      ]
     },
     "metadata": {},
     "output_type": "display_data"
    }
   ],
   "source": [
    "## adding points from local machine\n",
    "Map = geemap.Map()\n",
    "points_shp = './145044_20100428_roi/145044_20100428_500points.random_points2/145044_20100428_500points.shp'\n",
    "points = geemap.shp_to_ee(points_shp)\n",
    "Map.addLayer(   points, {'color':'red'}, '500points')\n",
    "Map.centerObject(points,8)\n",
    "Map\n",
    " "
   ]
  },
  {
   "cell_type": "code",
   "execution_count": 5,
   "id": "54570227-c3b8-443b-8af9-aa7e68cfbead",
   "metadata": {},
   "outputs": [
    {
     "data": {
      "application/vnd.jupyter.widget-view+json": {
       "model_id": "e08c38bbb5b7478aba554cd4e787a06e",
       "version_major": 2,
       "version_minor": 0
      },
      "text/plain": [
       "Map(center=[23.101347181130787, 78.0196924881727], controls=(WidgetControl(options=['position', 'transparent_b…"
      ]
     },
     "metadata": {},
     "output_type": "display_data"
    }
   ],
   "source": [
    "## adding the landsat image\n",
    "\n",
    "image = ee.Image('LANDSAT/LT05/C01/T1_TOA/LT05_145044_20100428') \\\n",
    "            .select(['B1', 'B2', 'B3', 'B4', 'B5', 'B7'])\n",
    "\n",
    "Map.centerObject(image)\n",
    "\n",
    "rgbVis = {\n",
    "  'min':0,\n",
    "  'max' :0.4,\n",
    "  'bands' : ['B5', 'B4', 'B3'],\n",
    "  'gamma' : 1.2\n",
    "}\n",
    "\n",
    "Map.addLayer(image, rgbVis, 'original')\n",
    "Map"
   ]
  },
  {
   "cell_type": "code",
   "execution_count": 6,
   "id": "3fe34ee6-b174-4db2-aa60-d6c4260cb052",
   "metadata": {},
   "outputs": [],
   "source": [
    "# Use these bands for prediction.\n",
    "bands = ['B1', 'B2', 'B3', 'B4', 'B5',  'B7']\n",
    "\n",
    "# This property of the table stores the land cover labels.\n",
    "label = 'class'\n",
    "\n",
    "# Overlay the points on the imagery to get training.\n",
    "# sample = image.select(bands).sampleRegions(\n",
    "#     **{'collection': points, 'properties': [label], 'scale': 30}\n",
    "# )\n",
    "\n",
    "training = image.select(bands).sampleRegions(**{\n",
    "  'collection' : points,\n",
    "  'properties' : [label],\n",
    "  'scale': 30\n",
    "})"
   ]
  },
  {
   "cell_type": "markdown",
   "id": "62e5f67b-e89c-4687-9e1a-8b5d71c057d0",
   "metadata": {
    "tags": []
   },
   "source": [
    "## building the classifer\n",
    "Args:\n",
    "  decisionProcedure: The decision procedure to use for\n",
    "      classification. Either 'Voting' or 'Margin'. Not\n",
    "      used for regression.\n",
    "      \n",
    "  svmType: The SVM type. One of `C_SVC`, `NU_SVC`, `ONE_CLASS`,\n",
    "      `EPSILON_SVR` or `NU_SVR`.\n",
    "      \n",
    "  kernelType: The kernel type. One of LINEAR (u′×v), POLY\n",
    "      ((γ×u′×v + coef₀)ᵈᵉᵍʳᵉᵉ), RBF (exp(-γ×|u-v|²)) or\n",
    "      SIGMOID (tanh(γ×u′×v + coef₀)).\n",
    "      \n",
    "  shrinking: Whether to use shrinking heuristics.\n",
    "  degree: The degree of polynomial. Valid for POLY kernels.\n",
    "  \n",
    "  gamma: The gamma value in the kernel function. Defaults to the\n",
    "      reciprocal of the number of features. Valid for POLY, RBF\n",
    "      and SIGMOID kernels.\n",
    "      \n",
    "  coef0: The coef₀ value in the kernel function. Defaults to 0.\n",
    "      Valid for POLY and SIGMOID kernels.\n",
    "      \n",
    "  cost: The cost (C) parameter. Defaults to 1. Only valid for\n",
    "      C-SVC, epsilon-SVR, and nu-SVR.\n",
    "      \n",
    "  nu: The nu parameter. Defaults to 0.5. Only valid for nu-SVC, one-\n",
    "      class SVM, and nu-SVR.\n",
    "      \n",
    "  terminationEpsilon: The termination criterion\n",
    "      tolerance (e). Defaults to 0.001. Only valid\n",
    "      for epsilon-SVR.\n",
    "      \n",
    "  lossEpsilon: The epsilon in the loss function (p).\n",
    "      Defaults to 0.1. Only valid for epsilon-SVR.\n",
    "  oneClass: The class of the training data on which to train in\n",
    "      a one-class SVM.  Defaults to 0. Only valid for one-class\n",
    "      SVM.  Possible values are 0 and 1.  The classifier output\n",
    "      is binary (0/1) and will match this class value for the\n",
    "      data determined to be in the class.is binary (0/1) and will match this class value for the data determined to be in the class.mm\n",
    "      _"
   ]
  },
  {
   "cell_type": "markdown",
   "id": "c601a071-c4b4-4928-b497-fc634cd7d8aa",
   "metadata": {
    "tags": []
   },
   "source": [
    "classifier = ee.Classifier.smileRandomForest( numberOfTrees = 500, variablesPerSplit = 5).train(training, label, bands)"
   ]
  },
  {
   "cell_type": "code",
   "execution_count": 10,
   "id": "f83f5ed3-89ca-43e7-9f93-404c2bcc512f",
   "metadata": {},
   "outputs": [],
   "source": [
    "classifier  =ee.Classifier.libsvm( kernelType = 'RBF',gamma= 0.05,cost = 100).train(training, label, bands)"
   ]
  },
  {
   "cell_type": "code",
   "execution_count": 11,
   "id": "e814c798-4c84-437a-88f7-5402a068abe6",
   "metadata": {},
   "outputs": [],
   "source": [
    "result = image.select(bands).classify(classifier)"
   ]
  },
  {
   "cell_type": "code",
   "execution_count": 40,
   "id": "4337a2ad-ac57-4013-bc7a-1c890aa5b2b3",
   "metadata": {},
   "outputs": [
    {
     "data": {
      "application/vnd.jupyter.widget-view+json": {
       "model_id": "18148d5f45d24ae583cfa5f1e7bd2e21",
       "version_major": 2,
       "version_minor": 0
      },
      "text/plain": [
       "Map(center=[23.101347181130787, 78.0196924881727], controls=(WidgetControl(options=['position', 'transparent_b…"
      ]
     },
     "metadata": {},
     "output_type": "display_data"
    }
   ],
   "source": [
    "\n",
    "## result with custom palette\n",
    "palette = {\n",
    "  'min':0,\n",
    "  'max' :16,\n",
    "  'bands' : ['classification'],\n",
    "   'palette':['006400' ,'ffbb22', 'ffff4c', 'f096ff', 'fa0000', 'b4b4b4',\n",
    "            'f0f0f0', '0064c8', '0096a0', '00cf75', 'fae6a0']\n",
    "}\n",
    "\n",
    "Map.addLayer(result, palette, 'classfied')\n",
    "Map.centerObject(result)\n",
    "Map"
   ]
  },
  {
   "cell_type": "code",
   "execution_count": 12,
   "id": "7a48590d-f037-427e-b725-847af28bb5ee",
   "metadata": {},
   "outputs": [
    {
     "data": {
      "application/vnd.jupyter.widget-view+json": {
       "model_id": "e08c38bbb5b7478aba554cd4e787a06e",
       "version_major": 2,
       "version_minor": 0
      },
      "text/plain": [
       "Map(bottom=28758.0, center=[23.02918734674459, 78.04412841796876], controls=(WidgetControl(options=['position'…"
      ]
     },
     "metadata": {},
     "output_type": "display_data"
    }
   ],
   "source": [
    "\n",
    "\n",
    "# result with random palette\n",
    "Map.addLayer(result.randomVisualizer(), {}, 'classfied')\n",
    "Map.centerObject(result)\n",
    "Map"
   ]
  },
  {
   "cell_type": "code",
   "execution_count": null,
   "id": "245bfe67-1388-4981-b0ad-07f81ee5ba81",
   "metadata": {},
   "outputs": [],
   "source": []
  },
  {
   "cell_type": "code",
   "execution_count": 77,
   "id": "17166ade-4473-4415-827a-244ab0149de1",
   "metadata": {},
   "outputs": [],
   "source": [
    "\n",
    "test = image.sampleRegions(**{\n",
    "  'collection' : in_fc ,\n",
    "  'properties' : [label],\n",
    "  'scale': 30\n",
    "})\n",
    "\n",
    "\n",
    "def svm_function(svm_type,svm_cost):\n",
    "    classifier = ee.Classifier.libsvm(svmType='C_SVC',kernelType = svm_type, cost = svm_cost)\\\n",
    "        .train(training, label, bands)\n",
    "    return test\\\n",
    "    .classify(classifier) \\\n",
    "    .errorMatrix(label, 'classification') \\\n",
    "    .accuracy().getInfo()\n",
    "    \n",
    "\n"
   ]
  },
  {
   "cell_type": "code",
   "execution_count": 104,
   "id": "25c4b308-b99b-421a-af69-3af0c4eaecee",
   "metadata": {},
   "outputs": [],
   "source": [
    "svm_type = ['LINEAR','POLY','RBF']\n",
    "\n",
    "svm_cost = [.1, 10, 100,1000]\n",
    "\n",
    "\n",
    "import itertools\n",
    "vals = list(itertools.product(svm_type, svm_cost))\n"
   ]
  },
  {
   "cell_type": "code",
   "execution_count": 105,
   "id": "a68bfa5c-21fa-437f-8f7f-3dacd4ea935d",
   "metadata": {},
   "outputs": [
    {
     "data": {
      "text/plain": [
       "[('LINEAR', 0.1),\n",
       " ('LINEAR', 10),\n",
       " ('LINEAR', 100),\n",
       " ('LINEAR', 1000),\n",
       " ('POLY', 0.1),\n",
       " ('POLY', 10),\n",
       " ('POLY', 100),\n",
       " ('POLY', 1000),\n",
       " ('RBF', 0.1),\n",
       " ('RBF', 10),\n",
       " ('RBF', 100),\n",
       " ('RBF', 1000)]"
      ]
     },
     "execution_count": 105,
     "metadata": {},
     "output_type": "execute_result"
    }
   ],
   "source": [
    "vals"
   ]
  },
  {
   "cell_type": "code",
   "execution_count": 106,
   "id": "5260a855-464e-4cba-b419-8842cf645411",
   "metadata": {},
   "outputs": [
    {
     "data": {
      "text/plain": [
       "[0.1, 10, 100, 1000, 0.1, 10, 100, 1000, 0.1, 10, 100, 1000]"
      ]
     },
     "execution_count": 106,
     "metadata": {},
     "output_type": "execute_result"
    }
   ],
   "source": [
    "cost_split_list = []\n",
    "for i in range(len(vals)):\n",
    "    val = vals[i][1]\n",
    "    cost_split_list.append(val)\n",
    "cost_split_list "
   ]
  },
  {
   "cell_type": "code",
   "execution_count": 107,
   "id": "a241343b-06ac-41e3-b885-158f4cfdf4c8",
   "metadata": {},
   "outputs": [
    {
     "data": {
      "text/plain": [
       "['LINEAR',\n",
       " 'LINEAR',\n",
       " 'LINEAR',\n",
       " 'LINEAR',\n",
       " 'POLY',\n",
       " 'POLY',\n",
       " 'POLY',\n",
       " 'POLY',\n",
       " 'RBF',\n",
       " 'RBF',\n",
       " 'RBF',\n",
       " 'RBF']"
      ]
     },
     "execution_count": 107,
     "metadata": {},
     "output_type": "execute_result"
    }
   ],
   "source": [
    "svm_type_list = []\n",
    "for i in range(len(vals)):\n",
    "    val = vals[i][0]\n",
    "    svm_type_list.append(val)\n",
    "svm_type_list"
   ]
  },
  {
   "cell_type": "code",
   "execution_count": 108,
   "id": "bc36f65e-16ec-4890-936e-a34d2c5ca20d",
   "metadata": {},
   "outputs": [],
   "source": [
    "accs = list(map(svm_function, svm_type_list,cost_split_list ))"
   ]
  },
  {
   "cell_type": "code",
   "execution_count": 90,
   "id": "07f536aa-cdfc-4923-a639-e3b2cb0794fc",
   "metadata": {},
   "outputs": [
    {
     "data": {
      "text/plain": [
       "[0.1, 10, 100, 1000]"
      ]
     },
     "execution_count": 90,
     "metadata": {},
     "output_type": "execute_result"
    }
   ],
   "source": [
    "cost_split_list"
   ]
  },
  {
   "cell_type": "code",
   "execution_count": 109,
   "id": "c8b59f64-a8aa-4aa5-930a-ba00e2ef04f8",
   "metadata": {},
   "outputs": [
    {
     "data": {
      "text/plain": [
       "[0.36180904522613067,\n",
       " 0.5025125628140703,\n",
       " 0.5728643216080402,\n",
       " 0.5829145728643216,\n",
       " 0.36180904522613067,\n",
       " 0.36180904522613067,\n",
       " 0.36180904522613067,\n",
       " 0.36180904522613067,\n",
       " 0.36180904522613067,\n",
       " 0.36180904522613067,\n",
       " 0.36180904522613067,\n",
       " 0.4824120603015075]"
      ]
     },
     "execution_count": 109,
     "metadata": {},
     "output_type": "execute_result"
    }
   ],
   "source": [
    "accs"
   ]
  },
  {
   "cell_type": "markdown",
   "id": "506b1a99-ae24-4239-9d19-6102388de026",
   "metadata": {},
   "source": [
    "## Valdiation"
   ]
  },
  {
   "cell_type": "code",
   "execution_count": 18,
   "id": "4fb979c1-beff-426c-bb07-140dbe690df3",
   "metadata": {},
   "outputs": [],
   "source": [
    "\n",
    "in_shp = './145044_20100428_roi/145044_20100428_200points.random_points2/145044_20100428_200points.shp'\n"
   ]
  },
  {
   "cell_type": "code",
   "execution_count": 19,
   "id": "fb8ace0b-987d-4157-bf2a-adc15e4f8dad",
   "metadata": {},
   "outputs": [
    {
     "name": "stdout",
     "output_type": "stream",
     "text": [
      "Generating URL ...\n",
      "Downloading data from https://earthengine.googleapis.com/v1alpha/projects/earthengine-legacy/tables/317893e5c0313b65d22675a9286e88bc-e1131d1125bf8275737e7868eab89395:getFeatures\n",
      "Please wait ...\n",
      "Data downloaded to /Users/najah/work/internships/meghna/LT05_L1TP_145044_20100428_20161016_01_T1/145044_20100428_models/svm/145044_20100428_200points_validation.csv\n"
     ]
    },
    {
     "data": {
      "text/plain": [
       "11    73\n",
       "5     44\n",
       "1     17\n",
       "4     16\n",
       "13    13\n",
       "2     13\n",
       "15    10\n",
       "16     6\n",
       "17     5\n",
       "8      3\n",
       "Name: class, dtype: int64"
      ]
     },
     "execution_count": 19,
     "metadata": {},
     "output_type": "execute_result"
    }
   ],
   "source": [
    "in_fc = geemap.shp_to_ee(in_shp)\n",
    "\n",
    "\n",
    "out_csv = ('./145044_20100428_models/svm/145044_20100428_200points_validation.csv')\n",
    "geemap.extract_values_to_points(in_fc, result, out_csv)\n",
    "validation_df = pd.read_csv(out_csv)\n",
    "\n",
    "validation_df['class'].value_counts()"
   ]
  },
  {
   "cell_type": "code",
   "execution_count": 44,
   "id": "6dac590d-d029-4cc7-9b03-d4cf29261f9d",
   "metadata": {},
   "outputs": [
    {
     "data": {
      "text/plain": [
       "11.0    122\n",
       "5.0      68\n",
       "1.0       6\n",
       "8.0       3\n",
       "Name: first, dtype: int64"
      ]
     },
     "execution_count": 44,
     "metadata": {},
     "output_type": "execute_result"
    }
   ],
   "source": [
    "validation_df['first'].value_counts()"
   ]
  },
  {
   "cell_type": "code",
   "execution_count": 45,
   "id": "99de90e6-8fef-4bfe-91d9-1e07b163b7e8",
   "metadata": {},
   "outputs": [
    {
     "data": {
      "text/html": [
       "<div>\n",
       "<style scoped>\n",
       "    .dataframe tbody tr th:only-of-type {\n",
       "        vertical-align: middle;\n",
       "    }\n",
       "\n",
       "    .dataframe tbody tr th {\n",
       "        vertical-align: top;\n",
       "    }\n",
       "\n",
       "    .dataframe thead th {\n",
       "        text-align: right;\n",
       "    }\n",
       "</style>\n",
       "<table border=\"1\" class=\"dataframe\">\n",
       "  <thead>\n",
       "    <tr style=\"text-align: right;\">\n",
       "      <th>Predicted</th>\n",
       "      <th>1</th>\n",
       "      <th>2</th>\n",
       "      <th>4</th>\n",
       "      <th>5</th>\n",
       "      <th>8</th>\n",
       "      <th>11</th>\n",
       "      <th>13</th>\n",
       "      <th>15</th>\n",
       "      <th>16</th>\n",
       "    </tr>\n",
       "    <tr>\n",
       "      <th>Actual</th>\n",
       "      <th></th>\n",
       "      <th></th>\n",
       "      <th></th>\n",
       "      <th></th>\n",
       "      <th></th>\n",
       "      <th></th>\n",
       "      <th></th>\n",
       "      <th></th>\n",
       "      <th></th>\n",
       "    </tr>\n",
       "  </thead>\n",
       "  <tbody>\n",
       "    <tr>\n",
       "      <th>1</th>\n",
       "      <td>3</td>\n",
       "      <td>0</td>\n",
       "      <td>0</td>\n",
       "      <td>3</td>\n",
       "      <td>0</td>\n",
       "      <td>11</td>\n",
       "      <td>0</td>\n",
       "      <td>0</td>\n",
       "      <td>0</td>\n",
       "    </tr>\n",
       "    <tr>\n",
       "      <th>2</th>\n",
       "      <td>0</td>\n",
       "      <td>0</td>\n",
       "      <td>0</td>\n",
       "      <td>11</td>\n",
       "      <td>0</td>\n",
       "      <td>2</td>\n",
       "      <td>0</td>\n",
       "      <td>0</td>\n",
       "      <td>0</td>\n",
       "    </tr>\n",
       "    <tr>\n",
       "      <th>4</th>\n",
       "      <td>2</td>\n",
       "      <td>0</td>\n",
       "      <td>0</td>\n",
       "      <td>2</td>\n",
       "      <td>0</td>\n",
       "      <td>12</td>\n",
       "      <td>0</td>\n",
       "      <td>0</td>\n",
       "      <td>0</td>\n",
       "    </tr>\n",
       "    <tr>\n",
       "      <th>5</th>\n",
       "      <td>0</td>\n",
       "      <td>0</td>\n",
       "      <td>0</td>\n",
       "      <td>34</td>\n",
       "      <td>0</td>\n",
       "      <td>10</td>\n",
       "      <td>0</td>\n",
       "      <td>0</td>\n",
       "      <td>0</td>\n",
       "    </tr>\n",
       "    <tr>\n",
       "      <th>8</th>\n",
       "      <td>0</td>\n",
       "      <td>0</td>\n",
       "      <td>0</td>\n",
       "      <td>0</td>\n",
       "      <td>2</td>\n",
       "      <td>1</td>\n",
       "      <td>0</td>\n",
       "      <td>0</td>\n",
       "      <td>0</td>\n",
       "    </tr>\n",
       "    <tr>\n",
       "      <th>11</th>\n",
       "      <td>0</td>\n",
       "      <td>0</td>\n",
       "      <td>0</td>\n",
       "      <td>10</td>\n",
       "      <td>1</td>\n",
       "      <td>61</td>\n",
       "      <td>0</td>\n",
       "      <td>0</td>\n",
       "      <td>0</td>\n",
       "    </tr>\n",
       "    <tr>\n",
       "      <th>13</th>\n",
       "      <td>0</td>\n",
       "      <td>0</td>\n",
       "      <td>0</td>\n",
       "      <td>6</td>\n",
       "      <td>0</td>\n",
       "      <td>7</td>\n",
       "      <td>0</td>\n",
       "      <td>0</td>\n",
       "      <td>0</td>\n",
       "    </tr>\n",
       "    <tr>\n",
       "      <th>15</th>\n",
       "      <td>1</td>\n",
       "      <td>0</td>\n",
       "      <td>0</td>\n",
       "      <td>0</td>\n",
       "      <td>0</td>\n",
       "      <td>9</td>\n",
       "      <td>0</td>\n",
       "      <td>0</td>\n",
       "      <td>0</td>\n",
       "    </tr>\n",
       "    <tr>\n",
       "      <th>16</th>\n",
       "      <td>0</td>\n",
       "      <td>0</td>\n",
       "      <td>0</td>\n",
       "      <td>1</td>\n",
       "      <td>0</td>\n",
       "      <td>5</td>\n",
       "      <td>0</td>\n",
       "      <td>0</td>\n",
       "      <td>0</td>\n",
       "    </tr>\n",
       "  </tbody>\n",
       "</table>\n",
       "</div>"
      ],
      "text/plain": [
       "Predicted  1   2   4   5   8   11  13  15  16\n",
       "Actual                                       \n",
       "1           3   0   0   3   0  11   0   0   0\n",
       "2           0   0   0  11   0   2   0   0   0\n",
       "4           2   0   0   2   0  12   0   0   0\n",
       "5           0   0   0  34   0  10   0   0   0\n",
       "8           0   0   0   0   2   1   0   0   0\n",
       "11          0   0   0  10   1  61   0   0   0\n",
       "13          0   0   0   6   0   7   0   0   0\n",
       "15          1   0   0   0   0   9   0   0   0\n",
       "16          0   0   0   1   0   5   0   0   0"
      ]
     },
     "execution_count": 45,
     "metadata": {},
     "output_type": "execute_result"
    }
   ],
   "source": [
    "cf = pd.crosstab( validation_df['class'],validation_df['first'], colnames=['Predicted'],rownames=['Actual'], margins=True).reindex(columns=[1,2,4,5,8,11,13,15,16],index=[1,2,4,5,8,11,13,15,16], fill_value=0)\n",
    "cf"
   ]
  },
  {
   "cell_type": "code",
   "execution_count": 46,
   "id": "2d83a080-4967-462e-a3c7-b14b4d22d901",
   "metadata": {},
   "outputs": [
    {
     "data": {
      "text/plain": [
       "0.5154639175257731"
      ]
     },
     "execution_count": 46,
     "metadata": {},
     "output_type": "execute_result"
    }
   ],
   "source": [
    "np.diag(cf).sum() / cf.to_numpy().sum()"
   ]
  },
  {
   "cell_type": "code",
   "execution_count": null,
   "id": "4a6cd8d3-da2d-4a2b-9e0a-561070d86ba1",
   "metadata": {},
   "outputs": [],
   "source": []
  }
 ],
 "metadata": {
  "kernelspec": {
   "display_name": "Python 3 (ipykernel)",
   "language": "python",
   "name": "python3"
  },
  "language_info": {
   "codemirror_mode": {
    "name": "ipython",
    "version": 3
   },
   "file_extension": ".py",
   "mimetype": "text/x-python",
   "name": "python",
   "nbconvert_exporter": "python",
   "pygments_lexer": "ipython3",
   "version": "3.9.13"
  },
  "vscode": {
   "interpreter": {
    "hash": "2126f3749b033fcaec5f579cc59f7440bbfc52770977e1699f207b559b04f8d8"
   }
  }
 },
 "nbformat": 4,
 "nbformat_minor": 5
}
