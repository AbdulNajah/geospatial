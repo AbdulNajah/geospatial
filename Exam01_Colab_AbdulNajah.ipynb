{
 "cells": [
  {
   "cell_type": "markdown",
   "id": "ea4d36a0-6176-4b78-a2f6-e66d55868410",
   "metadata": {},
   "source": [
    "## Q1"
   ]
  },
  {
   "cell_type": "code",
   "execution_count": 25,
   "id": "a1d68417-23a2-481b-8173-7041bc39efc0",
   "metadata": {},
   "outputs": [],
   "source": [
    "import pandas as pd\n",
    "import numpy as np"
   ]
  },
  {
   "cell_type": "code",
   "execution_count": 26,
   "id": "7036b351-2372-4b24-b3c1-8522bbf580a8",
   "metadata": {},
   "outputs": [],
   "source": [
    "df = pd.read_csv('/Users/najah/academics/ashoka/semester_8/AI&DS/assignments/Churn_Modelling.csv')"
   ]
  },
  {
   "cell_type": "code",
   "execution_count": 27,
   "id": "3091decf-38d8-4618-8283-d5fd149ec292",
   "metadata": {},
   "outputs": [
    {
     "data": {
      "text/html": [
       "<div>\n",
       "<style scoped>\n",
       "    .dataframe tbody tr th:only-of-type {\n",
       "        vertical-align: middle;\n",
       "    }\n",
       "\n",
       "    .dataframe tbody tr th {\n",
       "        vertical-align: top;\n",
       "    }\n",
       "\n",
       "    .dataframe thead th {\n",
       "        text-align: right;\n",
       "    }\n",
       "</style>\n",
       "<table border=\"1\" class=\"dataframe\">\n",
       "  <thead>\n",
       "    <tr style=\"text-align: right;\">\n",
       "      <th></th>\n",
       "      <th>RowNumber</th>\n",
       "      <th>CustomerId</th>\n",
       "      <th>Surname</th>\n",
       "      <th>CreditScore</th>\n",
       "      <th>Geography</th>\n",
       "      <th>Gender</th>\n",
       "      <th>Age</th>\n",
       "      <th>Tenure</th>\n",
       "      <th>Balance</th>\n",
       "      <th>NumOfProducts</th>\n",
       "      <th>HasCrCard</th>\n",
       "      <th>IsActiveMember</th>\n",
       "      <th>EstimatedSalary</th>\n",
       "      <th>Exited</th>\n",
       "    </tr>\n",
       "  </thead>\n",
       "  <tbody>\n",
       "    <tr>\n",
       "      <th>0</th>\n",
       "      <td>1</td>\n",
       "      <td>15634602</td>\n",
       "      <td>Hargrave</td>\n",
       "      <td>619</td>\n",
       "      <td>France</td>\n",
       "      <td>Female</td>\n",
       "      <td>42</td>\n",
       "      <td>2</td>\n",
       "      <td>0.00</td>\n",
       "      <td>1</td>\n",
       "      <td>1</td>\n",
       "      <td>1</td>\n",
       "      <td>101348.88</td>\n",
       "      <td>1</td>\n",
       "    </tr>\n",
       "    <tr>\n",
       "      <th>1</th>\n",
       "      <td>2</td>\n",
       "      <td>15647311</td>\n",
       "      <td>Hill</td>\n",
       "      <td>608</td>\n",
       "      <td>Spain</td>\n",
       "      <td>Female</td>\n",
       "      <td>41</td>\n",
       "      <td>1</td>\n",
       "      <td>83807.86</td>\n",
       "      <td>1</td>\n",
       "      <td>0</td>\n",
       "      <td>1</td>\n",
       "      <td>112542.58</td>\n",
       "      <td>0</td>\n",
       "    </tr>\n",
       "    <tr>\n",
       "      <th>2</th>\n",
       "      <td>3</td>\n",
       "      <td>15619304</td>\n",
       "      <td>Onio</td>\n",
       "      <td>502</td>\n",
       "      <td>France</td>\n",
       "      <td>Female</td>\n",
       "      <td>42</td>\n",
       "      <td>8</td>\n",
       "      <td>159660.80</td>\n",
       "      <td>3</td>\n",
       "      <td>1</td>\n",
       "      <td>0</td>\n",
       "      <td>113931.57</td>\n",
       "      <td>1</td>\n",
       "    </tr>\n",
       "    <tr>\n",
       "      <th>3</th>\n",
       "      <td>4</td>\n",
       "      <td>15701354</td>\n",
       "      <td>Boni</td>\n",
       "      <td>699</td>\n",
       "      <td>France</td>\n",
       "      <td>Female</td>\n",
       "      <td>39</td>\n",
       "      <td>1</td>\n",
       "      <td>0.00</td>\n",
       "      <td>2</td>\n",
       "      <td>0</td>\n",
       "      <td>0</td>\n",
       "      <td>93826.63</td>\n",
       "      <td>0</td>\n",
       "    </tr>\n",
       "    <tr>\n",
       "      <th>4</th>\n",
       "      <td>5</td>\n",
       "      <td>15737888</td>\n",
       "      <td>Mitchell</td>\n",
       "      <td>850</td>\n",
       "      <td>Spain</td>\n",
       "      <td>Female</td>\n",
       "      <td>43</td>\n",
       "      <td>2</td>\n",
       "      <td>125510.82</td>\n",
       "      <td>1</td>\n",
       "      <td>1</td>\n",
       "      <td>1</td>\n",
       "      <td>79084.10</td>\n",
       "      <td>0</td>\n",
       "    </tr>\n",
       "  </tbody>\n",
       "</table>\n",
       "</div>"
      ],
      "text/plain": [
       "   RowNumber  CustomerId   Surname  CreditScore Geography  Gender  Age  \\\n",
       "0          1    15634602  Hargrave          619    France  Female   42   \n",
       "1          2    15647311      Hill          608     Spain  Female   41   \n",
       "2          3    15619304      Onio          502    France  Female   42   \n",
       "3          4    15701354      Boni          699    France  Female   39   \n",
       "4          5    15737888  Mitchell          850     Spain  Female   43   \n",
       "\n",
       "   Tenure    Balance  NumOfProducts  HasCrCard  IsActiveMember  \\\n",
       "0       2       0.00              1          1               1   \n",
       "1       1   83807.86              1          0               1   \n",
       "2       8  159660.80              3          1               0   \n",
       "3       1       0.00              2          0               0   \n",
       "4       2  125510.82              1          1               1   \n",
       "\n",
       "   EstimatedSalary  Exited  \n",
       "0        101348.88       1  \n",
       "1        112542.58       0  \n",
       "2        113931.57       1  \n",
       "3         93826.63       0  \n",
       "4         79084.10       0  "
      ]
     },
     "execution_count": 27,
     "metadata": {},
     "output_type": "execute_result"
    }
   ],
   "source": [
    "df.head()"
   ]
  },
  {
   "cell_type": "markdown",
   "id": "f04d3d88-84ad-417c-b075-6fb74a132c84",
   "metadata": {},
   "source": [
    "1.\tHow many customers have defaulted (exit status = 1)?"
   ]
  },
  {
   "cell_type": "code",
   "execution_count": 28,
   "id": "cb8fd43e-ec44-418b-9d0a-5133594a08c2",
   "metadata": {},
   "outputs": [
    {
     "data": {
      "text/plain": [
       "2037"
      ]
     },
     "execution_count": 28,
     "metadata": {},
     "output_type": "execute_result"
    }
   ],
   "source": [
    "len(df[df['Exited']==1])"
   ]
  },
  {
   "cell_type": "markdown",
   "id": "6be09161-0b94-4000-9b7a-907f71becf83",
   "metadata": {},
   "source": [
    "2.\tHow many customers are MALE and have defaulted (exit status = 1)?"
   ]
  },
  {
   "cell_type": "code",
   "execution_count": 29,
   "id": "5622f335-5259-48bc-8d9e-c0ee6df96e8e",
   "metadata": {},
   "outputs": [
    {
     "data": {
      "text/plain": [
       "898"
      ]
     },
     "execution_count": 29,
     "metadata": {},
     "output_type": "execute_result"
    }
   ],
   "source": [
    "len(df[(df['Exited']==1) & (df['Gender']=='Male')] )"
   ]
  },
  {
   "cell_type": "markdown",
   "id": "609c9b62-b5e1-41af-87b3-8ae0bcce6e0c",
   "metadata": {},
   "source": [
    "3.\tHow many customers who have defaulted (exit status = 1) are from SPAIN and FEMALE?"
   ]
  },
  {
   "cell_type": "code",
   "execution_count": 30,
   "id": "d15c6586-33c2-4782-ac0d-853e89e081f3",
   "metadata": {},
   "outputs": [
    {
     "data": {
      "text/plain": [
       "231"
      ]
     },
     "execution_count": 30,
     "metadata": {},
     "output_type": "execute_result"
    }
   ],
   "source": [
    "len(df[(df['Exited']==1) & (df['Gender']=='Female')& (df['Geography']=='Spain')] )"
   ]
  },
  {
   "cell_type": "markdown",
   "id": "ad038717-0401-4fb7-824c-3ffdf1bb8f72",
   "metadata": {},
   "source": [
    "## Q2\n"
   ]
  },
  {
   "cell_type": "markdown",
   "id": "6a708ff9-24d0-4d68-8218-52040605b31b",
   "metadata": {},
   "source": [
    "1.\tCreate a dataframe using dictionary in Python for the following data. The data frame should look exactly as shown below. Note the first and last name have been separated by a blankm"
   ]
  },
  {
   "cell_type": "code",
   "execution_count": 31,
   "id": "a75d6be7-3772-44a5-8d64-35b0ba9053f6",
   "metadata": {},
   "outputs": [
    {
     "data": {
      "text/html": [
       "<div>\n",
       "<style scoped>\n",
       "    .dataframe tbody tr th:only-of-type {\n",
       "        vertical-align: middle;\n",
       "    }\n",
       "\n",
       "    .dataframe tbody tr th {\n",
       "        vertical-align: top;\n",
       "    }\n",
       "\n",
       "    .dataframe thead th {\n",
       "        text-align: right;\n",
       "    }\n",
       "</style>\n",
       "<table border=\"1\" class=\"dataframe\">\n",
       "  <thead>\n",
       "    <tr style=\"text-align: right;\">\n",
       "      <th></th>\n",
       "      <th>Name</th>\n",
       "      <th>Marks</th>\n",
       "    </tr>\n",
       "  </thead>\n",
       "  <tbody>\n",
       "    <tr>\n",
       "      <th>0</th>\n",
       "      <td>ram ji</td>\n",
       "      <td>80</td>\n",
       "    </tr>\n",
       "    <tr>\n",
       "      <th>1</th>\n",
       "      <td>santha banta</td>\n",
       "      <td>30</td>\n",
       "    </tr>\n",
       "    <tr>\n",
       "      <th>2</th>\n",
       "      <td>peppa pig</td>\n",
       "      <td>70</td>\n",
       "    </tr>\n",
       "    <tr>\n",
       "      <th>3</th>\n",
       "      <td>santa claus</td>\n",
       "      <td>20</td>\n",
       "    </tr>\n",
       "    <tr>\n",
       "      <th>4</th>\n",
       "      <td>pepsi coke</td>\n",
       "      <td>60</td>\n",
       "    </tr>\n",
       "  </tbody>\n",
       "</table>\n",
       "</div>"
      ],
      "text/plain": [
       "           Name  Marks\n",
       "0        ram ji     80\n",
       "1  santha banta     30\n",
       "2     peppa pig     70\n",
       "3   santa claus     20\n",
       "4    pepsi coke     60"
      ]
     },
     "execution_count": 31,
     "metadata": {},
     "output_type": "execute_result"
    }
   ],
   "source": [
    "dict1 = {\n",
    "    'Name': ['ram ji', 'santha banta', 'peppa pig', 'santa claus', 'pepsi coke'],\n",
    "    'Marks': [80,30,70,20,60]\n",
    "}\n",
    "df1 = pd.DataFrame(dict1)\n",
    "\n",
    "df1"
   ]
  },
  {
   "cell_type": "markdown",
   "id": "7b65f2bc-63f4-40e1-ae92-c4b9cdea0f72",
   "metadata": {},
   "source": [
    "2.\tWrite Python code to assign students who have got less than 60 marks the grade “Fail”. Rest should be assigned “Pass”. This assignment should be in a new column whose column header is “Grade”"
   ]
  },
  {
   "cell_type": "code",
   "execution_count": 32,
   "id": "e43dd44a-673d-4a61-a100-f28ced5fbde5",
   "metadata": {},
   "outputs": [],
   "source": [
    "df1['Grade'] = ['Fail' if x<60 else 'Pass' for x in df1['Marks']]"
   ]
  },
  {
   "cell_type": "code",
   "execution_count": 33,
   "id": "4cb623c0-dfd3-436e-94a8-61d9da64b84d",
   "metadata": {},
   "outputs": [
    {
     "data": {
      "text/html": [
       "<div>\n",
       "<style scoped>\n",
       "    .dataframe tbody tr th:only-of-type {\n",
       "        vertical-align: middle;\n",
       "    }\n",
       "\n",
       "    .dataframe tbody tr th {\n",
       "        vertical-align: top;\n",
       "    }\n",
       "\n",
       "    .dataframe thead th {\n",
       "        text-align: right;\n",
       "    }\n",
       "</style>\n",
       "<table border=\"1\" class=\"dataframe\">\n",
       "  <thead>\n",
       "    <tr style=\"text-align: right;\">\n",
       "      <th></th>\n",
       "      <th>Name</th>\n",
       "      <th>Marks</th>\n",
       "      <th>Grade</th>\n",
       "    </tr>\n",
       "  </thead>\n",
       "  <tbody>\n",
       "    <tr>\n",
       "      <th>0</th>\n",
       "      <td>ram ji</td>\n",
       "      <td>80</td>\n",
       "      <td>Pass</td>\n",
       "    </tr>\n",
       "    <tr>\n",
       "      <th>1</th>\n",
       "      <td>santha banta</td>\n",
       "      <td>30</td>\n",
       "      <td>Fail</td>\n",
       "    </tr>\n",
       "    <tr>\n",
       "      <th>2</th>\n",
       "      <td>peppa pig</td>\n",
       "      <td>70</td>\n",
       "      <td>Pass</td>\n",
       "    </tr>\n",
       "    <tr>\n",
       "      <th>3</th>\n",
       "      <td>santa claus</td>\n",
       "      <td>20</td>\n",
       "      <td>Fail</td>\n",
       "    </tr>\n",
       "    <tr>\n",
       "      <th>4</th>\n",
       "      <td>pepsi coke</td>\n",
       "      <td>60</td>\n",
       "      <td>Pass</td>\n",
       "    </tr>\n",
       "  </tbody>\n",
       "</table>\n",
       "</div>"
      ],
      "text/plain": [
       "           Name  Marks Grade\n",
       "0        ram ji     80  Pass\n",
       "1  santha banta     30  Fail\n",
       "2     peppa pig     70  Pass\n",
       "3   santa claus     20  Fail\n",
       "4    pepsi coke     60  Pass"
      ]
     },
     "execution_count": 33,
     "metadata": {},
     "output_type": "execute_result"
    }
   ],
   "source": [
    "df1"
   ]
  },
  {
   "cell_type": "markdown",
   "id": "52b2065a-4afb-4ea7-82ea-23dd10a058ec",
   "metadata": {},
   "source": [
    "3.\tSeparate the first name and last name in the data frame in two separate columns. The new two columns should read as First Name and Last Name"
   ]
  },
  {
   "cell_type": "code",
   "execution_count": 34,
   "id": "b909413d-9578-4c6d-96d2-b4f51de212eb",
   "metadata": {},
   "outputs": [
    {
     "data": {
      "text/html": [
       "<div>\n",
       "<style scoped>\n",
       "    .dataframe tbody tr th:only-of-type {\n",
       "        vertical-align: middle;\n",
       "    }\n",
       "\n",
       "    .dataframe tbody tr th {\n",
       "        vertical-align: top;\n",
       "    }\n",
       "\n",
       "    .dataframe thead th {\n",
       "        text-align: right;\n",
       "    }\n",
       "</style>\n",
       "<table border=\"1\" class=\"dataframe\">\n",
       "  <thead>\n",
       "    <tr style=\"text-align: right;\">\n",
       "      <th></th>\n",
       "      <th>First Name</th>\n",
       "      <th>Last Name</th>\n",
       "    </tr>\n",
       "  </thead>\n",
       "  <tbody>\n",
       "    <tr>\n",
       "      <th>0</th>\n",
       "      <td>ram</td>\n",
       "      <td>ji</td>\n",
       "    </tr>\n",
       "    <tr>\n",
       "      <th>1</th>\n",
       "      <td>santha</td>\n",
       "      <td>banta</td>\n",
       "    </tr>\n",
       "    <tr>\n",
       "      <th>2</th>\n",
       "      <td>peppa</td>\n",
       "      <td>pig</td>\n",
       "    </tr>\n",
       "    <tr>\n",
       "      <th>3</th>\n",
       "      <td>santa</td>\n",
       "      <td>claus</td>\n",
       "    </tr>\n",
       "    <tr>\n",
       "      <th>4</th>\n",
       "      <td>pepsi</td>\n",
       "      <td>coke</td>\n",
       "    </tr>\n",
       "  </tbody>\n",
       "</table>\n",
       "</div>"
      ],
      "text/plain": [
       "  First Name Last Name\n",
       "0        ram        ji\n",
       "1     santha     banta\n",
       "2      peppa       pig\n",
       "3      santa     claus\n",
       "4      pepsi      coke"
      ]
     },
     "execution_count": 34,
     "metadata": {},
     "output_type": "execute_result"
    }
   ],
   "source": [
    "df2 = df1['Name'].str.split(' ', expand=True).rename( columns = {0: 'First Name', 1: 'Last Name'})\n",
    "df2"
   ]
  },
  {
   "cell_type": "markdown",
   "id": "fb9b7183-69ea-4fa2-8a62-bbdc6596de24",
   "metadata": {},
   "source": [
    "4.\tEnsure that only last names are CAPITALIZED"
   ]
  },
  {
   "cell_type": "code",
   "execution_count": 35,
   "id": "763c84db-9ea3-4774-b03d-aec2a2f4e40c",
   "metadata": {},
   "outputs": [
    {
     "data": {
      "text/html": [
       "<div>\n",
       "<style scoped>\n",
       "    .dataframe tbody tr th:only-of-type {\n",
       "        vertical-align: middle;\n",
       "    }\n",
       "\n",
       "    .dataframe tbody tr th {\n",
       "        vertical-align: top;\n",
       "    }\n",
       "\n",
       "    .dataframe thead th {\n",
       "        text-align: right;\n",
       "    }\n",
       "</style>\n",
       "<table border=\"1\" class=\"dataframe\">\n",
       "  <thead>\n",
       "    <tr style=\"text-align: right;\">\n",
       "      <th></th>\n",
       "      <th>First Name</th>\n",
       "      <th>Last Name</th>\n",
       "    </tr>\n",
       "  </thead>\n",
       "  <tbody>\n",
       "    <tr>\n",
       "      <th>0</th>\n",
       "      <td>ram</td>\n",
       "      <td>JI</td>\n",
       "    </tr>\n",
       "    <tr>\n",
       "      <th>1</th>\n",
       "      <td>santha</td>\n",
       "      <td>BANTA</td>\n",
       "    </tr>\n",
       "    <tr>\n",
       "      <th>2</th>\n",
       "      <td>peppa</td>\n",
       "      <td>PIG</td>\n",
       "    </tr>\n",
       "    <tr>\n",
       "      <th>3</th>\n",
       "      <td>santa</td>\n",
       "      <td>CLAUS</td>\n",
       "    </tr>\n",
       "    <tr>\n",
       "      <th>4</th>\n",
       "      <td>pepsi</td>\n",
       "      <td>COKE</td>\n",
       "    </tr>\n",
       "  </tbody>\n",
       "</table>\n",
       "</div>"
      ],
      "text/plain": [
       "  First Name Last Name\n",
       "0        ram        JI\n",
       "1     santha     BANTA\n",
       "2      peppa       PIG\n",
       "3      santa     CLAUS\n",
       "4      pepsi      COKE"
      ]
     },
     "execution_count": 35,
     "metadata": {},
     "output_type": "execute_result"
    }
   ],
   "source": [
    "df2['Last Name']=df2['Last Name'].str.upper()\n",
    "df2"
   ]
  },
  {
   "cell_type": "markdown",
   "id": "5fef5591-d65d-48ac-8b25-0da09cace1e0",
   "metadata": {},
   "source": [
    "5.\tAfter creating the dataframe convert it to a csv file by the name “Data” and download it. Before downloading, check that the following columns have been created\n",
    "First Name, Last Name, Marks, Grade\n"
   ]
  },
  {
   "cell_type": "code",
   "execution_count": 36,
   "id": "b474cbea-0e99-4643-b90d-5dcb220b6084",
   "metadata": {},
   "outputs": [
    {
     "data": {
      "text/html": [
       "<div>\n",
       "<style scoped>\n",
       "    .dataframe tbody tr th:only-of-type {\n",
       "        vertical-align: middle;\n",
       "    }\n",
       "\n",
       "    .dataframe tbody tr th {\n",
       "        vertical-align: top;\n",
       "    }\n",
       "\n",
       "    .dataframe thead th {\n",
       "        text-align: right;\n",
       "    }\n",
       "</style>\n",
       "<table border=\"1\" class=\"dataframe\">\n",
       "  <thead>\n",
       "    <tr style=\"text-align: right;\">\n",
       "      <th></th>\n",
       "      <th>First Name</th>\n",
       "      <th>Last Name</th>\n",
       "      <th>Marks</th>\n",
       "      <th>Grade</th>\n",
       "    </tr>\n",
       "  </thead>\n",
       "  <tbody>\n",
       "    <tr>\n",
       "      <th>0</th>\n",
       "      <td>ram</td>\n",
       "      <td>JI</td>\n",
       "      <td>80</td>\n",
       "      <td>Pass</td>\n",
       "    </tr>\n",
       "    <tr>\n",
       "      <th>1</th>\n",
       "      <td>santha</td>\n",
       "      <td>BANTA</td>\n",
       "      <td>30</td>\n",
       "      <td>Fail</td>\n",
       "    </tr>\n",
       "    <tr>\n",
       "      <th>2</th>\n",
       "      <td>peppa</td>\n",
       "      <td>PIG</td>\n",
       "      <td>70</td>\n",
       "      <td>Pass</td>\n",
       "    </tr>\n",
       "    <tr>\n",
       "      <th>3</th>\n",
       "      <td>santa</td>\n",
       "      <td>CLAUS</td>\n",
       "      <td>20</td>\n",
       "      <td>Fail</td>\n",
       "    </tr>\n",
       "    <tr>\n",
       "      <th>4</th>\n",
       "      <td>pepsi</td>\n",
       "      <td>COKE</td>\n",
       "      <td>60</td>\n",
       "      <td>Pass</td>\n",
       "    </tr>\n",
       "  </tbody>\n",
       "</table>\n",
       "</div>"
      ],
      "text/plain": [
       "  First Name Last Name  Marks Grade\n",
       "0        ram        JI     80  Pass\n",
       "1     santha     BANTA     30  Fail\n",
       "2      peppa       PIG     70  Pass\n",
       "3      santa     CLAUS     20  Fail\n",
       "4      pepsi      COKE     60  Pass"
      ]
     },
     "execution_count": 36,
     "metadata": {},
     "output_type": "execute_result"
    }
   ],
   "source": [
    "df3 = pd.concat([df2,df1[['Marks', 'Grade']]], axis=1)\n",
    "df3\n"
   ]
  },
  {
   "cell_type": "code",
   "execution_count": 37,
   "id": "29135f48-9ed9-44c3-8d2c-b82864cb30f0",
   "metadata": {},
   "outputs": [],
   "source": [
    "df3.to_csv('./Data.csv',index=False)"
   ]
  },
  {
   "cell_type": "code",
   "execution_count": 38,
   "id": "981b7ca0-9720-4260-abdb-2c05f5c146e1",
   "metadata": {},
   "outputs": [
    {
     "data": {
      "text/html": [
       "<div>\n",
       "<style scoped>\n",
       "    .dataframe tbody tr th:only-of-type {\n",
       "        vertical-align: middle;\n",
       "    }\n",
       "\n",
       "    .dataframe tbody tr th {\n",
       "        vertical-align: top;\n",
       "    }\n",
       "\n",
       "    .dataframe thead th {\n",
       "        text-align: right;\n",
       "    }\n",
       "</style>\n",
       "<table border=\"1\" class=\"dataframe\">\n",
       "  <thead>\n",
       "    <tr style=\"text-align: right;\">\n",
       "      <th></th>\n",
       "      <th>First Name</th>\n",
       "      <th>Last Name</th>\n",
       "      <th>Marks</th>\n",
       "      <th>Grade</th>\n",
       "    </tr>\n",
       "  </thead>\n",
       "  <tbody>\n",
       "    <tr>\n",
       "      <th>0</th>\n",
       "      <td>ram</td>\n",
       "      <td>JI</td>\n",
       "      <td>80</td>\n",
       "      <td>Pass</td>\n",
       "    </tr>\n",
       "    <tr>\n",
       "      <th>1</th>\n",
       "      <td>santha</td>\n",
       "      <td>BANTA</td>\n",
       "      <td>30</td>\n",
       "      <td>Fail</td>\n",
       "    </tr>\n",
       "    <tr>\n",
       "      <th>2</th>\n",
       "      <td>peppa</td>\n",
       "      <td>PIG</td>\n",
       "      <td>70</td>\n",
       "      <td>Pass</td>\n",
       "    </tr>\n",
       "    <tr>\n",
       "      <th>3</th>\n",
       "      <td>santa</td>\n",
       "      <td>CLAUS</td>\n",
       "      <td>20</td>\n",
       "      <td>Fail</td>\n",
       "    </tr>\n",
       "    <tr>\n",
       "      <th>4</th>\n",
       "      <td>pepsi</td>\n",
       "      <td>COKE</td>\n",
       "      <td>60</td>\n",
       "      <td>Pass</td>\n",
       "    </tr>\n",
       "  </tbody>\n",
       "</table>\n",
       "</div>"
      ],
      "text/plain": [
       "  First Name Last Name  Marks Grade\n",
       "0        ram        JI     80  Pass\n",
       "1     santha     BANTA     30  Fail\n",
       "2      peppa       PIG     70  Pass\n",
       "3      santa     CLAUS     20  Fail\n",
       "4      pepsi      COKE     60  Pass"
      ]
     },
     "execution_count": 38,
     "metadata": {},
     "output_type": "execute_result"
    }
   ],
   "source": [
    "data = pd.read_csv('./Data.csv')\n",
    "data"
   ]
  },
  {
   "cell_type": "markdown",
   "id": "828de445-e9b8-4fb6-b1b1-f75be63494f1",
   "metadata": {},
   "source": [
    "6.\tMake a bar chart with the x-axis being the name and y-axis being the marks. The bar chart should have X label and Y label. It should have a title."
   ]
  },
  {
   "cell_type": "code",
   "execution_count": 39,
   "id": "5b7b17c0-e45f-4f24-904c-502e485b88cd",
   "metadata": {},
   "outputs": [],
   "source": [
    "import matplotlib.pyplot as plt"
   ]
  },
  {
   "cell_type": "code",
   "execution_count": 40,
   "id": "5e640d37-7a0c-45d5-b151-17090709d22e",
   "metadata": {},
   "outputs": [],
   "source": [
    "data['Name']= data['First Name'] + \" \"+ data['Last Name']"
   ]
  },
  {
   "cell_type": "code",
   "execution_count": 41,
   "id": "7cde3520-9250-4cdf-b2cf-455a8c604c7c",
   "metadata": {},
   "outputs": [
    {
     "data": {
      "image/png": "[encoded data removed]",
      "text/plain": [
       "<Figure size 1000x500 with 1 Axes>"
      ]
     },
     "metadata": {},
     "output_type": "display_data"
    }
   ],
   "source": [
    "plt.figure(figsize = (10,5))\n",
    "plt.bar(x = data['Name'], height = data['Marks'])\n",
    "plt.xlabel('Name')\n",
    "plt.ylabel('Marks')\n",
    "plt.title('Student Scores')\n",
    "plt.show()"
   ]
  },
  {
   "cell_type": "markdown",
   "id": "d42d8da3-c004-49c4-86b5-db88f9f763f0",
   "metadata": {},
   "source": [
    "7.\tMake a pie-chart showing percentage failed and passed. Label the chart properly."
   ]
  },
  {
   "cell_type": "code",
   "execution_count": 42,
   "id": "dcb4d779-b503-48db-9890-bf1f06144109",
   "metadata": {},
   "outputs": [
    {
     "data": {
      "image/png": "[encoded data removed]",
      "text/plain": [
       "<Figure size 640x480 with 1 Axes>"
      ]
     },
     "metadata": {},
     "output_type": "display_data"
    }
   ],
   "source": [
    "plt.pie(data['Grade'].value_counts(), labels = ['Pass - 70%', 'Fail - 30%'])\n",
    "\n",
    "plt.title('Student Grades')\n",
    "plt.show()"
   ]
  },
  {
   "cell_type": "markdown",
   "id": "8bccf524-ba0a-4e33-b8a9-0d272dbed342",
   "metadata": {},
   "source": [
    "8.\tWrite a for loop to count the number of students who are in the dataframe. The output expected is ‘Number of students are: 5’"
   ]
  },
  {
   "cell_type": "code",
   "execution_count": 43,
   "id": "04f4399e-a140-4909-9e36-587ddb09a615",
   "metadata": {},
   "outputs": [
    {
     "name": "stdout",
     "output_type": "stream",
     "text": [
      "Number of students are:  5\n"
     ]
    }
   ],
   "source": [
    "count = 0\n",
    "for i in data.index:\n",
    "    count +=1\n",
    "print('Number of students are: ' , str(count))"
   ]
  },
  {
   "cell_type": "markdown",
   "id": "7e0dd574-f853-4fe1-8164-95f4d003fc61",
   "metadata": {},
   "source": [
    "9.\tUsing Python determine what is the average marks scored in the exam? "
   ]
  },
  {
   "cell_type": "code",
   "execution_count": 44,
   "id": "5ce8b025-c2d6-44d6-82bd-32cb5155d960",
   "metadata": {},
   "outputs": [
    {
     "data": {
      "text/plain": [
       "52.0"
      ]
     },
     "execution_count": 44,
     "metadata": {},
     "output_type": "execute_result"
    }
   ],
   "source": [
    "data['Marks'].mean()"
   ]
  },
  {
   "cell_type": "markdown",
   "id": "ac0f0f6d-5839-4f54-8a7d-7eb43391586d",
   "metadata": {},
   "source": [
    "10.\tUsing Python determine what percentage of students have passed the exam?"
   ]
  },
  {
   "cell_type": "code",
   "execution_count": 45,
   "id": "9476196b-3cf9-42ac-9f8a-fda50e4fe4d4",
   "metadata": {},
   "outputs": [
    {
     "name": "stdout",
     "output_type": "stream",
     "text": [
      "60.0 Percent\n"
     ]
    }
   ],
   "source": [
    "print(str((len(data[data['Grade']=='Pass'])/len(data['Grade']))*100) + \" Percent\")"
   ]
  },
  {
   "cell_type": "markdown",
   "id": "61c91904-37a8-4f20-98af-b8579e1e4308",
   "metadata": {},
   "source": [
    "## Q3"
   ]
  },
  {
   "cell_type": "markdown",
   "id": "b9f16d26-8973-45ae-8885-c2e43ef27b5c",
   "metadata": {},
   "source": [
    "1.\tUse numpy to generate 10 random integers between 0 and 100. Assign this sample the variable X.\n",
    "\n",
    "2.\tCreate a list (hint: square brackets) of the 10 numbers generated in the previous step."
   ]
  },
  {
   "cell_type": "code",
   "execution_count": 46,
   "id": "6f53b856-29cf-41d9-8cb3-162015b7c4fc",
   "metadata": {},
   "outputs": [
    {
     "data": {
      "text/plain": [
       "[86, 94, 20, 58, 46, 72, 90, 79, 67, 89]"
      ]
     },
     "execution_count": 46,
     "metadata": {},
     "output_type": "execute_result"
    }
   ],
   "source": [
    "x = list(np.random.randint(low =0, high = 100, size = 10))\n",
    "x"
   ]
  },
  {
   "cell_type": "markdown",
   "id": "53666687-de2a-4b5b-83dc-5b24153ca331",
   "metadata": {},
   "source": [
    "3.\tSquare each number in the list and call it x_squared"
   ]
  },
  {
   "cell_type": "code",
   "execution_count": 47,
   "id": "88c2017e-52e8-48ed-b57d-25b9097b7e1b",
   "metadata": {},
   "outputs": [
    {
     "data": {
      "text/plain": [
       "[7396, 8836, 400, 3364, 2116, 5184, 8100, 6241, 4489, 7921]"
      ]
     },
     "execution_count": 47,
     "metadata": {},
     "output_type": "execute_result"
    }
   ],
   "source": [
    "x_squared = []\n",
    "\n",
    "for i in x:\n",
    "    x_squared.append(i**2)\n",
    "x_squared\n",
    "    "
   ]
  },
  {
   "cell_type": "markdown",
   "id": "7b9b26be-4639-469b-9c41-d0deb90d3d8c",
   "metadata": {},
   "source": [
    "4.\tCube each number in the list and call it x_cube"
   ]
  },
  {
   "cell_type": "code",
   "execution_count": 48,
   "id": "3f681c31-ee73-4c70-b2ce-a09c51fa239e",
   "metadata": {},
   "outputs": [
    {
     "data": {
      "text/plain": [
       "[636056, 830584, 8000, 195112, 97336, 373248, 729000, 493039, 300763, 704969]"
      ]
     },
     "execution_count": 48,
     "metadata": {},
     "output_type": "execute_result"
    }
   ],
   "source": [
    "x_cube = []\n",
    "\n",
    "for i in x:\n",
    "    x_cube.append(pow(i,3))\n",
    "x_cube"
   ]
  },
  {
   "cell_type": "markdown",
   "id": "93398233-be3e-4dab-938b-fc0af3f34b8c",
   "metadata": {},
   "source": [
    "5.\tCreate a list where every element in X_cube subtracts the corresponding element in X_square. Call this list Y"
   ]
  },
  {
   "cell_type": "code",
   "execution_count": 49,
   "id": "f8a59d1f-b269-4f10-8c3f-25ec1602e817",
   "metadata": {},
   "outputs": [
    {
     "data": {
      "text/plain": [
       "[628660, 821748, 7600, 191748, 95220, 368064, 720900, 486798, 296274, 697048]"
      ]
     },
     "execution_count": 49,
     "metadata": {},
     "output_type": "execute_result"
    }
   ],
   "source": [
    "y = []\n",
    "\n",
    "for i,j in zip(x_cube, x_squared):\n",
    "    y.append(i-j)\n",
    "y\n",
    "    \n"
   ]
  },
  {
   "cell_type": "markdown",
   "id": "d1d2d2f9-e737-41c5-a432-17f24ea1daab",
   "metadata": {},
   "source": [
    "6.\tSquare every element in Y and sum it up. The output should be displayed as a number"
   ]
  },
  {
   "cell_type": "code",
   "execution_count": 50,
   "id": "0b8849d5-20ce-491b-b4bc-7b41e280d3f4",
   "metadata": {},
   "outputs": [
    {
     "data": {
      "text/plain": [
       "2582169483288"
      ]
     },
     "execution_count": 50,
     "metadata": {},
     "output_type": "execute_result"
    }
   ],
   "source": [
    "y_squared =[]\n",
    "for i in y:\n",
    "    y_squared.append(i**2)\n",
    "sum(y_squared)"
   ]
  },
  {
   "cell_type": "markdown",
   "id": "fba7eab6-6da8-4105-82e3-778ea0c0901b",
   "metadata": {},
   "source": [
    "7.\tCreate a dataframe with two columns – x_squared and x_cube\n"
   ]
  },
  {
   "cell_type": "code",
   "execution_count": 51,
   "id": "0ebe814e-67c7-44f7-848d-bb2beba5da07",
   "metadata": {},
   "outputs": [
    {
     "data": {
      "text/html": [
       "<div>\n",
       "<style scoped>\n",
       "    .dataframe tbody tr th:only-of-type {\n",
       "        vertical-align: middle;\n",
       "    }\n",
       "\n",
       "    .dataframe tbody tr th {\n",
       "        vertical-align: top;\n",
       "    }\n",
       "\n",
       "    .dataframe thead th {\n",
       "        text-align: right;\n",
       "    }\n",
       "</style>\n",
       "<table border=\"1\" class=\"dataframe\">\n",
       "  <thead>\n",
       "    <tr style=\"text-align: right;\">\n",
       "      <th></th>\n",
       "      <th>x_squared</th>\n",
       "      <th>x_cube</th>\n",
       "    </tr>\n",
       "  </thead>\n",
       "  <tbody>\n",
       "    <tr>\n",
       "      <th>0</th>\n",
       "      <td>7396</td>\n",
       "      <td>636056</td>\n",
       "    </tr>\n",
       "    <tr>\n",
       "      <th>1</th>\n",
       "      <td>8836</td>\n",
       "      <td>830584</td>\n",
       "    </tr>\n",
       "    <tr>\n",
       "      <th>2</th>\n",
       "      <td>400</td>\n",
       "      <td>8000</td>\n",
       "    </tr>\n",
       "    <tr>\n",
       "      <th>3</th>\n",
       "      <td>3364</td>\n",
       "      <td>195112</td>\n",
       "    </tr>\n",
       "    <tr>\n",
       "      <th>4</th>\n",
       "      <td>2116</td>\n",
       "      <td>97336</td>\n",
       "    </tr>\n",
       "    <tr>\n",
       "      <th>5</th>\n",
       "      <td>5184</td>\n",
       "      <td>373248</td>\n",
       "    </tr>\n",
       "    <tr>\n",
       "      <th>6</th>\n",
       "      <td>8100</td>\n",
       "      <td>729000</td>\n",
       "    </tr>\n",
       "    <tr>\n",
       "      <th>7</th>\n",
       "      <td>6241</td>\n",
       "      <td>493039</td>\n",
       "    </tr>\n",
       "    <tr>\n",
       "      <th>8</th>\n",
       "      <td>4489</td>\n",
       "      <td>300763</td>\n",
       "    </tr>\n",
       "    <tr>\n",
       "      <th>9</th>\n",
       "      <td>7921</td>\n",
       "      <td>704969</td>\n",
       "    </tr>\n",
       "  </tbody>\n",
       "</table>\n",
       "</div>"
      ],
      "text/plain": [
       "   x_squared  x_cube\n",
       "0       7396  636056\n",
       "1       8836  830584\n",
       "2        400    8000\n",
       "3       3364  195112\n",
       "4       2116   97336\n",
       "5       5184  373248\n",
       "6       8100  729000\n",
       "7       6241  493039\n",
       "8       4489  300763\n",
       "9       7921  704969"
      ]
     },
     "execution_count": 51,
     "metadata": {},
     "output_type": "execute_result"
    }
   ],
   "source": [
    "df4 =pd.DataFrame(list(zip(x_squared, x_cube)), columns = ['x_squared', 'x_cube'])\n",
    "df4"
   ]
  }
 ],
 "metadata": {
  "kernelspec": {
   "display_name": "Python 3 (ipykernel)",
   "language": "python",
   "name": "python3"
  },
  "language_info": {
   "codemirror_mode": {
    "name": "ipython",
    "version": 3
   },
   "file_extension": ".py",
   "mimetype": "text/x-python",
   "name": "python",
   "nbconvert_exporter": "python",
   "pygments_lexer": "ipython3",
   "version": "3.9.13"
  }
 },
 "nbformat": 4,
 "nbformat_minor": 5
}
