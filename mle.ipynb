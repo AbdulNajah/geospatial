{
 "cells": [
  {
   "cell_type": "code",
   "execution_count": 24,
   "id": "e87fc283-cbcd-481e-bc1f-1e704f97a47e",
   "metadata": {},
   "outputs": [],
   "source": [
    "import pandas as pd\n",
    "import os\n",
    "from sklearn.model_selection import train_test_split"
   ]
  },
  {
   "cell_type": "code",
   "execution_count": 78,
   "id": "4a793147-f3a9-4231-9968-96aaff4a9f3d",
   "metadata": {},
   "outputs": [],
   "source": [
    "import numpy as np\n",
    "\n",
    "class MLClassifier:\n",
    "    def fit(self, x: np.ndarray, y: np.ndarray) -> None:\n",
    "        '''\n",
    "        x - numpy array of shape (n, d); n = #observations; d = #variables\n",
    "        y - numpy array of shape (n,)\n",
    "        '''\n",
    "        # no. of variables / dimension\n",
    "        self.d = x.shape[1]\n",
    "        \n",
    "        # no. of classes; assumes labels to be integers from 0 to nclasses-1\n",
    "        self.nclasses = len(set(y))\n",
    "        \n",
    "        # list of means; mu_list[i] is mean vector for label i\n",
    "        self.mu_list = []\n",
    "        \n",
    "        # list of inverse covariance matrices;\n",
    "        # sigma_list[i] is inverse covariance matrix for label i\n",
    "        # for efficiency reasons we store only the inverses\n",
    "        self.sigma_inv_list = []\n",
    "        \n",
    "        # list of scalars in front of e^...\n",
    "        self.scalars = []\n",
    "        \n",
    "        n = x.shape[0]\n",
    "        for i in range(self.nclasses):\n",
    "            \n",
    "            # subset of obesrvations for label i\n",
    "            cls_x = np.array([x[j] for j in range(n) if y[j] == i])\n",
    "            \n",
    "            mu = np.mean(cls_x, axis=0)\n",
    "            \n",
    "            # rowvar = False, this is to use columns as variables instead of rows\n",
    "            sigma = np.cov(cls_x, rowvar=False)\n",
    "            if np.sum(np.linalg.eigvals(sigma) <= 0) != 0:\n",
    "                # if at least one eigenvalue is <= 0 show warning\n",
    "                print(f'Warning! Covariance matrix for label {cls} is not positive definite!\\n')\n",
    "            \n",
    "            sigma_inv = np.linalg.inv(sigma)\n",
    "            \n",
    "            scalar = 1/np.sqrt(((2*np.pi)**self.d)*np.linalg.det(sigma))\n",
    "            \n",
    "            self.mu_list.append(mu)\n",
    "            self.sigma_inv_list.append(sigma_inv)\n",
    "            self.scalars.append(scalar)\n",
    "            print(mu)\n",
    "            print(sigma_inv)\n",
    "            print(scalar)\n",
    "    \n",
    "    def _class_likelihood(self, x: np.ndarray, cls: int) -> float:\n",
    "        '''\n",
    "        x - numpy array of shape (d,)\n",
    "        cls - class label\n",
    "        \n",
    "        Returns: likelihood of x under the assumption that class label is cls\n",
    "        '''\n",
    "        mu = self.mu_list[cls]\n",
    "        sigma_inv = self.sigma_inv_list[cls]\n",
    "        scalar = self.scalars[cls]\n",
    "        d = self.d\n",
    "        \n",
    "        exp = (-1/2)*np.dot(np.matmul(x-mu, sigma_inv), x-mu)\n",
    "        \n",
    "        return scalar * (np.e**exp)\n",
    "    \n",
    "    def predict(self, x: np.ndarray) -> int:\n",
    "        '''\n",
    "        x - numpy array of shape (d,)\n",
    "        Returns: predicted label\n",
    "        '''\n",
    "        likelihoods = [self._class_likelihood(x, i) for i in range(self.nclasses)]\n",
    "        return np.argmax(likelihoods)\n",
    "    \n",
    "    def score(self, x: np.ndarray, y: np.ndarray) -> float:\n",
    "        '''\n",
    "        x - numpy array of shape (n, d); n = #observations; d = #variables\n",
    "        y - numpy array of shape (n,)\n",
    "        Returns: accuracy of predictions\n",
    "        '''\n",
    "        n = x.shape[0]\n",
    "        predicted_y = np.array([self.predict(x[i]) for i in range(n)])\n",
    "        n_correct = np.sum(predicted_y == y)\n",
    "        return n_correct/n"
   ]
  },
  {
   "cell_type": "code",
   "execution_count": 7,
   "id": "9c121eca-a8fe-45ed-b015-ae33888bff90",
   "metadata": {},
   "outputs": [],
   "source": [
    "os.chdir('/Users/najah/work/internships/meghna/LT05_L1TP_145044_20100428_20161016_01_T1')"
   ]
  },
  {
   "cell_type": "code",
   "execution_count": 39,
   "id": "1b1f0e6b-4a8b-493a-90fe-d3afc0214060",
   "metadata": {},
   "outputs": [],
   "source": [
    "df = random_points = pd.read_csv('./145044_20100428_indices/random_points_indices_data.csv')"
   ]
  },
  {
   "cell_type": "code",
   "execution_count": 40,
   "id": "89090e0a-7a72-4869-9309-05f6478c1044",
   "metadata": {},
   "outputs": [],
   "source": [
    "df['ag_fire'] = np.where(df['class1'] ==5,1,0)"
   ]
  },
  {
   "cell_type": "code",
   "execution_count": 41,
   "id": "9d4dc4b5-2466-4583-ad80-7923e2abaa0f",
   "metadata": {},
   "outputs": [
    {
     "data": {
      "text/plain": [
       "Index(['Unnamed: 0', 'id', 'long', 'lat', 'class_x', 'ag_fire', 'class1',\n",
       "       'geometry', 'b1', 'b2', 'b3', 'b4', 'b5', 'b7', 'ndvi', 'ndmi', 'nbr',\n",
       "       'ndwi', 'bai', 'baiml', 'baims', 'mirbi', 'gemi', 'class_y',\n",
       "       'class_label'],\n",
       "      dtype='object')"
      ]
     },
     "execution_count": 41,
     "metadata": {},
     "output_type": "execute_result"
    }
   ],
   "source": [
    "df.columns"
   ]
  },
  {
   "cell_type": "code",
   "execution_count": 53,
   "id": "bfe8d305-3bd2-4bd3-8b5a-f1502640c2ab",
   "metadata": {},
   "outputs": [
    {
     "data": {
      "text/html": [
       "<div>\n",
       "<style scoped>\n",
       "    .dataframe tbody tr th:only-of-type {\n",
       "        vertical-align: middle;\n",
       "    }\n",
       "\n",
       "    .dataframe tbody tr th {\n",
       "        vertical-align: top;\n",
       "    }\n",
       "\n",
       "    .dataframe thead th {\n",
       "        text-align: right;\n",
       "    }\n",
       "</style>\n",
       "<table border=\"1\" class=\"dataframe\">\n",
       "  <thead>\n",
       "    <tr style=\"text-align: right;\">\n",
       "      <th></th>\n",
       "      <th>b1</th>\n",
       "      <th>b2</th>\n",
       "      <th>b3</th>\n",
       "      <th>b4</th>\n",
       "      <th>b5</th>\n",
       "      <th>b7</th>\n",
       "    </tr>\n",
       "  </thead>\n",
       "  <tbody>\n",
       "    <tr>\n",
       "      <th>0</th>\n",
       "      <td>0.123110</td>\n",
       "      <td>0.132611</td>\n",
       "      <td>0.182832</td>\n",
       "      <td>0.234003</td>\n",
       "      <td>0.292531</td>\n",
       "      <td>0.225733</td>\n",
       "    </tr>\n",
       "    <tr>\n",
       "      <th>1</th>\n",
       "      <td>0.118408</td>\n",
       "      <td>0.127496</td>\n",
       "      <td>0.180216</td>\n",
       "      <td>0.228100</td>\n",
       "      <td>0.303933</td>\n",
       "      <td>0.228462</td>\n",
       "    </tr>\n",
       "    <tr>\n",
       "      <th>2</th>\n",
       "      <td>0.132513</td>\n",
       "      <td>0.153071</td>\n",
       "      <td>0.216845</td>\n",
       "      <td>0.242858</td>\n",
       "      <td>0.283028</td>\n",
       "      <td>0.223003</td>\n",
       "    </tr>\n",
       "    <tr>\n",
       "      <th>3</th>\n",
       "      <td>0.118408</td>\n",
       "      <td>0.124939</td>\n",
       "      <td>0.169750</td>\n",
       "      <td>0.216293</td>\n",
       "      <td>0.243118</td>\n",
       "      <td>0.190254</td>\n",
       "    </tr>\n",
       "    <tr>\n",
       "      <th>4</th>\n",
       "      <td>0.110180</td>\n",
       "      <td>0.117266</td>\n",
       "      <td>0.161901</td>\n",
       "      <td>0.210389</td>\n",
       "      <td>0.246919</td>\n",
       "      <td>0.190254</td>\n",
       "    </tr>\n",
       "    <tr>\n",
       "      <th>...</th>\n",
       "      <td>...</td>\n",
       "      <td>...</td>\n",
       "      <td>...</td>\n",
       "      <td>...</td>\n",
       "      <td>...</td>\n",
       "      <td>...</td>\n",
       "    </tr>\n",
       "    <tr>\n",
       "      <th>349</th>\n",
       "      <td>0.100776</td>\n",
       "      <td>0.096806</td>\n",
       "      <td>0.127888</td>\n",
       "      <td>0.189727</td>\n",
       "      <td>0.203209</td>\n",
       "      <td>0.149316</td>\n",
       "    </tr>\n",
       "    <tr>\n",
       "      <th>350</th>\n",
       "      <td>0.110180</td>\n",
       "      <td>0.119824</td>\n",
       "      <td>0.164517</td>\n",
       "      <td>0.210389</td>\n",
       "      <td>0.226014</td>\n",
       "      <td>0.184795</td>\n",
       "    </tr>\n",
       "    <tr>\n",
       "      <th>351</th>\n",
       "      <td>0.106654</td>\n",
       "      <td>0.109594</td>\n",
       "      <td>0.148819</td>\n",
       "      <td>0.204486</td>\n",
       "      <td>0.226014</td>\n",
       "      <td>0.162962</td>\n",
       "    </tr>\n",
       "    <tr>\n",
       "      <th>352</th>\n",
       "      <td>0.097250</td>\n",
       "      <td>0.096806</td>\n",
       "      <td>0.127888</td>\n",
       "      <td>0.219244</td>\n",
       "      <td>0.218412</td>\n",
       "      <td>0.149316</td>\n",
       "    </tr>\n",
       "    <tr>\n",
       "      <th>353</th>\n",
       "      <td>0.103127</td>\n",
       "      <td>0.101921</td>\n",
       "      <td>0.138353</td>\n",
       "      <td>0.210389</td>\n",
       "      <td>0.262123</td>\n",
       "      <td>0.182066</td>\n",
       "    </tr>\n",
       "  </tbody>\n",
       "</table>\n",
       "<p>354 rows × 6 columns</p>\n",
       "</div>"
      ],
      "text/plain": [
       "           b1        b2        b3        b4        b5        b7\n",
       "0    0.123110  0.132611  0.182832  0.234003  0.292531  0.225733\n",
       "1    0.118408  0.127496  0.180216  0.228100  0.303933  0.228462\n",
       "2    0.132513  0.153071  0.216845  0.242858  0.283028  0.223003\n",
       "3    0.118408  0.124939  0.169750  0.216293  0.243118  0.190254\n",
       "4    0.110180  0.117266  0.161901  0.210389  0.246919  0.190254\n",
       "..        ...       ...       ...       ...       ...       ...\n",
       "349  0.100776  0.096806  0.127888  0.189727  0.203209  0.149316\n",
       "350  0.110180  0.119824  0.164517  0.210389  0.226014  0.184795\n",
       "351  0.106654  0.109594  0.148819  0.204486  0.226014  0.162962\n",
       "352  0.097250  0.096806  0.127888  0.219244  0.218412  0.149316\n",
       "353  0.103127  0.101921  0.138353  0.210389  0.262123  0.182066\n",
       "\n",
       "[354 rows x 6 columns]"
      ]
     },
     "execution_count": 53,
     "metadata": {},
     "output_type": "execute_result"
    }
   ],
   "source": [
    "df.iloc[:,8:14]"
   ]
  },
  {
   "cell_type": "code",
   "execution_count": 63,
   "id": "a77baac9-45fd-4e6d-8da5-f72c96dd2feb",
   "metadata": {},
   "outputs": [
    {
     "data": {
      "text/plain": [
       "11    180\n",
       "5      76\n",
       "1      33\n",
       "13     23\n",
       "2      19\n",
       "4      16\n",
       "8       7\n",
       "Name: class1, dtype: int64"
      ]
     },
     "execution_count": 63,
     "metadata": {},
     "output_type": "execute_result"
    }
   ],
   "source": [
    "df['class1'].value_counts()"
   ]
  },
  {
   "cell_type": "code",
   "execution_count": 94,
   "id": "605fd450-7c15-424e-9400-bf1441183802",
   "metadata": {},
   "outputs": [],
   "source": [
    "(x_train, x_test, y_train, y_test) = train_test_split(df.iloc[:, 8:14].values, df.iloc[:, 23].values, train_size=.8, stratify = df.iloc[:, 23])"
   ]
  },
  {
   "cell_type": "code",
   "execution_count": 95,
   "id": "187eafef-8c19-4438-bb01-c4e7bf2b314f",
   "metadata": {},
   "outputs": [
    {
     "data": {
      "text/plain": [
       "array([ 5, 11,  2, 13, 13, 11, 11, 11,  8, 13, 11,  2, 11, 11,  1, 11, 11,\n",
       "       11,  1, 13,  1,  2, 11,  5, 11, 11, 13,  5,  4,  5, 11, 11,  2,  5,\n",
       "        5, 11, 11,  5,  5, 11,  5,  5,  5,  1,  5,  5, 11, 11, 13,  1,  5,\n",
       "        1,  1,  1, 13, 11, 11, 11,  5, 11, 11, 11,  1, 11, 11,  8, 11, 11,\n",
       "       11, 11,  5, 11, 11,  8, 11,  5, 11, 11,  1, 11,  5, 11, 13,  5, 11,\n",
       "       11, 11, 11, 11,  1, 11,  2,  5,  5, 11,  5, 11, 11, 11, 11, 11,  5,\n",
       "       11, 11, 11,  5, 11,  1,  5, 11, 11,  2, 13, 11,  5,  4, 11,  1,  5,\n",
       "       11,  5, 11,  5, 13,  5,  2,  1, 11, 13,  5, 11, 11,  5,  1, 11,  2,\n",
       "       11, 11, 11, 11, 13,  5,  4,  4,  1,  4, 11, 11, 11, 11,  5, 13,  1,\n",
       "       13,  1, 11, 13, 11,  5,  1,  4, 11, 13,  1,  2, 11, 11, 11, 11,  5,\n",
       "        1, 11, 11,  5, 11, 11, 11,  5, 11,  4, 11, 11, 11,  5, 11, 11, 11,\n",
       "       11,  2, 11, 13, 11,  4, 11,  5, 11, 11,  5, 11,  5, 11, 11,  5, 11,\n",
       "        4, 11,  5,  2, 11, 11,  5, 11, 11,  5,  4,  5, 11,  4,  2,  2, 11,\n",
       "       11, 11, 11, 11, 11,  4,  4, 11, 11, 11,  8, 11, 11,  5, 11,  2, 11,\n",
       "       11,  1,  5, 11, 11, 11,  5, 11, 11,  1,  1, 11,  8,  5,  2,  5, 11,\n",
       "        5, 11, 11,  5,  5,  5, 11, 11, 13,  5,  5, 11,  5, 11, 11,  8, 11,\n",
       "       11,  5, 11, 11,  5,  1, 11, 11, 11, 11,  1])"
      ]
     },
     "execution_count": 95,
     "metadata": {},
     "output_type": "execute_result"
    }
   ],
   "source": [
    "y_train"
   ]
  },
  {
   "cell_type": "code",
   "execution_count": 83,
   "id": "0c694bb5-760a-40b0-8f11-802e9409de95",
   "metadata": {},
   "outputs": [],
   "source": [
    "\n",
    "mlc =MLClassifier()"
   ]
  },
  {
   "cell_type": "code",
   "execution_count": 96,
   "id": "6a6d9c50-175e-4a48-8b11-24bfce263dff",
   "metadata": {},
   "outputs": [
    {
     "name": "stderr",
     "output_type": "stream",
     "text": [
      "/Users/najah/miniforge3/envs/ee/lib/python3.9/site-packages/numpy/core/fromnumeric.py:3474: RuntimeWarning: Mean of empty slice.\n",
      "  return _methods._mean(a, axis=axis, dtype=dtype,\n",
      "/Users/najah/miniforge3/envs/ee/lib/python3.9/site-packages/numpy/core/_methods.py:189: RuntimeWarning: invalid value encountered in double_scalars\n",
      "  ret = ret.dtype.type(ret / rcount)\n",
      "/Users/najah/miniforge3/envs/ee/lib/python3.9/site-packages/numpy/lib/function_base.py:495: RuntimeWarning: Mean of empty slice.\n",
      "  avg = a.mean(axis)\n",
      "/Users/najah/miniforge3/envs/ee/lib/python3.9/site-packages/numpy/core/_methods.py:181: RuntimeWarning: invalid value encountered in true_divide\n",
      "  ret = um.true_divide(\n",
      "/var/folders/_8/2qttjw6x0cvcgsy0js39z68r0000gn/T/ipykernel_8141/1488774220.py:35: RuntimeWarning: Degrees of freedom <= 0 for slice\n",
      "  sigma = np.cov(cls_x, rowvar=False)\n",
      "/Users/najah/miniforge3/envs/ee/lib/python3.9/site-packages/numpy/lib/function_base.py:2680: RuntimeWarning: divide by zero encountered in true_divide\n",
      "  c *= np.true_divide(1, fact)\n",
      "/Users/najah/miniforge3/envs/ee/lib/python3.9/site-packages/numpy/lib/function_base.py:2680: RuntimeWarning: invalid value encountered in multiply\n",
      "  c *= np.true_divide(1, fact)\n"
     ]
    },
    {
     "ename": "LinAlgError",
     "evalue": "0-dimensional array given. Array must be at least two-dimensional",
     "output_type": "error",
     "traceback": [
      "\u001b[0;31m---------------------------------------------------------------------------\u001b[0m",
      "\u001b[0;31mLinAlgError\u001b[0m                               Traceback (most recent call last)",
      "Input \u001b[0;32mIn [96]\u001b[0m, in \u001b[0;36m<cell line: 1>\u001b[0;34m()\u001b[0m\n\u001b[0;32m----> 1\u001b[0m \u001b[43mmlc\u001b[49m\u001b[38;5;241;43m.\u001b[39;49m\u001b[43mfit\u001b[49m\u001b[43m(\u001b[49m\u001b[43mx_train\u001b[49m\u001b[43m,\u001b[49m\u001b[43m \u001b[49m\u001b[43my_train\u001b[49m\u001b[43m)\u001b[49m\n",
      "Input \u001b[0;32mIn [78]\u001b[0m, in \u001b[0;36mMLClassifier.fit\u001b[0;34m(self, x, y)\u001b[0m\n\u001b[1;32m     34\u001b[0m \u001b[38;5;66;03m# rowvar = False, this is to use columns as variables instead of rows\u001b[39;00m\n\u001b[1;32m     35\u001b[0m sigma \u001b[38;5;241m=\u001b[39m np\u001b[38;5;241m.\u001b[39mcov(cls_x, rowvar\u001b[38;5;241m=\u001b[39m\u001b[38;5;28;01mFalse\u001b[39;00m)\n\u001b[0;32m---> 36\u001b[0m \u001b[38;5;28;01mif\u001b[39;00m np\u001b[38;5;241m.\u001b[39msum(\u001b[43mnp\u001b[49m\u001b[38;5;241;43m.\u001b[39;49m\u001b[43mlinalg\u001b[49m\u001b[38;5;241;43m.\u001b[39;49m\u001b[43meigvals\u001b[49m\u001b[43m(\u001b[49m\u001b[43msigma\u001b[49m\u001b[43m)\u001b[49m \u001b[38;5;241m<\u001b[39m\u001b[38;5;241m=\u001b[39m \u001b[38;5;241m0\u001b[39m) \u001b[38;5;241m!=\u001b[39m \u001b[38;5;241m0\u001b[39m:\n\u001b[1;32m     37\u001b[0m     \u001b[38;5;66;03m# if at least one eigenvalue is <= 0 show warning\u001b[39;00m\n\u001b[1;32m     38\u001b[0m     \u001b[38;5;28mprint\u001b[39m(\u001b[38;5;124mf\u001b[39m\u001b[38;5;124m'\u001b[39m\u001b[38;5;124mWarning! Covariance matrix for label \u001b[39m\u001b[38;5;132;01m{\u001b[39;00m\u001b[38;5;28mcls\u001b[39m\u001b[38;5;132;01m}\u001b[39;00m\u001b[38;5;124m is not positive definite!\u001b[39m\u001b[38;5;130;01m\\n\u001b[39;00m\u001b[38;5;124m'\u001b[39m)\n\u001b[1;32m     40\u001b[0m sigma_inv \u001b[38;5;241m=\u001b[39m np\u001b[38;5;241m.\u001b[39mlinalg\u001b[38;5;241m.\u001b[39minv(sigma)\n",
      "File \u001b[0;32m<__array_function__ internals>:180\u001b[0m, in \u001b[0;36meigvals\u001b[0;34m(*args, **kwargs)\u001b[0m\n",
      "File \u001b[0;32m~/miniforge3/envs/ee/lib/python3.9/site-packages/numpy/linalg/linalg.py:1048\u001b[0m, in \u001b[0;36meigvals\u001b[0;34m(a)\u001b[0m\n\u001b[1;32m    978\u001b[0m \u001b[38;5;124;03m\"\"\"\u001b[39;00m\n\u001b[1;32m    979\u001b[0m \u001b[38;5;124;03mCompute the eigenvalues of a general matrix.\u001b[39;00m\n\u001b[1;32m    980\u001b[0m \n\u001b[0;32m   (...)\u001b[0m\n\u001b[1;32m   1045\u001b[0m \n\u001b[1;32m   1046\u001b[0m \u001b[38;5;124;03m\"\"\"\u001b[39;00m\n\u001b[1;32m   1047\u001b[0m a, wrap \u001b[38;5;241m=\u001b[39m _makearray(a)\n\u001b[0;32m-> 1048\u001b[0m \u001b[43m_assert_stacked_2d\u001b[49m\u001b[43m(\u001b[49m\u001b[43ma\u001b[49m\u001b[43m)\u001b[49m\n\u001b[1;32m   1049\u001b[0m _assert_stacked_square(a)\n\u001b[1;32m   1050\u001b[0m _assert_finite(a)\n",
      "File \u001b[0;32m~/miniforge3/envs/ee/lib/python3.9/site-packages/numpy/linalg/linalg.py:196\u001b[0m, in \u001b[0;36m_assert_stacked_2d\u001b[0;34m(*arrays)\u001b[0m\n\u001b[1;32m    194\u001b[0m \u001b[38;5;28;01mfor\u001b[39;00m a \u001b[38;5;129;01min\u001b[39;00m arrays:\n\u001b[1;32m    195\u001b[0m     \u001b[38;5;28;01mif\u001b[39;00m a\u001b[38;5;241m.\u001b[39mndim \u001b[38;5;241m<\u001b[39m \u001b[38;5;241m2\u001b[39m:\n\u001b[0;32m--> 196\u001b[0m         \u001b[38;5;28;01mraise\u001b[39;00m LinAlgError(\u001b[38;5;124m'\u001b[39m\u001b[38;5;132;01m%d\u001b[39;00m\u001b[38;5;124m-dimensional array given. Array must be \u001b[39m\u001b[38;5;124m'\u001b[39m\n\u001b[1;32m    197\u001b[0m                 \u001b[38;5;124m'\u001b[39m\u001b[38;5;124mat least two-dimensional\u001b[39m\u001b[38;5;124m'\u001b[39m \u001b[38;5;241m%\u001b[39m a\u001b[38;5;241m.\u001b[39mndim)\n",
      "\u001b[0;31mLinAlgError\u001b[0m: 0-dimensional array given. Array must be at least two-dimensional"
     ]
    }
   ],
   "source": [
    "mlc.fit(x_train, y_train)"
   ]
  },
  {
   "cell_type": "code",
   "execution_count": 52,
   "id": "7baee29e-cebc-4675-89d7-291d17ba30e9",
   "metadata": {},
   "outputs": [
    {
     "data": {
      "text/plain": [
       "0.9014084507042254"
      ]
     },
     "execution_count": 52,
     "metadata": {},
     "output_type": "execute_result"
    }
   ],
   "source": [
    "mlc.score(x_test, y_test)"
   ]
  },
  {
   "cell_type": "code",
   "execution_count": null,
   "id": "591866ab-0a91-4382-a891-244afbcc58ab",
   "metadata": {},
   "outputs": [],
   "source": [
    "mlc."
   ]
  }
 ],
 "metadata": {
  "kernelspec": {
   "display_name": "Python 3 (ipykernel)",
   "language": "python",
   "name": "python3"
  },
  "language_info": {
   "codemirror_mode": {
    "name": "ipython",
    "version": 3
   },
   "file_extension": ".py",
   "mimetype": "text/x-python",
   "name": "python",
   "nbconvert_exporter": "python",
   "pygments_lexer": "ipython3",
   "version": "3.9.13"
  }
 },
 "nbformat": 4,
 "nbformat_minor": 5
}
