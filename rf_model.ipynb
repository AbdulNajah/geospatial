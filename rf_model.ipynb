{
 "cells": [
  {
   "cell_type": "code",
   "execution_count": 1,
   "id": "93a71fd3-1d3b-44e7-a5bb-1e6fdaf9a1ac",
   "metadata": {},
   "outputs": [],
   "source": [
    "import ee\n",
    "\n",
    "import geemap\n"
   ]
  },
  {
   "cell_type": "code",
   "execution_count": 2,
   "id": "6673e2cf-f706-485c-8360-b9b1b36b62c2",
   "metadata": {},
   "outputs": [
    {
     "ename": "NameError",
     "evalue": "name 'os' is not defined",
     "output_type": "error",
     "traceback": [
      "\u001b[0;31m---------------------------------------------------------------------------\u001b[0m",
      "\u001b[0;31mNameError\u001b[0m                                 Traceback (most recent call last)",
      "Input \u001b[0;32mIn [2]\u001b[0m, in \u001b[0;36m<cell line: 1>\u001b[0;34m()\u001b[0m\n\u001b[0;32m----> 1\u001b[0m \u001b[43mos\u001b[49m\u001b[38;5;241m.\u001b[39mchdir(\u001b[38;5;124m'\u001b[39m\u001b[38;5;124m/Users/najah/work/internships/meghna//LT05_L1TP_145044_20100428_20161016_01_T1\u001b[39m\u001b[38;5;124m'\u001b[39m)\n",
      "\u001b[0;31mNameError\u001b[0m: name 'os' is not defined"
     ]
    }
   ],
   "source": [
    "os.chdir('/Users/najah/work/internships/meghna//LT05_L1TP_145044_20100428_20161016_01_T1')"
   ]
  },
  {
   "cell_type": "code",
   "execution_count": null,
   "id": "e1f55af1-9a45-4a12-b2c5-3261895f41f3",
   "metadata": {},
   "outputs": [],
   "source": [
    "ee.Authenticate()"
   ]
  },
  {
   "cell_type": "code",
   "execution_count": 2,
   "id": "16bef7e6-5e54-4f3f-9a57-689f67a0d12b",
   "metadata": {},
   "outputs": [
    {
     "name": "stdout",
     "output_type": "stream",
     "text": [
      "0.16.7\n"
     ]
    }
   ],
   "source": [
    "print(geemap.__version__)"
   ]
  },
  {
   "cell_type": "code",
   "execution_count": 5,
   "id": "ed4c79ff-e1aa-4174-ac36-2c602b4ec4f8",
   "metadata": {},
   "outputs": [],
   "source": [
    "ee.Initialize()\n"
   ]
  },
  {
   "cell_type": "code",
   "execution_count": null,
   "id": "fbedb9f3-4813-4e6d-8280-0f1778e7eebb",
   "metadata": {},
   "outputs": [],
   "source": [
    "Map = geemap.Map()\n",
    "Map"
   ]
  },
  {
   "cell_type": "code",
   "execution_count": 7,
   "id": "38084fe4-68de-48f7-85cb-f0020558c16a",
   "metadata": {},
   "outputs": [],
   "source": [
    "## adding points from gee\n",
    "# points = ee.FeatureCollection(\"projects/fire-ashoka/assets/145044_20100428_500points\")\n",
    "\n",
    "# Map.addLayer(points, {'color':'red'}, '500points')"
   ]
  },
  {
   "cell_type": "code",
   "execution_count": 103,
   "id": "2d1e6d61-c2aa-4236-b25e-ac2d0286cfe4",
   "metadata": {},
   "outputs": [
    {
     "data": {
      "application/vnd.jupyter.widget-view+json": {
       "model_id": "a1466a58b7d9456ab0e1ce4a96c51d75",
       "version_major": 2,
       "version_minor": 0
      },
      "text/plain": [
       "Map(bottom=28743.0, center=[23.10324765528739, 78.02415285034276], controls=(WidgetControl(options=['position'…"
      ]
     },
     "metadata": {},
     "output_type": "display_data"
    }
   ],
   "source": [
    "## adding points from local machine\n",
    "\n",
    "points_shp = './145044_20100428_roi/145044_20100428_500points.random_points/145044_20100428_500points.shp'\n",
    "points = geemap.shp_to_ee(points_shp)\n",
    "Map.addLayer(points, {'color':'red'}, '500points')\n",
    "Map\n"
   ]
  },
  {
   "cell_type": "code",
   "execution_count": 101,
   "id": "94e3fe98-db14-420d-9fbe-39c44e385fe0",
   "metadata": {},
   "outputs": [
    {
     "name": "stdout",
     "output_type": "stream",
     "text": [
      "{'type': 'Feature', 'geometry': {'type': 'Point', 'coordinates': [77.40547254617523, 23.866743087143593]}, 'id': '0', 'properties': {'ag_fire': 0, 'class': 11, 'class1': 11, 'id': 57, 'lat': 23.867, 'long': 77.405}}\n"
     ]
    }
   ],
   "source": [
    "print(points.first().getInfo())"
   ]
  },
  {
   "cell_type": "code",
   "execution_count": 104,
   "id": "bc860709-75d9-45b3-b26a-b22069ee48fd",
   "metadata": {},
   "outputs": [
    {
     "data": {
      "application/vnd.jupyter.widget-view+json": {
       "model_id": "a1466a58b7d9456ab0e1ce4a96c51d75",
       "version_major": 2,
       "version_minor": 0
      },
      "text/plain": [
       "Map(bottom=28743.0, center=[23.10324765528739, 78.02415285034276], controls=(WidgetControl(options=['position'…"
      ]
     },
     "metadata": {},
     "output_type": "display_data"
    }
   ],
   "source": [
    "image = ee.Image('LANDSAT/LT05/C01/T1_TOA/LT05_145044_20100428') \\\n",
    "            .select(['B1', 'B2', 'B3', 'B4', 'B5', 'B7'])\n",
    "\n",
    "Map.centerObject(image)\n",
    "\n",
    "rgbVis = {\n",
    "  'min':0,\n",
    "  'max' :0.4,\n",
    "  'bands' : ['B5', 'B4', 'B3'],\n",
    "  'gamma' : 1.2\n",
    "}\n",
    "\n",
    "Map.addLayer(image, rgbVis, 'original')\n",
    "Map"
   ]
  },
  {
   "cell_type": "code",
   "execution_count": 105,
   "id": "248ebac0-1091-4173-999f-2cc771b12b28",
   "metadata": {},
   "outputs": [],
   "source": [
    "# Calculate Slope and Elevation\n",
    "elevation_raster = ee.Image('USGS/SRTMGL1_003')\n",
    "\n",
    "elev = elevation_raster.select('elevation').rename('elev')\n",
    "slope = ee.Terrain.slope(elevation_raster.select('elevation')).rename('slope')\n",
    "\n",
    "image = image.addBands(elev).addBands(slope)"
   ]
  },
  {
   "cell_type": "code",
   "execution_count": null,
   "id": "c2b667a5-9b78-42bd-b187-bc593c5b0a49",
   "metadata": {},
   "outputs": [],
   "source": [
    "# hillshadow calc\n",
    "\n",
    "#ee.Terrain.hillShadow(image, azimuth, zenith, neighborhoodSize, hysteresis)\n",
    "\n",
    "# def getShadow(image):\n",
    "\n",
    "#   elevation = image.get('SUN_ELEVATION')\n",
    "#   zenith = ee.Number(90).subtract(ee.Number(elevation))\n",
    "\n",
    "#   shadow = ee.Terrain.hillShadow({\n",
    "#     'image': elevation_raster,\n",
    "#     'azimuth': image.get('SUN_AZIMUTH'),\n",
    "#     'zenith': ee.Number(zenith),\n",
    "#     'neighborhoodSize': 200,\n",
    "#     'hysteresis': True\n",
    "#   }).rename('shadow')\n",
    "\n",
    "#   return image.addBands(shadow)\n",
    "\n",
    "# image = getShadow(image)"
   ]
  },
  {
   "cell_type": "code",
   "execution_count": 106,
   "id": "31b4daca-e122-4033-88db-635d2884fbfc",
   "metadata": {},
   "outputs": [],
   "source": [
    "def addIndices(image):\n",
    "\n",
    "  ndvi = image.normalizedDifference(['B4', 'B3']).rename('ndvi'),\n",
    "\n",
    "  ndmi = image.normalizedDifference(['B4', 'B5']).rename('ndmi'),\n",
    "\n",
    "  nbr = image.normalizedDifference(['B4', 'B7']).rename('nbr'),\n",
    "\n",
    "  ndwi = image.normalizedDifference(['B2', 'B4']).rename('ndwi'),\n",
    "\n",
    "  bai = image.expression(\n",
    "    '1/((0.1-red)**2+ (0.06-nir)**2)',{\n",
    "      'nir': image.select('B4'),\n",
    "      'red': image.select('B3')\n",
    "\n",
    "    }).rename('bai')\n",
    "\n",
    "  return image.addBands(ndvi).addBands(ndmi).addBands(nbr).addBands(ndwi)"
   ]
  },
  {
   "cell_type": "code",
   "execution_count": 107,
   "id": "1d793179-5e59-46e7-9ccb-c20f44b43c42",
   "metadata": {},
   "outputs": [],
   "source": [
    "image = addIndices(image)"
   ]
  },
  {
   "cell_type": "code",
   "execution_count": 108,
   "id": "d5ecfcde-69c0-40c9-8002-f8cfd3713624",
   "metadata": {},
   "outputs": [],
   "source": [
    "# Use these bands for prediction.\n",
    "bands = ['B1', 'B2', 'B3', 'B4', 'B5',  'B7', 'ndvi', 'nbr', 'ndwi']\n",
    "\n",
    "# This property of the table stores the land cover labels.\n",
    "label = 'class'\n",
    "\n",
    "# Overlay the points on the imagery to get training.\n",
    "# sample = image.select(bands).sampleRegions(\n",
    "#     **{'collection': points, 'properties': [label], 'scale': 30}\n",
    "# )\n",
    "\n",
    "sample = image.select(bands).sampleRegions(**{\n",
    "  'collection' : points,\n",
    "  'properties' : [label],\n",
    "  'scale': 30\n",
    "})"
   ]
  },
  {
   "cell_type": "code",
   "execution_count": 114,
   "id": "7e749b5a-d092-4d21-a98f-dbe1f7420bd2",
   "metadata": {},
   "outputs": [
    {
     "data": {
      "text/plain": [
       "{'type': 'Feature',\n",
       " 'geometry': None,\n",
       " 'id': '0_0',\n",
       " 'properties': {'B1': 0.1458006203174591,\n",
       "  'B2': 0.14518778026103973,\n",
       "  'B3': 0.17255185544490814,\n",
       "  'B4': 0.2249782681465149,\n",
       "  'B5': 0.28518906235694885,\n",
       "  'B7': 0.20986996591091156,\n",
       "  'class': 11,\n",
       "  'nbr': 0.03474384918808937,\n",
       "  'ndvi': 0.13188035786151886,\n",
       "  'ndwi': -0.21555322408676147,\n",
       "  'random': 0.9890338778174235}}"
      ]
     },
     "execution_count": 114,
     "metadata": {},
     "output_type": "execute_result"
    }
   ],
   "source": [
    "##Adds a column of deterministic pseudorandom numbers.\n",
    "sample = sample.randomColumn()\n",
    "\n",
    "split = 0.7\n",
    "\n",
    "training = sample.filter(ee.Filter.lt('random', split))\n",
    "validation = sample.filter(ee.Filter.gte('random', split))\n",
    "\n",
    "training.first().getInfo()\n",
    "\n",
    "validation.first().getInfo()"
   ]
  },
  {
   "cell_type": "code",
   "execution_count": 115,
   "id": "c1b62f20-1cf1-44bc-a943-d234f3787f0e",
   "metadata": {},
   "outputs": [],
   "source": [
    "classifier = ee.Classifier.smileRandomForest(100).train(training, label, bands)"
   ]
  },
  {
   "cell_type": "code",
   "execution_count": 116,
   "id": "91847724-097f-4f97-8c00-a71ea26603ca",
   "metadata": {},
   "outputs": [],
   "source": [
    "# Classify the image with the same bands used for training.\n",
    "result = image.select(bands).classify(classifier)\n",
    "\n",
    "# # Display the clusters with random colors.\n",
    "Map.addLayer(result.randomVisualizer(), {}, 'classfied')\n",
    "Map.centerObject(result)\n",
    "Map"
   ]
  },
  {
   "cell_type": "markdown",
   "id": "89be4599-4676-4425-bccd-6c89a5a075fe",
   "metadata": {},
   "source": [
    "### accuracy"
   ]
  },
  {
   "cell_type": "code",
   "execution_count": 111,
   "id": "2252dbb7-8166-4ea0-b08e-065d78039692",
   "metadata": {},
   "outputs": [],
   "source": [
    "train_accuracy = classifier.confusionMatrix()"
   ]
  },
  {
   "cell_type": "code",
   "execution_count": 112,
   "id": "ac2eab77-1449-4a20-ac2b-0611837ea479",
   "metadata": {},
   "outputs": [
    {
     "data": {
      "text/plain": [
       "0.9943820224719101"
      ]
     },
     "execution_count": 112,
     "metadata": {},
     "output_type": "execute_result"
    }
   ],
   "source": [
    "train_accuracy.accuracy().getInfo()"
   ]
  },
  {
   "cell_type": "code",
   "execution_count": 92,
   "id": "61d80601-8778-4836-bfab-7272a95572ac",
   "metadata": {},
   "outputs": [
    {
     "data": {
      "text/plain": [
       "0.9877752850144225"
      ]
     },
     "execution_count": 92,
     "metadata": {},
     "output_type": "execute_result"
    }
   ],
   "source": [
    "train_accuracy.kappa().getInfo()"
   ]
  },
  {
   "cell_type": "code",
   "execution_count": 77,
   "id": "9a2a31b4-8e05-4fec-b17c-667ec53794ee",
   "metadata": {},
   "outputs": [],
   "source": [
    "validated = validation.classify(classifier)"
   ]
  },
  {
   "cell_type": "code",
   "execution_count": null,
   "id": "075596cc-0f8f-479c-ae19-5ecbe53c192d",
   "metadata": {},
   "outputs": [],
   "source": [
    "validated.first().getInfo()"
   ]
  },
  {
   "cell_type": "code",
   "execution_count": 37,
   "id": "f5c3d4fc-3ea3-4c08-ac8f-5d692c1d5408",
   "metadata": {},
   "outputs": [
    {
     "data": {
      "text/plain": [
       "ee.featurecollection.FeatureCollection"
      ]
     },
     "execution_count": 37,
     "metadata": {},
     "output_type": "execute_result"
    }
   ],
   "source": [
    "type(validated)"
   ]
  },
  {
   "cell_type": "code",
   "execution_count": 121,
   "id": "7cf5d12a-09f7-4695-8906-d4dfd1202b81",
   "metadata": {},
   "outputs": [],
   "source": [
    "test_accuracy= validated.errorMatrix('class', 'classification')"
   ]
  },
  {
   "cell_type": "code",
   "execution_count": 122,
   "id": "abdcd475-8f02-41c3-a6de-0e7163c19813",
   "metadata": {},
   "outputs": [
    {
     "data": {
      "text/plain": [
       "[[0, 0, 0, 0, 0, 0, 0, 0, 0, 0, 0, 0, 0, 0],\n",
       " [0, 4, 0, 0, 0, 0, 0, 0, 0, 0, 0, 3, 0, 0],\n",
       " [0, 0, 0, 0, 0, 2, 0, 0, 0, 0, 0, 3, 0, 1],\n",
       " [0, 0, 0, 0, 0, 0, 0, 0, 0, 0, 0, 0, 0, 0],\n",
       " [0, 2, 0, 0, 0, 1, 0, 0, 0, 0, 0, 5, 0, 0],\n",
       " [0, 0, 1, 0, 0, 13, 0, 0, 0, 0, 0, 5, 0, 0],\n",
       " [0, 0, 0, 0, 0, 0, 0, 0, 0, 0, 0, 0, 0, 0],\n",
       " [0, 0, 0, 0, 0, 0, 0, 0, 0, 0, 0, 0, 0, 0],\n",
       " [0, 0, 0, 0, 0, 0, 0, 0, 1, 0, 0, 1, 0, 0],\n",
       " [0, 0, 0, 0, 0, 0, 0, 0, 0, 0, 0, 0, 0, 0],\n",
       " [0, 0, 0, 0, 0, 0, 0, 0, 1, 0, 0, 1, 0, 0],\n",
       " [0, 0, 1, 0, 1, 1, 0, 0, 0, 0, 0, 49, 0, 1],\n",
       " [0, 1, 0, 0, 0, 0, 0, 0, 0, 0, 0, 0, 0, 0],\n",
       " [0, 0, 0, 0, 0, 1, 0, 0, 0, 0, 0, 3, 0, 0]]"
      ]
     },
     "execution_count": 122,
     "metadata": {},
     "output_type": "execute_result"
    }
   ],
   "source": [
    "test_accuracy.getInfo()"
   ]
  },
  {
   "cell_type": "code",
   "execution_count": 123,
   "id": "b406a7ae-0f7d-4af6-82de-b33a1267d4e8",
   "metadata": {},
   "outputs": [
    {
     "data": {
      "text/plain": [
       "0.6568627450980392"
      ]
     },
     "execution_count": 123,
     "metadata": {},
     "output_type": "execute_result"
    }
   ],
   "source": [
    "test_accuracy.accuracy().getInfo()"
   ]
  },
  {
   "cell_type": "code",
   "execution_count": 124,
   "id": "d21b3702-b3d6-4b38-b13e-9af0bd3d8da8",
   "metadata": {},
   "outputs": [
    {
     "data": {
      "text/plain": [
       "0.4307128049752831"
      ]
     },
     "execution_count": 124,
     "metadata": {},
     "output_type": "execute_result"
    }
   ],
   "source": [
    "test_accuracy.kappa().getInfo()"
   ]
  },
  {
   "cell_type": "code",
   "execution_count": 125,
   "id": "87359835-101a-4726-b149-26de5226e7e9",
   "metadata": {},
   "outputs": [
    {
     "data": {
      "text/plain": [
       "[[0],\n",
       " [0.5714285714285714],\n",
       " [0],\n",
       " [0],\n",
       " [0],\n",
       " [0.6842105263157895],\n",
       " [0],\n",
       " [0],\n",
       " [0.5],\n",
       " [0],\n",
       " [0],\n",
       " [0.9245283018867925],\n",
       " [0],\n",
       " [0]]"
      ]
     },
     "execution_count": 125,
     "metadata": {},
     "output_type": "execute_result"
    }
   ],
   "source": [
    "test_accuracy.producersAccuracy().getInfo()"
   ]
  },
  {
   "cell_type": "code",
   "execution_count": 45,
   "id": "d4673f14-b2c8-4522-8392-fa3b4f462b10",
   "metadata": {},
   "outputs": [
    {
     "data": {
      "text/plain": [
       "[[0, 0.75, 0, 0, 1, 0.5833333333333334, 0, 0, 1, 0, 0, 0.6875, 0, 0]]"
      ]
     },
     "execution_count": 45,
     "metadata": {},
     "output_type": "execute_result"
    }
   ],
   "source": [
    "test_accuracy.consumersAccuracy().getInfo()"
   ]
  },
  {
   "cell_type": "code",
   "execution_count": 46,
   "id": "64d9fa5a-b773-4326-9ee0-f477471d3feb",
   "metadata": {},
   "outputs": [],
   "source": [
    "import csv\n",
    "import os\n",
    "\n",
    "out_dir = os.path.join(os.path.expanduser('~'), 'Downloads')\n",
    "training_csv = os.path.join(out_dir, 'train_accuracy.csv')\n",
    "testing_csv = os.path.join(out_dir, 'test_accuracy.csv')\n",
    "\n",
    "with open(training_csv, \"w\", newline=\"\") as f:\n",
    "    writer = csv.writer(f)\n",
    "    writer.writerows(train_accuracy.getInfo())\n",
    "\n",
    "with open(testing_csv, \"w\", newline=\"\") as f:\n",
    "    writer = csv.writer(f)\n",
    "    writer.writerows(test_accuracy.getInfo())"
   ]
  },
  {
   "cell_type": "code",
   "execution_count": 54,
   "id": "9b4563c7-d28a-43ad-aca3-4f9441d3f1f5",
   "metadata": {},
   "outputs": [
    {
     "data": {
      "text/html": [
       "<div>\n",
       "<style scoped>\n",
       "    .dataframe tbody tr th:only-of-type {\n",
       "        vertical-align: middle;\n",
       "    }\n",
       "\n",
       "    .dataframe tbody tr th {\n",
       "        vertical-align: top;\n",
       "    }\n",
       "\n",
       "    .dataframe thead th {\n",
       "        text-align: right;\n",
       "    }\n",
       "</style>\n",
       "<table border=\"1\" class=\"dataframe\">\n",
       "  <thead>\n",
       "    <tr style=\"text-align: right;\">\n",
       "      <th></th>\n",
       "      <th>geometry</th>\n",
       "      <th>B1</th>\n",
       "      <th>B2</th>\n",
       "      <th>B3</th>\n",
       "      <th>B4</th>\n",
       "      <th>B5</th>\n",
       "      <th>B7</th>\n",
       "      <th>class</th>\n",
       "      <th>classification</th>\n",
       "      <th>random</th>\n",
       "    </tr>\n",
       "  </thead>\n",
       "  <tbody>\n",
       "    <tr>\n",
       "      <th>0</th>\n",
       "      <td>None</td>\n",
       "      <td>0.129140</td>\n",
       "      <td>0.130680</td>\n",
       "      <td>0.147859</td>\n",
       "      <td>0.174170</td>\n",
       "      <td>0.188052</td>\n",
       "      <td>0.150880</td>\n",
       "      <td>2</td>\n",
       "      <td>5</td>\n",
       "      <td>0.977309</td>\n",
       "    </tr>\n",
       "    <tr>\n",
       "      <th>1</th>\n",
       "      <td>None</td>\n",
       "      <td>0.127752</td>\n",
       "      <td>0.116173</td>\n",
       "      <td>0.115758</td>\n",
       "      <td>0.147272</td>\n",
       "      <td>0.181981</td>\n",
       "      <td>0.156498</td>\n",
       "      <td>2</td>\n",
       "      <td>5</td>\n",
       "      <td>0.786695</td>\n",
       "    </tr>\n",
       "    <tr>\n",
       "      <th>2</th>\n",
       "      <td>None</td>\n",
       "      <td>0.143024</td>\n",
       "      <td>0.145188</td>\n",
       "      <td>0.160205</td>\n",
       "      <td>0.198080</td>\n",
       "      <td>0.210313</td>\n",
       "      <td>0.173352</td>\n",
       "      <td>2</td>\n",
       "      <td>5</td>\n",
       "      <td>0.969770</td>\n",
       "    </tr>\n",
       "    <tr>\n",
       "      <th>3</th>\n",
       "      <td>None</td>\n",
       "      <td>0.130528</td>\n",
       "      <td>0.124877</td>\n",
       "      <td>0.137982</td>\n",
       "      <td>0.177159</td>\n",
       "      <td>0.208289</td>\n",
       "      <td>0.159307</td>\n",
       "      <td>2</td>\n",
       "      <td>11</td>\n",
       "      <td>0.921350</td>\n",
       "    </tr>\n",
       "    <tr>\n",
       "      <th>4</th>\n",
       "      <td>None</td>\n",
       "      <td>0.130528</td>\n",
       "      <td>0.136483</td>\n",
       "      <td>0.145390</td>\n",
       "      <td>0.171182</td>\n",
       "      <td>0.212337</td>\n",
       "      <td>0.181779</td>\n",
       "      <td>2</td>\n",
       "      <td>5</td>\n",
       "      <td>0.994732</td>\n",
       "    </tr>\n",
       "    <tr>\n",
       "      <th>...</th>\n",
       "      <td>...</td>\n",
       "      <td>...</td>\n",
       "      <td>...</td>\n",
       "      <td>...</td>\n",
       "      <td>...</td>\n",
       "      <td>...</td>\n",
       "      <td>...</td>\n",
       "      <td>...</td>\n",
       "      <td>...</td>\n",
       "      <td>...</td>\n",
       "    </tr>\n",
       "    <tr>\n",
       "      <th>118</th>\n",
       "      <td>None</td>\n",
       "      <td>0.133305</td>\n",
       "      <td>0.133582</td>\n",
       "      <td>0.147859</td>\n",
       "      <td>0.180148</td>\n",
       "      <td>0.220431</td>\n",
       "      <td>0.181779</td>\n",
       "      <td>5</td>\n",
       "      <td>5</td>\n",
       "      <td>0.995008</td>\n",
       "    </tr>\n",
       "    <tr>\n",
       "      <th>119</th>\n",
       "      <td>None</td>\n",
       "      <td>0.141635</td>\n",
       "      <td>0.142286</td>\n",
       "      <td>0.155267</td>\n",
       "      <td>0.180148</td>\n",
       "      <td>0.210313</td>\n",
       "      <td>0.178970</td>\n",
       "      <td>5</td>\n",
       "      <td>5</td>\n",
       "      <td>0.976322</td>\n",
       "    </tr>\n",
       "    <tr>\n",
       "      <th>120</th>\n",
       "      <td>None</td>\n",
       "      <td>0.119421</td>\n",
       "      <td>0.107468</td>\n",
       "      <td>0.108351</td>\n",
       "      <td>0.120374</td>\n",
       "      <td>0.157697</td>\n",
       "      <td>0.142452</td>\n",
       "      <td>5</td>\n",
       "      <td>5</td>\n",
       "      <td>0.791350</td>\n",
       "    </tr>\n",
       "    <tr>\n",
       "      <th>121</th>\n",
       "      <td>None</td>\n",
       "      <td>0.134694</td>\n",
       "      <td>0.136483</td>\n",
       "      <td>0.142920</td>\n",
       "      <td>0.162216</td>\n",
       "      <td>0.206266</td>\n",
       "      <td>0.170543</td>\n",
       "      <td>5</td>\n",
       "      <td>2</td>\n",
       "      <td>0.993491</td>\n",
       "    </tr>\n",
       "    <tr>\n",
       "      <th>122</th>\n",
       "      <td>None</td>\n",
       "      <td>0.130528</td>\n",
       "      <td>0.116173</td>\n",
       "      <td>0.123166</td>\n",
       "      <td>0.144283</td>\n",
       "      <td>0.188052</td>\n",
       "      <td>0.173352</td>\n",
       "      <td>5</td>\n",
       "      <td>5</td>\n",
       "      <td>0.871887</td>\n",
       "    </tr>\n",
       "  </tbody>\n",
       "</table>\n",
       "<p>123 rows × 10 columns</p>\n",
       "</div>"
      ],
      "text/plain": [
       "    geometry        B1        B2        B3        B4        B5        B7  \\\n",
       "0       None  0.129140  0.130680  0.147859  0.174170  0.188052  0.150880   \n",
       "1       None  0.127752  0.116173  0.115758  0.147272  0.181981  0.156498   \n",
       "2       None  0.143024  0.145188  0.160205  0.198080  0.210313  0.173352   \n",
       "3       None  0.130528  0.124877  0.137982  0.177159  0.208289  0.159307   \n",
       "4       None  0.130528  0.136483  0.145390  0.171182  0.212337  0.181779   \n",
       "..       ...       ...       ...       ...       ...       ...       ...   \n",
       "118     None  0.133305  0.133582  0.147859  0.180148  0.220431  0.181779   \n",
       "119     None  0.141635  0.142286  0.155267  0.180148  0.210313  0.178970   \n",
       "120     None  0.119421  0.107468  0.108351  0.120374  0.157697  0.142452   \n",
       "121     None  0.134694  0.136483  0.142920  0.162216  0.206266  0.170543   \n",
       "122     None  0.130528  0.116173  0.123166  0.144283  0.188052  0.173352   \n",
       "\n",
       "     class  classification    random  \n",
       "0        2               5  0.977309  \n",
       "1        2               5  0.786695  \n",
       "2        2               5  0.969770  \n",
       "3        2              11  0.921350  \n",
       "4        2               5  0.994732  \n",
       "..     ...             ...       ...  \n",
       "118      5               5  0.995008  \n",
       "119      5               5  0.976322  \n",
       "120      5               5  0.791350  \n",
       "121      5               2  0.993491  \n",
       "122      5               5  0.871887  \n",
       "\n",
       "[123 rows x 10 columns]"
      ]
     },
     "execution_count": 54,
     "metadata": {},
     "output_type": "execute_result"
    }
   ],
   "source": [
    "## export the result\n",
    "geemap.ee_to_geopandas(validated)"
   ]
  },
  {
   "cell_type": "code",
   "execution_count": null,
   "id": "db9d94c0-e312-44cc-8c17-1ea33f2d4a6d",
   "metadata": {},
   "outputs": [],
   "source": [
    "landcover = result.set('classification_class_values', class_values)\n",
    "landcover = landcover.set('classification_class_palette', class_palette)"
   ]
  },
  {
   "cell_type": "code",
   "execution_count": 39,
   "id": "fcc6283e-64fb-4919-ab31-d2168baf5d78",
   "metadata": {},
   "outputs": [],
   "source": [
    "import os\n",
    "\n",
    "out_dir = os.path.join(os.path.expanduser('~'), 'Downloads')\n",
    "out_file = os.path.join(out_dir, 'landcover.tif')"
   ]
  },
  {
   "cell_type": "code",
   "execution_count": 40,
   "id": "0228cfdb-2132-43ff-a27c-2caee8b5b586",
   "metadata": {},
   "outputs": [
    {
     "name": "stdout",
     "output_type": "stream",
     "text": [
      "Generating URL ...\n",
      "Downloading data from https://earthengine.googleapis.com/v1alpha/projects/earthengine-legacy/thumbnails/c33fd378681b225d93653101635c5f5a-4930d2b9ddd203a1e5feec1775688fe5:getPixels\n",
      "Please wait ...\n",
      "Data downloaded to /Users/najah/Downloads/landcover.tif\n"
     ]
    }
   ],
   "source": [
    "geemap.ee_export_image(result, filename=out_file, scale=900)"
   ]
  },
  {
   "cell_type": "code",
   "execution_count": 56,
   "id": "27f5e24c-4319-44fe-ad21-d8d2b044b123",
   "metadata": {},
   "outputs": [
    {
     "data": {
      "text/plain": [
       "ee.image.Image"
      ]
     },
     "execution_count": 56,
     "metadata": {},
     "output_type": "execute_result"
    }
   ],
   "source": [
    "type(image)"
   ]
  },
  {
   "cell_type": "code",
   "execution_count": 65,
   "id": "400c3be3-e092-4072-ac23-0dca3fca2f61",
   "metadata": {},
   "outputs": [],
   "source": [
    "in_shp = './145044_20100428_roi/145044_20100428_200points.random_points/145044_20100428_200points.shp'\n",
    "out_shp = './145044_20100428_roi/145044_20100428_200points.random_points/145044_20100428_200points_data'"
   ]
  },
  {
   "cell_type": "code",
   "execution_count": 62,
   "id": "44f541ac-9d5f-4e4e-9876-3347608e9f85",
   "metadata": {},
   "outputs": [],
   "source": [
    "in_fc = geemap.shp_to_ee(in_shp)"
   ]
  },
  {
   "cell_type": "code",
   "execution_count": 63,
   "id": "317b3cc8-8452-4ec2-b61a-de3279031862",
   "metadata": {},
   "outputs": [
    {
     "data": {
      "application/vnd.jupyter.widget-view+json": {
       "model_id": "a1466a58b7d9456ab0e1ce4a96c51d75",
       "version_major": 2,
       "version_minor": 0
      },
      "text/plain": [
       "Map(bottom=33554732.0, center=[-85.0511287798066, 328.31335902214056], controls=(WidgetControl(options=['posit…"
      ]
     },
     "metadata": {},
     "output_type": "display_data"
    }
   ],
   "source": [
    "Map.addLayer(in_fc, {}, 'Cities')\n",
    "Map"
   ]
  },
  {
   "cell_type": "code",
   "execution_count": 117,
   "id": "552d88cd-5832-41d8-bab8-00e58ba4f6d2",
   "metadata": {},
   "outputs": [
    {
     "name": "stdout",
     "output_type": "stream",
     "text": [
      "Generating URL ...\n",
      "Downloading data from https://earthengine.googleapis.com/v1alpha/projects/earthengine-legacy/tables/698640c99e6ce1c57217374e738a93d8-e4a346558f1132116e3d281132f8a334:getFeatures\n",
      "Please wait ...\n",
      "Data downloaded to /Users/najah/work/internships/meghna/LT05_L1TP_145044_20100428_20161016_01_T1/145044_20100428_models/RF/landsat.csv\n"
     ]
    }
   ],
   "source": [
    "out_csv = ('./145044_20100428_models/RF/landsat.csv')\n",
    "geemap.extract_values_to_points(in_fc, result, out_csv)\n"
   ]
  },
  {
   "cell_type": "code",
   "execution_count": 118,
   "id": "efa865d1-a257-4195-b867-8e60607155ea",
   "metadata": {},
   "outputs": [
    {
     "data": {
      "text/plain": [
       "11    71\n",
       "10    68\n",
       "5     21\n",
       "1     15\n",
       "13    10\n",
       "4      9\n",
       "2      3\n",
       "8      2\n",
       "12     1\n",
       "Name: class, dtype: int64"
      ]
     },
     "execution_count": 118,
     "metadata": {},
     "output_type": "execute_result"
    }
   ],
   "source": [
    "import pandas as pd\n",
    "table = pd.read_csv(out_csv)\n",
    "table['class'].value_counts()"
   ]
  },
  {
   "cell_type": "code",
   "execution_count": 119,
   "id": "26e15905-e685-4bc1-95e4-208189bb593a",
   "metadata": {},
   "outputs": [
    {
     "data": {
      "text/html": [
       "<div>\n",
       "<style scoped>\n",
       "    .dataframe tbody tr th:only-of-type {\n",
       "        vertical-align: middle;\n",
       "    }\n",
       "\n",
       "    .dataframe tbody tr th {\n",
       "        vertical-align: top;\n",
       "    }\n",
       "\n",
       "    .dataframe thead th {\n",
       "        text-align: right;\n",
       "    }\n",
       "</style>\n",
       "<table border=\"1\" class=\"dataframe\">\n",
       "  <thead>\n",
       "    <tr style=\"text-align: right;\">\n",
       "      <th>class</th>\n",
       "      <th>1</th>\n",
       "      <th>2</th>\n",
       "      <th>4</th>\n",
       "      <th>5</th>\n",
       "      <th>8</th>\n",
       "      <th>11</th>\n",
       "      <th>12</th>\n",
       "      <th>13</th>\n",
       "    </tr>\n",
       "    <tr>\n",
       "      <th>first</th>\n",
       "      <th></th>\n",
       "      <th></th>\n",
       "      <th></th>\n",
       "      <th></th>\n",
       "      <th></th>\n",
       "      <th></th>\n",
       "      <th></th>\n",
       "      <th></th>\n",
       "    </tr>\n",
       "  </thead>\n",
       "  <tbody>\n",
       "    <tr>\n",
       "      <th>1.0</th>\n",
       "      <td>11</td>\n",
       "      <td>0</td>\n",
       "      <td>1</td>\n",
       "      <td>0</td>\n",
       "      <td>1</td>\n",
       "      <td>6</td>\n",
       "      <td>1</td>\n",
       "      <td>0</td>\n",
       "    </tr>\n",
       "    <tr>\n",
       "      <th>4.0</th>\n",
       "      <td>0</td>\n",
       "      <td>0</td>\n",
       "      <td>3</td>\n",
       "      <td>0</td>\n",
       "      <td>0</td>\n",
       "      <td>2</td>\n",
       "      <td>0</td>\n",
       "      <td>0</td>\n",
       "    </tr>\n",
       "    <tr>\n",
       "      <th>5.0</th>\n",
       "      <td>0</td>\n",
       "      <td>3</td>\n",
       "      <td>1</td>\n",
       "      <td>17</td>\n",
       "      <td>0</td>\n",
       "      <td>6</td>\n",
       "      <td>0</td>\n",
       "      <td>0</td>\n",
       "    </tr>\n",
       "    <tr>\n",
       "      <th>8.0</th>\n",
       "      <td>0</td>\n",
       "      <td>0</td>\n",
       "      <td>0</td>\n",
       "      <td>0</td>\n",
       "      <td>1</td>\n",
       "      <td>0</td>\n",
       "      <td>0</td>\n",
       "      <td>0</td>\n",
       "    </tr>\n",
       "    <tr>\n",
       "      <th>11.0</th>\n",
       "      <td>4</td>\n",
       "      <td>0</td>\n",
       "      <td>3</td>\n",
       "      <td>4</td>\n",
       "      <td>0</td>\n",
       "      <td>56</td>\n",
       "      <td>0</td>\n",
       "      <td>9</td>\n",
       "    </tr>\n",
       "    <tr>\n",
       "      <th>13.0</th>\n",
       "      <td>0</td>\n",
       "      <td>0</td>\n",
       "      <td>1</td>\n",
       "      <td>0</td>\n",
       "      <td>0</td>\n",
       "      <td>0</td>\n",
       "      <td>0</td>\n",
       "      <td>1</td>\n",
       "    </tr>\n",
       "  </tbody>\n",
       "</table>\n",
       "</div>"
      ],
      "text/plain": [
       "class  1   2   4   5   8   11  12  13\n",
       "first                                \n",
       "1.0    11   0   1   0   1   6   1   0\n",
       "4.0     0   0   3   0   0   2   0   0\n",
       "5.0     0   3   1  17   0   6   0   0\n",
       "8.0     0   0   0   0   1   0   0   0\n",
       "11.0    4   0   3   4   0  56   0   9\n",
       "13.0    0   0   1   0   0   0   0   1"
      ]
     },
     "execution_count": 119,
     "metadata": {},
     "output_type": "execute_result"
    }
   ],
   "source": [
    "cf = pd.crosstab(table['first'], table['class'])\n",
    "cf"
   ]
  },
  {
   "cell_type": "code",
   "execution_count": 129,
   "id": "29339b33-7a62-4860-9a3a-4797d328ebaf",
   "metadata": {},
   "outputs": [
    {
     "data": {
      "text/plain": [
       "array([11,  0,  1,  0,  0,  0])"
      ]
     },
     "execution_count": 130,
     "metadata": {},
     "output_type": "execute_result"
    }
   ],
   "source": [
    "np.diag(cf).sum()"
   ]
  },
  {
   "cell_type": "code",
   "execution_count": 120,
   "id": "dde97add-958e-4181-a60f-37c39a30fdf1",
   "metadata": {},
   "outputs": [
    {
     "data": {
      "text/plain": [
       "0.0916030534351145"
      ]
     },
     "execution_count": 120,
     "metadata": {},
     "output_type": "execute_result"
    }
   ],
   "source": [
    "import numpy as np\n",
    "np.diag(cf).sum() / cf.to_numpy().sum()"
   ]
  },
  {
   "cell_type": "code",
   "execution_count": 96,
   "id": "8185c641-0d15-4d01-8675-2116fd6d6fc2",
   "metadata": {},
   "outputs": [
    {
     "data": {
      "text/html": [
       "<div>\n",
       "<style scoped>\n",
       "    .dataframe tbody tr th:only-of-type {\n",
       "        vertical-align: middle;\n",
       "    }\n",
       "\n",
       "    .dataframe tbody tr th {\n",
       "        vertical-align: top;\n",
       "    }\n",
       "\n",
       "    .dataframe thead th {\n",
       "        text-align: right;\n",
       "    }\n",
       "</style>\n",
       "<table border=\"1\" class=\"dataframe\">\n",
       "  <thead>\n",
       "    <tr style=\"text-align: right;\">\n",
       "      <th></th>\n",
       "      <th>1.0</th>\n",
       "      <th>2.0</th>\n",
       "      <th>4.0</th>\n",
       "      <th>5.0</th>\n",
       "      <th>8.0</th>\n",
       "      <th>11.0</th>\n",
       "      <th>12.0</th>\n",
       "      <th>13.0</th>\n",
       "    </tr>\n",
       "    <tr>\n",
       "      <th>first</th>\n",
       "      <th></th>\n",
       "      <th></th>\n",
       "      <th></th>\n",
       "      <th></th>\n",
       "      <th></th>\n",
       "      <th></th>\n",
       "      <th></th>\n",
       "      <th></th>\n",
       "    </tr>\n",
       "  </thead>\n",
       "  <tbody>\n",
       "    <tr>\n",
       "      <th>1.0</th>\n",
       "      <td>0.60</td>\n",
       "      <td>0.0</td>\n",
       "      <td>0.000000</td>\n",
       "      <td>0.000000</td>\n",
       "      <td>0.5</td>\n",
       "      <td>0.081081</td>\n",
       "      <td>NaN</td>\n",
       "      <td>0.0</td>\n",
       "    </tr>\n",
       "    <tr>\n",
       "      <th>2.0</th>\n",
       "      <td>0.00</td>\n",
       "      <td>0.0</td>\n",
       "      <td>0.000000</td>\n",
       "      <td>0.041667</td>\n",
       "      <td>0.0</td>\n",
       "      <td>0.013514</td>\n",
       "      <td>NaN</td>\n",
       "      <td>0.0</td>\n",
       "    </tr>\n",
       "    <tr>\n",
       "      <th>4.0</th>\n",
       "      <td>0.00</td>\n",
       "      <td>0.0</td>\n",
       "      <td>0.714286</td>\n",
       "      <td>0.000000</td>\n",
       "      <td>0.0</td>\n",
       "      <td>0.027027</td>\n",
       "      <td>NaN</td>\n",
       "      <td>0.0</td>\n",
       "    </tr>\n",
       "    <tr>\n",
       "      <th>5.0</th>\n",
       "      <td>0.00</td>\n",
       "      <td>1.5</td>\n",
       "      <td>0.142857</td>\n",
       "      <td>0.708333</td>\n",
       "      <td>0.0</td>\n",
       "      <td>0.040541</td>\n",
       "      <td>NaN</td>\n",
       "      <td>0.0</td>\n",
       "    </tr>\n",
       "    <tr>\n",
       "      <th>8.0</th>\n",
       "      <td>0.00</td>\n",
       "      <td>0.0</td>\n",
       "      <td>0.000000</td>\n",
       "      <td>0.000000</td>\n",
       "      <td>0.5</td>\n",
       "      <td>0.013514</td>\n",
       "      <td>NaN</td>\n",
       "      <td>0.0</td>\n",
       "    </tr>\n",
       "    <tr>\n",
       "      <th>11.0</th>\n",
       "      <td>0.15</td>\n",
       "      <td>0.0</td>\n",
       "      <td>0.285714</td>\n",
       "      <td>0.125000</td>\n",
       "      <td>0.0</td>\n",
       "      <td>0.770270</td>\n",
       "      <td>NaN</td>\n",
       "      <td>4.5</td>\n",
       "    </tr>\n",
       "    <tr>\n",
       "      <th>13.0</th>\n",
       "      <td>0.00</td>\n",
       "      <td>0.0</td>\n",
       "      <td>0.142857</td>\n",
       "      <td>0.000000</td>\n",
       "      <td>0.0</td>\n",
       "      <td>0.000000</td>\n",
       "      <td>NaN</td>\n",
       "      <td>0.5</td>\n",
       "    </tr>\n",
       "  </tbody>\n",
       "</table>\n",
       "</div>"
      ],
      "text/plain": [
       "       1.0   2.0       4.0       5.0   8.0       11.0  12.0  13.0\n",
       "first                                                            \n",
       "1.0    0.60   0.0  0.000000  0.000000   0.5  0.081081   NaN   0.0\n",
       "2.0    0.00   0.0  0.000000  0.041667   0.0  0.013514   NaN   0.0\n",
       "4.0    0.00   0.0  0.714286  0.000000   0.0  0.027027   NaN   0.0\n",
       "5.0    0.00   1.5  0.142857  0.708333   0.0  0.040541   NaN   0.0\n",
       "8.0    0.00   0.0  0.000000  0.000000   0.5  0.013514   NaN   0.0\n",
       "11.0   0.15   0.0  0.285714  0.125000   0.0  0.770270   NaN   4.5\n",
       "13.0   0.00   0.0  0.142857  0.000000   0.0  0.000000   NaN   0.5"
      ]
     },
     "execution_count": 96,
     "metadata": {},
     "output_type": "execute_result"
    }
   ],
   "source": [
    "cf / cf.sum(axis=1)"
   ]
  },
  {
   "cell_type": "code",
   "execution_count": null,
   "id": "46daa96e-91a5-44b5-8819-228a80840b18",
   "metadata": {},
   "outputs": [],
   "source": []
  }
 ],
 "metadata": {
  "kernelspec": {
   "display_name": "Python 3 (ipykernel)",
   "language": "python",
   "name": "python3"
  },
  "language_info": {
   "codemirror_mode": {
    "name": "ipython",
    "version": 3
   },
   "file_extension": ".py",
   "mimetype": "text/x-python",
   "name": "python",
   "nbconvert_exporter": "python",
   "pygments_lexer": "ipython3",
   "version": "3.9.13"
  }
 },
 "nbformat": 4,
 "nbformat_minor": 5
}
