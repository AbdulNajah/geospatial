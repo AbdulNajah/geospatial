{
 "cells": [
  {
   "cell_type": "code",
   "execution_count": 2,
   "id": "1dbe224a",
   "metadata": {},
   "outputs": [],
   "source": [
    "import ee\n",
    "import geemap\n",
    "\n",
    "import os"
   ]
  },
  {
   "cell_type": "code",
   "execution_count": 3,
   "id": "c134c085",
   "metadata": {},
   "outputs": [
    {
     "data": {
      "text/html": [
       "<p>To authorize access needed by Earth Engine, open the following\n",
       "        URL in a web browser and follow the instructions:</p>\n",
       "        <p><a href=https://code.earthengine.google.com/client-auth?scopes=https%3A//www.googleapis.com/auth/earthengine%20https%3A//www.googleapis.com/auth/devstorage.full_control&request_id=Rm3l2iw7_NC6aspyqrWNQ7dcjUMLPiEd1Zs_J4biEaE&tc=k1xtZNwKyg-da9zAJ01djS0rig_Xkp5eSDagvPyrZ5g&cc=mptTGKUZGSmM4ZCCHyxRaltEuBLUVWepEo6SMGtoLnA>https://code.earthengine.google.com/client-auth?scopes=https%3A//www.googleapis.com/auth/earthengine%20https%3A//www.googleapis.com/auth/devstorage.full_control&request_id=Rm3l2iw7_NC6aspyqrWNQ7dcjUMLPiEd1Zs_J4biEaE&tc=k1xtZNwKyg-da9zAJ01djS0rig_Xkp5eSDagvPyrZ5g&cc=mptTGKUZGSmM4ZCCHyxRaltEuBLUVWepEo6SMGtoLnA</a></p>\n",
       "        <p>The authorization workflow will generate a code, which you\n",
       "        should paste in the box below</p>\n",
       "        "
      ],
      "text/plain": [
       "<IPython.core.display.HTML object>"
      ]
     },
     "metadata": {},
     "output_type": "display_data"
    },
    {
     "name": "stdout",
     "output_type": "stream",
     "text": [
      "Enter verification code: 4/1AX4XfWj6JXyY_CddQqyo7jtLcxjbxNq2Ga0vTFtdkdQSvIniovtMIYlSx2g\n",
      "\n",
      "Successfully saved authorization token.\n"
     ]
    }
   ],
   "source": [
    "ee.Authenticate()"
   ]
  },
  {
   "cell_type": "code",
   "execution_count": 3,
   "id": "11cfd7db",
   "metadata": {},
   "outputs": [],
   "source": [
    "ee.Initialize()"
   ]
  },
  {
   "cell_type": "markdown",
   "id": "838872c6",
   "metadata": {},
   "source": [
    "### Importing the landsat data - single image download"
   ]
  },
  {
   "cell_type": "code",
   "execution_count": 14,
   "id": "ac3c3dfe",
   "metadata": {},
   "outputs": [],
   "source": [
    "lc8 = ee.ImageCollection('LANDSAT/LC08/C01/T1_TOA')\n",
    "\n",
    "lc5 = ee.ImageCollection('LANDSAT/LT05/C01/T1_TOA')\n",
    "\n",
    "lc5_img1 = lc5.filterMetadata('LANDSAT_SCENE_ID','equals','LT51450482010086BKT02').select('B*')\n",
    "\n",
    "\n",
    "##.select('B6','B5', 'B4')"
   ]
  },
  {
   "cell_type": "code",
   "execution_count": 12,
   "id": "5b0d6895",
   "metadata": {},
   "outputs": [],
   "source": [
    "lc5 = ee.ImageCollection('LANDSAT/LT05/C01/T1_TOA')\n",
    "\n",
    "lc5_img1 = lc5.filterMetadata('LANDSAT_PRODUCT_ID','equals','LT05_L1TP_145044_20100428_20161016_01_T1').select('B*')"
   ]
  },
  {
   "cell_type": "code",
   "execution_count": null,
   "id": "456ba216",
   "metadata": {},
   "outputs": [],
   "source": [
    " \"LANDSAT/LT05/C02/T1_TOA/LT05_L1TP_145044_20100428_20161016_01_T1\""
   ]
  },
  {
   "cell_type": "code",
   "execution_count": 9,
   "id": "a40b8ce6",
   "metadata": {},
   "outputs": [],
   "source": [
    "\n",
    "\n",
    "#LANDSAT/LC8_L1T_TOA/LC81290502015036LGN00\n",
    "lc8_img1 = ee.Image('LT05_L1TP_145048_20100327_20200824_02_T1').select('B6', 'B5', 'B4')\n"
   ]
  },
  {
   "cell_type": "code",
   "execution_count": 10,
   "id": "fcc6c0d1",
   "metadata": {},
   "outputs": [
    {
     "name": "stdout",
     "output_type": "stream",
     "text": [
      "Metadata properties:  ['system:version', 'system:id']\n",
      "ee.List({\n",
      "  \"functionInvocationValue\": {\n",
      "    \"functionName\": \"Element.propertyNames\",\n",
      "    \"arguments\": {\n",
      "      \"element\": {\n",
      "        \"functionInvocationValue\": {\n",
      "          \"functionName\": \"Collection.map\",\n",
      "          \"arguments\": {\n",
      "            \"baseAlgorithm\": {\n",
      "              \"functionDefinitionValue\": {\n",
      "                \"argumentNames\": [\n",
      "                  \"_MAPPING_VAR_0_0\"\n",
      "                ],\n",
      "                \"body\": {\n",
      "                  \"functionInvocationValue\": {\n",
      "                    \"functionName\": \"Image.select\",\n",
      "                    \"arguments\": {\n",
      "                      \"bandSelectors\": {\n",
      "                        \"constantValue\": [\n",
      "                          \"B*\"\n",
      "                        ]\n",
      "                      },\n",
      "                      \"input\": {\n",
      "                        \"argumentReference\": \"_MAPPING_VAR_0_0\"\n",
      "                      }\n",
      "                    }\n",
      "                  }\n",
      "                }\n",
      "              }\n",
      "            },\n",
      "            \"collection\": {\n",
      "              \"functionInvocationValue\": {\n",
      "                \"functionName\": \"Collection.filter\",\n",
      "                \"arguments\": {\n",
      "                  \"collection\": {\n",
      "                    \"functionInvocationValue\": {\n",
      "                      \"functionName\": \"ImageCollection.load\",\n",
      "                      \"arguments\": {\n",
      "                        \"id\": {\n",
      "                          \"constantValue\": \"LANDSAT/LT05/C02/T1_TOA\"\n",
      "                        }\n",
      "                      }\n",
      "                    }\n",
      "                  },\n",
      "                  \"filter\": {\n",
      "                    \"functionInvocationValue\": {\n",
      "                      \"functionName\": \"Filter.equals\",\n",
      "                      \"arguments\": {\n",
      "                        \"leftField\": {\n",
      "                          \"constantValue\": \"LANDSAT_PRODUCT_ID\"\n",
      "                        },\n",
      "                        \"rightValue\": {\n",
      "                          \"constantValue\": \"LT05_L1TP_145044_20100428_20161016_01_T1\"\n",
      "                        }\n",
      "                      }\n",
      "                    }\n",
      "                  }\n",
      "                }\n",
      "              }\n",
      "            }\n",
      "          }\n",
      "        }\n",
      "      }\n",
      "    }\n",
      "  }\n",
      "})\n"
     ]
    }
   ],
   "source": [
    "properties = lc5_img1.propertyNames()\n",
    "\n",
    "print('Metadata properties: ', properties.getInfo())\n",
    "\n",
    "print(properties)"
   ]
  },
  {
   "cell_type": "code",
   "execution_count": 15,
   "id": "68fd0f94",
   "metadata": {},
   "outputs": [
    {
     "name": "stdout",
     "output_type": "stream",
     "text": [
      "CLOUD_COVER:  None\n"
     ]
    }
   ],
   "source": [
    "cloudiness = lc5_img1.get('LANDSAT_PRODUCT_ID')\n",
    "print('CLOUD_COVER: ', cloudiness.getInfo())"
   ]
  },
  {
   "cell_type": "code",
   "execution_count": 16,
   "id": "3e937a61",
   "metadata": {},
   "outputs": [
    {
     "data": {
      "text/plain": [
       "['LT05_L1TP_145048_20100327_20161016_01_T1']"
      ]
     },
     "execution_count": 16,
     "metadata": {},
     "output_type": "execute_result"
    }
   ],
   "source": [
    "lc5_img1.aggregate_array('LANDSAT_PRODUCT_ID').getInfo()"
   ]
  },
  {
   "cell_type": "code",
   "execution_count": 50,
   "id": "d95ea815",
   "metadata": {},
   "outputs": [],
   "source": [
    "img1 = ee.Image.load('LT05_L1TP_145048_20100327_20200824_02_T1')\n"
   ]
  },
  {
   "cell_type": "markdown",
   "id": "afa15c4a",
   "metadata": {},
   "source": [
    "Need geemap for the mapping functionality. calling geemap basemap"
   ]
  },
  {
   "cell_type": "code",
   "execution_count": 14,
   "id": "dd24f088",
   "metadata": {},
   "outputs": [],
   "source": [
    "Map = geemap.Map(center = (24.612875,77.230997), zoom = 5)"
   ]
  },
  {
   "cell_type": "markdown",
   "id": "f387ff6c",
   "metadata": {},
   "source": [
    "#### viz params"
   ]
  },
  {
   "cell_type": "code",
   "execution_count": 17,
   "id": "c84e2c4b",
   "metadata": {},
   "outputs": [],
   "source": [
    "lc_viz = {\n",
    "    'min': 0,\n",
    "    'max': .25,\n",
    "    'bands': ['B6','B5','B4']\n",
    "}"
   ]
  },
  {
   "cell_type": "code",
   "execution_count": 53,
   "id": "e1fd50b1",
   "metadata": {},
   "outputs": [
    {
     "ename": "EEException",
     "evalue": "Image.load: Image asset 'LT05_L1TP_145048_20100327_20200824_02_T1' not found.",
     "output_type": "error",
     "traceback": [
      "\u001b[0;31m---------------------------------------------------------------------------\u001b[0m",
      "\u001b[0;31mHttpError\u001b[0m                                 Traceback (most recent call last)",
      "File \u001b[0;32m~/opt/anaconda3/envs/gee/lib/python3.10/site-packages/ee/data.py:330\u001b[0m, in \u001b[0;36m_execute_cloud_call\u001b[0;34m(call, num_retries)\u001b[0m\n\u001b[1;32m    329\u001b[0m \u001b[38;5;28;01mtry\u001b[39;00m:\n\u001b[0;32m--> 330\u001b[0m   \u001b[38;5;28;01mreturn\u001b[39;00m \u001b[43mcall\u001b[49m\u001b[38;5;241;43m.\u001b[39;49m\u001b[43mexecute\u001b[49m\u001b[43m(\u001b[49m\u001b[43mnum_retries\u001b[49m\u001b[38;5;241;43m=\u001b[39;49m\u001b[43mnum_retries\u001b[49m\u001b[43m)\u001b[49m\n\u001b[1;32m    331\u001b[0m \u001b[38;5;28;01mexcept\u001b[39;00m googleapiclient\u001b[38;5;241m.\u001b[39merrors\u001b[38;5;241m.\u001b[39mHttpError \u001b[38;5;28;01mas\u001b[39;00m e:\n",
      "File \u001b[0;32m~/opt/anaconda3/envs/gee/lib/python3.10/site-packages/googleapiclient/_helpers.py:134\u001b[0m, in \u001b[0;36mpositional.<locals>.positional_decorator.<locals>.positional_wrapper\u001b[0;34m(*args, **kwargs)\u001b[0m\n\u001b[1;32m    133\u001b[0m         logger\u001b[38;5;241m.\u001b[39mwarning(message)\n\u001b[0;32m--> 134\u001b[0m \u001b[38;5;28;01mreturn\u001b[39;00m \u001b[43mwrapped\u001b[49m\u001b[43m(\u001b[49m\u001b[38;5;241;43m*\u001b[39;49m\u001b[43margs\u001b[49m\u001b[43m,\u001b[49m\u001b[43m \u001b[49m\u001b[38;5;241;43m*\u001b[39;49m\u001b[38;5;241;43m*\u001b[39;49m\u001b[43mkwargs\u001b[49m\u001b[43m)\u001b[49m\n",
      "File \u001b[0;32m~/opt/anaconda3/envs/gee/lib/python3.10/site-packages/googleapiclient/http.py:915\u001b[0m, in \u001b[0;36mHttpRequest.execute\u001b[0;34m(self, http, num_retries)\u001b[0m\n\u001b[1;32m    914\u001b[0m \u001b[38;5;28;01mif\u001b[39;00m resp\u001b[38;5;241m.\u001b[39mstatus \u001b[38;5;241m>\u001b[39m\u001b[38;5;241m=\u001b[39m \u001b[38;5;241m300\u001b[39m:\n\u001b[0;32m--> 915\u001b[0m     \u001b[38;5;28;01mraise\u001b[39;00m HttpError(resp, content, uri\u001b[38;5;241m=\u001b[39m\u001b[38;5;28mself\u001b[39m\u001b[38;5;241m.\u001b[39muri)\n\u001b[1;32m    916\u001b[0m \u001b[38;5;28;01mreturn\u001b[39;00m \u001b[38;5;28mself\u001b[39m\u001b[38;5;241m.\u001b[39mpostproc(resp, content)\n",
      "\u001b[0;31mHttpError\u001b[0m: <HttpError 400 when requesting https://earthengine.googleapis.com/v1alpha/projects/earthengine-legacy/maps?fields=name&alt=json returned \"Image.load: Image asset 'LT05_L1TP_145048_20100327_20200824_02_T1' not found.\". Details: \"Image.load: Image asset 'LT05_L1TP_145048_20100327_20200824_02_T1' not found.\">",
      "\nDuring handling of the above exception, another exception occurred:\n",
      "\u001b[0;31mEEException\u001b[0m                               Traceback (most recent call last)",
      "Input \u001b[0;32mIn [53]\u001b[0m, in \u001b[0;36m<cell line: 1>\u001b[0;34m()\u001b[0m\n\u001b[0;32m----> 1\u001b[0m \u001b[43mMap\u001b[49m\u001b[38;5;241;43m.\u001b[39;49m\u001b[43maddLayer\u001b[49m\u001b[43m(\u001b[49m\u001b[43mlc8_img1\u001b[49m\u001b[43m,\u001b[49m\u001b[43m \u001b[49m\u001b[43mlc_viz\u001b[49m\u001b[43m)\u001b[49m\n\u001b[1;32m      2\u001b[0m Map\n",
      "File \u001b[0;32m~/opt/anaconda3/envs/gee/lib/python3.10/site-packages/geemap/geemap.py:1409\u001b[0m, in \u001b[0;36mMap.add_ee_layer\u001b[0;34m(self, ee_object, vis_params, name, shown, opacity)\u001b[0m\n\u001b[1;32m   1406\u001b[0m         \u001b[38;5;28mprint\u001b[39m(\u001b[38;5;124m\"\u001b[39m\u001b[38;5;124mThe provided palette is invalid.\u001b[39m\u001b[38;5;124m\"\u001b[39m)\n\u001b[1;32m   1407\u001b[0m         \u001b[38;5;28;01mraise\u001b[39;00m \u001b[38;5;167;01mException\u001b[39;00m(e)\n\u001b[0;32m-> 1409\u001b[0m map_id_dict \u001b[38;5;241m=\u001b[39m \u001b[43mee\u001b[49m\u001b[38;5;241;43m.\u001b[39;49m\u001b[43mImage\u001b[49m\u001b[43m(\u001b[49m\u001b[43mimage\u001b[49m\u001b[43m)\u001b[49m\u001b[38;5;241;43m.\u001b[39;49m\u001b[43mgetMapId\u001b[49m\u001b[43m(\u001b[49m\u001b[43mvis_params\u001b[49m\u001b[43m)\u001b[49m\n\u001b[1;32m   1410\u001b[0m tile_layer \u001b[38;5;241m=\u001b[39m ipyleaflet\u001b[38;5;241m.\u001b[39mTileLayer(\n\u001b[1;32m   1411\u001b[0m     url\u001b[38;5;241m=\u001b[39mmap_id_dict[\u001b[38;5;124m\"\u001b[39m\u001b[38;5;124mtile_fetcher\u001b[39m\u001b[38;5;124m\"\u001b[39m]\u001b[38;5;241m.\u001b[39murl_format,\n\u001b[1;32m   1412\u001b[0m     attribution\u001b[38;5;241m=\u001b[39m\u001b[38;5;124m\"\u001b[39m\u001b[38;5;124mGoogle Earth Engine\u001b[39m\u001b[38;5;124m\"\u001b[39m,\n\u001b[0;32m   (...)\u001b[0m\n\u001b[1;32m   1416\u001b[0m     max_zoom\u001b[38;5;241m=\u001b[39m\u001b[38;5;241m24\u001b[39m,\n\u001b[1;32m   1417\u001b[0m )\n\u001b[1;32m   1419\u001b[0m layer \u001b[38;5;241m=\u001b[39m \u001b[38;5;28mself\u001b[39m\u001b[38;5;241m.\u001b[39mfind_layer(name\u001b[38;5;241m=\u001b[39mname)\n",
      "File \u001b[0;32m~/opt/anaconda3/envs/gee/lib/python3.10/site-packages/ee/image.py:130\u001b[0m, in \u001b[0;36mImage.getMapId\u001b[0;34m(self, vis_params)\u001b[0m\n\u001b[1;32m    128\u001b[0m vis_image, request \u001b[38;5;241m=\u001b[39m \u001b[38;5;28mself\u001b[39m\u001b[38;5;241m.\u001b[39m_apply_visualization(vis_params)\n\u001b[1;32m    129\u001b[0m request[\u001b[38;5;124m'\u001b[39m\u001b[38;5;124mimage\u001b[39m\u001b[38;5;124m'\u001b[39m] \u001b[38;5;241m=\u001b[39m vis_image\n\u001b[0;32m--> 130\u001b[0m response \u001b[38;5;241m=\u001b[39m \u001b[43mdata\u001b[49m\u001b[38;5;241;43m.\u001b[39;49m\u001b[43mgetMapId\u001b[49m\u001b[43m(\u001b[49m\u001b[43mrequest\u001b[49m\u001b[43m)\u001b[49m\n\u001b[1;32m    131\u001b[0m response[\u001b[38;5;124m'\u001b[39m\u001b[38;5;124mimage\u001b[39m\u001b[38;5;124m'\u001b[39m] \u001b[38;5;241m=\u001b[39m \u001b[38;5;28mself\u001b[39m\n\u001b[1;32m    132\u001b[0m \u001b[38;5;28;01mreturn\u001b[39;00m response\n",
      "File \u001b[0;32m~/opt/anaconda3/envs/gee/lib/python3.10/site-packages/ee/data.py:569\u001b[0m, in \u001b[0;36mgetMapId\u001b[0;34m(params)\u001b[0m\n\u001b[1;32m    566\u001b[0m   request[\u001b[38;5;124m'\u001b[39m\u001b[38;5;124mvisualizationOptions\u001b[39m\u001b[38;5;124m'\u001b[39m] \u001b[38;5;241m=\u001b[39m visualizationOptions\n\u001b[1;32m    567\u001b[0m \u001b[38;5;66;03m# Make it return only the name field, as otherwise it echoes the entire\u001b[39;00m\n\u001b[1;32m    568\u001b[0m \u001b[38;5;66;03m# request, which might be large.\u001b[39;00m\n\u001b[0;32m--> 569\u001b[0m result \u001b[38;5;241m=\u001b[39m \u001b[43m_execute_cloud_call\u001b[49m\u001b[43m(\u001b[49m\n\u001b[1;32m    570\u001b[0m \u001b[43m    \u001b[49m\u001b[43m_get_cloud_api_resource\u001b[49m\u001b[43m(\u001b[49m\u001b[43m)\u001b[49m\u001b[38;5;241;43m.\u001b[39;49m\u001b[43mprojects\u001b[49m\u001b[43m(\u001b[49m\u001b[43m)\u001b[49m\u001b[38;5;241;43m.\u001b[39;49m\u001b[43mmaps\u001b[49m\u001b[43m(\u001b[49m\u001b[43m)\u001b[49m\u001b[38;5;241;43m.\u001b[39;49m\u001b[43mcreate\u001b[49m\u001b[43m(\u001b[49m\n\u001b[1;32m    571\u001b[0m \u001b[43m        \u001b[49m\u001b[43mparent\u001b[49m\u001b[38;5;241;43m=\u001b[39;49m\u001b[43m_get_projects_path\u001b[49m\u001b[43m(\u001b[49m\u001b[43m)\u001b[49m\u001b[43m,\u001b[49m\u001b[43m \u001b[49m\u001b[43mfields\u001b[49m\u001b[38;5;241;43m=\u001b[39;49m\u001b[38;5;124;43m'\u001b[39;49m\u001b[38;5;124;43mname\u001b[39;49m\u001b[38;5;124;43m'\u001b[39;49m\u001b[43m,\u001b[49m\u001b[43m \u001b[49m\u001b[43mbody\u001b[49m\u001b[38;5;241;43m=\u001b[39;49m\u001b[43mrequest\u001b[49m\u001b[43m)\u001b[49m\u001b[43m)\u001b[49m\n\u001b[1;32m    572\u001b[0m map_name \u001b[38;5;241m=\u001b[39m result[\u001b[38;5;124m'\u001b[39m\u001b[38;5;124mname\u001b[39m\u001b[38;5;124m'\u001b[39m]\n\u001b[1;32m    573\u001b[0m url_format \u001b[38;5;241m=\u001b[39m \u001b[38;5;124m'\u001b[39m\u001b[38;5;132;01m%s\u001b[39;00m\u001b[38;5;124m/\u001b[39m\u001b[38;5;132;01m%s\u001b[39;00m\u001b[38;5;124m/\u001b[39m\u001b[38;5;132;01m%s\u001b[39;00m\u001b[38;5;124m/tiles/\u001b[39m\u001b[38;5;132;01m{z}\u001b[39;00m\u001b[38;5;124m/\u001b[39m\u001b[38;5;132;01m{x}\u001b[39;00m\u001b[38;5;124m/\u001b[39m\u001b[38;5;132;01m{y}\u001b[39;00m\u001b[38;5;124m'\u001b[39m \u001b[38;5;241m%\u001b[39m (\n\u001b[1;32m    574\u001b[0m     _tile_base_url, _cloud_api_utils\u001b[38;5;241m.\u001b[39mVERSION, map_name)\n",
      "File \u001b[0;32m~/opt/anaconda3/envs/gee/lib/python3.10/site-packages/ee/data.py:332\u001b[0m, in \u001b[0;36m_execute_cloud_call\u001b[0;34m(call, num_retries)\u001b[0m\n\u001b[1;32m    330\u001b[0m   \u001b[38;5;28;01mreturn\u001b[39;00m call\u001b[38;5;241m.\u001b[39mexecute(num_retries\u001b[38;5;241m=\u001b[39mnum_retries)\n\u001b[1;32m    331\u001b[0m \u001b[38;5;28;01mexcept\u001b[39;00m googleapiclient\u001b[38;5;241m.\u001b[39merrors\u001b[38;5;241m.\u001b[39mHttpError \u001b[38;5;28;01mas\u001b[39;00m e:\n\u001b[0;32m--> 332\u001b[0m   \u001b[38;5;28;01mraise\u001b[39;00m _translate_cloud_exception(e)\n",
      "\u001b[0;31mEEException\u001b[0m: Image.load: Image asset 'LT05_L1TP_145048_20100327_20200824_02_T1' not found."
     ]
    }
   ],
   "source": [
    "Map.addLayer(lc8_img1, lc_viz)\n",
    "Map"
   ]
  },
  {
   "cell_type": "code",
   "execution_count": 26,
   "id": "1d64ce8a",
   "metadata": {},
   "outputs": [],
   "source": [
    "# Draw any shapes on the map using the Drawing tools before executing this code block\n",
    "feature = Map.draw_last_feature\n",
    "\n",
    "roi = feature.geometry()"
   ]
  },
  {
   "cell_type": "code",
   "execution_count": 27,
   "id": "c65afda5",
   "metadata": {},
   "outputs": [],
   "source": [
    "out_dir = os.path.join(os.path.expanduser('~'), 'work/internships/meghna')\n",
    "filename = os.path.join(out_dir, 'LT51450482010086BKT02.tif')"
   ]
  },
  {
   "cell_type": "markdown",
   "id": "3a4b339a",
   "metadata": {},
   "source": [
    "### final download"
   ]
  },
  {
   "cell_type": "code",
   "execution_count": 28,
   "id": "41dad35c",
   "metadata": {},
   "outputs": [
    {
     "ename": "AttributeError",
     "evalue": "'ImageCollection' object has no attribute 'clip'",
     "output_type": "error",
     "traceback": [
      "\u001b[0;31m---------------------------------------------------------------------------\u001b[0m",
      "\u001b[0;31mAttributeError\u001b[0m                            Traceback (most recent call last)",
      "Input \u001b[0;32mIn [28]\u001b[0m, in \u001b[0;36m<cell line: 1>\u001b[0;34m()\u001b[0m\n\u001b[0;32m----> 1\u001b[0m image \u001b[38;5;241m=\u001b[39m \u001b[43mlc5_img1\u001b[49m\u001b[38;5;241;43m.\u001b[39;49m\u001b[43mclip\u001b[49m(roi)\u001b[38;5;241m.\u001b[39munmask()\n",
      "\u001b[0;31mAttributeError\u001b[0m: 'ImageCollection' object has no attribute 'clip'"
     ]
    }
   ],
   "source": [
    "image = lc5_img1.clip(roi).unmask()"
   ]
  },
  {
   "cell_type": "code",
   "execution_count": 85,
   "id": "34939434",
   "metadata": {},
   "outputs": [
    {
     "name": "stdout",
     "output_type": "stream",
     "text": [
      "Generating URL ...\n",
      "An error occurred while downloading.\n",
      "Pixel grid dimensions (10856x8961) must be less than or equal to 10000.\n"
     ]
    }
   ],
   "source": [
    "geemap.ee_export_image(\n",
    "    image, filename=filename, scale=30, region=roi, file_per_band=False\n",
    ")"
   ]
  },
  {
   "cell_type": "code",
   "execution_count": 100,
   "id": "e0b67054",
   "metadata": {},
   "outputs": [
    {
     "name": "stdout",
     "output_type": "stream",
     "text": [
      "Exporting LC81430482021070LGN00 ...\n"
     ]
    }
   ],
   "source": [
    "geemap.ee_export_image_to_drive(\n",
    "    image, description='LT51450482010086BKT02', folder='earthengine', region=roi, scale=30\n",
    ")"
   ]
  },
  {
   "cell_type": "markdown",
   "id": "fcaf38db",
   "metadata": {},
   "source": [
    "from files"
   ]
  },
  {
   "cell_type": "code",
   "execution_count": 30,
   "id": "e8377ab0",
   "metadata": {},
   "outputs": [],
   "source": [
    "import os\n",
    "out_dir = os.path.expanduser('/Users/najah/work/internships/meghna/images/LT05_L1TP_145044_20100428_20161016_01_T1/')\n",
    "\n",
    "landsat = os.path.join(out_dir, '145044_20100428_stacked_masked')"
   ]
  },
  {
   "cell_type": "code",
   "execution_count": 32,
   "id": "2ccaee69",
   "metadata": {},
   "outputs": [
    {
     "data": {
      "application/vnd.jupyter.widget-view+json": {
       "model_id": "ae5cf371133c4dec8e0fe24797351d30",
       "version_major": 2,
       "version_minor": 0
      },
      "text/plain": [
       "Url()"
      ]
     },
     "metadata": {},
     "output_type": "display_data"
    }
   ],
   "source": [
    "Map.add_raster(landsat, bands=[5, 4, 3], layer_name='Landsat')"
   ]
  },
  {
   "cell_type": "code",
   "execution_count": 51,
   "id": "fa519773",
   "metadata": {},
   "outputs": [],
   "source": [
    "# lc5 = ee.ImageCollection('LANDSAT/LT05/C01/T1_TOA')\n",
    "\n",
    "lc5 = ee.ImageCollection('LANDSAT/LT05/C01/T2_SR')\n",
    "\n",
    "lc5_img1 = lc5.filterMetadata('LANDSAT_PRODUCT_ID','equals','LT05_L1TP_145044_20100428_20161016_01_T1')"
   ]
  },
  {
   "cell_type": "code",
   "execution_count": 52,
   "id": "3df512d9",
   "metadata": {},
   "outputs": [
    {
     "data": {
      "text/plain": [
       "[]"
      ]
     },
     "execution_count": 52,
     "metadata": {},
     "output_type": "execute_result"
    }
   ],
   "source": [
    "lc5_img1.aggregate_array('LANDSAT_SCENE_ID').getInfo()"
   ]
  },
  {
   "cell_type": "code",
   "execution_count": 50,
   "id": "6a1b3b54",
   "metadata": {},
   "outputs": [],
   "source": [
    "Map.addLayer(\n",
    "    lc5_img1,\n",
    "    {'bands': ['B5', 'B4', 'B3'], 'min': 0, 'max': .25, 'gamma': 1.5},\n",
    "    'Landsat 5',\n",
    ")\n"
   ]
  },
  {
   "cell_type": "code",
   "execution_count": 62,
   "id": "69b315d2",
   "metadata": {
    "collapsed": true,
    "jupyter": {
     "outputs_hidden": true
    }
   },
   "outputs": [
    {
     "data": {
      "application/vnd.jupyter.widget-view+json": {
       "model_id": "a5f749ac766c44fa9502dd46725bae0d",
       "version_major": 2,
       "version_minor": 0
      },
      "text/plain": [
       "Map(bottom=28811.0, center=[22.760986169250472, 809357.7090454103], controls=(WidgetControl(options=['position…"
      ]
     },
     "metadata": {},
     "output_type": "display_data"
    }
   ],
   "source": [
    "sr2011 = ee.ImageCollection(\"LANDSAT/LT05/C01/T1_SR\") \\\n",
    "  .filterDate('2010-04-27', '2010-04-29') \\\n",
    "  .filter(ee.Filter.eq('WRS_PATH', 145)) \\\n",
    "  .filter(ee.Filter.eq('WRS_ROW', 44))\n",
    "\n",
    "Map.addLayer(\n",
    "    sr2011,\n",
    "    {'bands': ['B5', 'B4', 'B3'], 'min': 0, 'max': 1, 'gamma': 1.5},\n",
    "    'Landsat 5',\n",
    ")\n",
    "Map"
   ]
  },
  {
   "cell_type": "code",
   "execution_count": 97,
   "id": "7df5e258",
   "metadata": {},
   "outputs": [],
   "source": [
    "lc5_2 = ee.Image('LANDSAT/LT05/C02/T1_L2/LT05_145044_20100428')"
   ]
  },
  {
   "cell_type": "code",
   "execution_count": 102,
   "id": "434934b8",
   "metadata": {
    "collapsed": true,
    "jupyter": {
     "outputs_hidden": true
    }
   },
   "outputs": [
    {
     "data": {
      "application/vnd.jupyter.widget-view+json": {
       "model_id": "a5f749ac766c44fa9502dd46725bae0d",
       "version_major": 2,
       "version_minor": 0
      },
      "text/plain": [
       "Map(bottom=28811.0, center=[22.760986169250472, 809357.7090454103], controls=(WidgetControl(options=['position…"
      ]
     },
     "metadata": {},
     "output_type": "display_data"
    }
   ],
   "source": [
    "Map.addLayer(\n",
    "    lc5_2,\n",
    "    {'bands': ['SR_B5', 'SR_B4', 'SR_B3'], 'min': 0, 'max': .3},\n",
    "    'Landsat 5',\n",
    ")\n",
    "Map"
   ]
  },
  {
   "cell_type": "code",
   "execution_count": 107,
   "id": "71112437",
   "metadata": {},
   "outputs": [
    {
     "data": {
      "application/vnd.jupyter.widget-view+json": {
       "model_id": "deba368511984e249410874b13cf2a8a",
       "version_major": 2,
       "version_minor": 0
      },
      "text/plain": [
       "Map(center=[20, 0], controls=(WidgetControl(options=['position', 'transparent_bg'], widget=HBox(children=(Togg…"
      ]
     },
     "metadata": {},
     "output_type": "display_data"
    }
   ],
   "source": [
    "Map = geemap.Map()\n",
    "\n",
    "dataset = ee.ImageCollection('LANDSAT/LT05/C02/T1_L2')\\\n",
    "  .filterDate('2010-04-27', '2010-04-29') \\\n",
    "  .filter(ee.Filter.eq('WRS_PATH', 145)) \\\n",
    "  .filter(ee.Filter.eq('WRS_ROW', 44))\n",
    "\n",
    "\n",
    "\n",
    "visualization = {\n",
    "  'bands': ['SR_B5', 'SR_B4', 'SR_B3'],\n",
    "  'min': 0.0,\n",
    "  'max': 0.3,\n",
    "}\n",
    "\n",
    "# Applies scaling factors.\n",
    "def applyScaleFactors(image):\n",
    "  opticalBands = image.select('SR_B.').multiply(0.0000275).add(-0.2)\n",
    "  thermalBand = image.select('ST_B6').multiply(0.00341802).add(149.0)\n",
    "  return image.addBands(opticalBands, None, True) \\\n",
    "              .addBands(thermalBand, None, True)\n",
    "\n",
    "dataset = dataset.map(applyScaleFactors)\n",
    "\n",
    "\n",
    "Map.addLayer(dataset, visualization, 'True Color (321)')\n",
    "Map"
   ]
  },
  {
   "cell_type": "code",
   "execution_count": 104,
   "id": "277829da",
   "metadata": {},
   "outputs": [
    {
     "data": {
      "application/vnd.jupyter.widget-view+json": {
       "model_id": "efccbf4bf7b44349a5e68b1c462bc853",
       "version_major": 2,
       "version_minor": 0
      },
      "text/plain": [
       "Map(center=[38.9275, -114.2579], controls=(WidgetControl(options=['position', 'transparent_bg'], widget=HBox(c…"
      ]
     },
     "metadata": {},
     "output_type": "display_data"
    }
   ],
   "source": [
    "Map = geemap.Map()\n",
    "\n",
    "dataset = ee.ImageCollection('LANDSAT/LT05/C02/T1_L2') \\\n",
    "    .filterDate('2000-06-01', '2000-07-01')\n",
    "\n",
    "# Applies scaling factors.\n",
    "def applyScaleFactors(image):\n",
    "  opticalBands = image.select('SR_B.').multiply(0.0000275).add(-0.2)\n",
    "  thermalBand = image.select('ST_B6').multiply(0.00341802).add(149.0)\n",
    "  return image.addBands(opticalBands, None, True) \\\n",
    "              .addBands(thermalBand, None, True)\n",
    "\n",
    "dataset = dataset.map(applyScaleFactors)\n",
    "\n",
    "visualization = {\n",
    "  'bands': ['SR_B3', 'SR_B2', 'SR_B1'],\n",
    "  'min': 0.0,\n",
    "  'max': 0.3,\n",
    "}\n",
    "\n",
    "Map.setCenter(-114.2579, 38.9275, 8)\n",
    "\n",
    "Map.addLayer(dataset, visualization, 'True Color (321)')\n",
    "Map\n"
   ]
  },
  {
   "cell_type": "code",
   "execution_count": null,
   "id": "8151f803",
   "metadata": {},
   "outputs": [],
   "source": []
  },
  {
   "cell_type": "code",
   "execution_count": null,
   "id": "a979a591",
   "metadata": {},
   "outputs": [],
   "source": []
  }
 ],
 "metadata": {
  "kernelspec": {
   "display_name": "Python 3 (ipykernel)",
   "language": "python",
   "name": "python3"
  },
  "language_info": {
   "codemirror_mode": {
    "name": "ipython",
    "version": 3
   },
   "file_extension": ".py",
   "mimetype": "text/x-python",
   "name": "python",
   "nbconvert_exporter": "python",
   "pygments_lexer": "ipython3",
   "version": "3.9.13"
  }
 },
 "nbformat": 4,
 "nbformat_minor": 5
}
