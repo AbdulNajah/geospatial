{
 "cells": [
  {
   "cell_type": "code",
   "execution_count": 4,
   "id": "5912c612-cae2-4131-919f-f98f72fb8f27",
   "metadata": {},
   "outputs": [],
   "source": [
    "import geemap"
   ]
  },
  {
   "cell_type": "code",
   "execution_count": 5,
   "id": "8e9d679a-3d4e-4f1e-bbfd-df2cab5fdf23",
   "metadata": {},
   "outputs": [],
   "source": [
    "import ee"
   ]
  },
  {
   "cell_type": "code",
   "execution_count": 7,
   "id": "a9944680-cf89-4413-b3e4-8c9d785d1ab0",
   "metadata": {},
   "outputs": [
    {
     "data": {
      "text/html": [
       "<p>To authorize access needed by Earth Engine, open the following\n",
       "        URL in a web browser and follow the instructions:</p>\n",
       "        <p><a href=https://code.earthengine.google.com/client-auth?scopes=https%3A//www.googleapis.com/auth/earthengine%20https%3A//www.googleapis.com/auth/devstorage.full_control&request_id=bE79od8x5Jc_yhTaOCwi-PE_UKOh6ai-JErbyNCSaIY&tc=0v4tIOggSLyAKdGhjpr0vUVmPKaUMCaNs3htqnXMczQ&cc=VATuzjbKdn-UnCg1W5EaZPLA3hIwzRPcZjcLwhGZAh8>https://code.earthengine.google.com/client-auth?scopes=https%3A//www.googleapis.com/auth/earthengine%20https%3A//www.googleapis.com/auth/devstorage.full_control&request_id=bE79od8x5Jc_yhTaOCwi-PE_UKOh6ai-JErbyNCSaIY&tc=0v4tIOggSLyAKdGhjpr0vUVmPKaUMCaNs3htqnXMczQ&cc=VATuzjbKdn-UnCg1W5EaZPLA3hIwzRPcZjcLwhGZAh8</a></p>\n",
       "        <p>The authorization workflow will generate a code, which you\n",
       "        should paste in the box below</p>\n",
       "        "
      ],
      "text/plain": [
       "<IPython.core.display.HTML object>"
      ]
     },
     "metadata": {},
     "output_type": "display_data"
    },
    {
     "name": "stdin",
     "output_type": "stream",
     "text": [
      "Enter verification code:  4/1AX4XfWiACxznwb9AWv5xTTjWntxb5RVeHGIJpfDtI6WLlpqDz1j-3WdtIKk\n"
     ]
    },
    {
     "name": "stdout",
     "output_type": "stream",
     "text": [
      "\n",
      "Successfully saved authorization token.\n"
     ]
    }
   ],
   "source": [
    "\n",
    "ee.Authenticate()"
   ]
  },
  {
   "cell_type": "code",
   "execution_count": 6,
   "id": "8e9bfc69-6aa3-46c0-ac5c-4277b36f60c9",
   "metadata": {},
   "outputs": [],
   "source": [
    "ee.Initialize()"
   ]
  },
  {
   "cell_type": "code",
   "execution_count": null,
   "id": "252ee95a-3399-4383-af39-2aee56b1525a",
   "metadata": {},
   "outputs": [],
   "source": [
    "Map = geemap.Map(center = (22.9734,78.6569), zoom = 8)\n",
    "Map"
   ]
  },
  {
   "cell_type": "markdown",
   "id": "bf8dde15-4795-48ba-89f0-33f786969345",
   "metadata": {},
   "source": [
    "### Calling landsat collectoin"
   ]
  },
  {
   "cell_type": "code",
   "execution_count": 9,
   "id": "36e2c5d3-9043-4c41-99f5-43059bc88b31",
   "metadata": {},
   "outputs": [],
   "source": [
    "image = ee.Image('LANDSAT/LT05/C02/T1_L2/LT05_145044_20100428')"
   ]
  },
  {
   "cell_type": "code",
   "execution_count": 15,
   "id": "18577822-a486-455f-bd9a-1f401f258096",
   "metadata": {},
   "outputs": [
    {
     "data": {
      "application/vnd.jupyter.widget-view+json": {
       "model_id": "7e14b18df6e94d63b3b013a2fab574b2",
       "version_major": 2,
       "version_minor": 0
      },
      "text/plain": [
       "Map(bottom=14660.0, center=[23.10755097860265, 78.01956131163406], controls=(WidgetControl(options=['position'…"
      ]
     },
     "metadata": {},
     "output_type": "display_data"
    }
   ],
   "source": [
    "Map.centerObject(image, 9)\n",
    "Map.addLayer(image, {}, 'LC05 original image')\n",
    "Map"
   ]
  },
  {
   "cell_type": "code",
   "execution_count": 24,
   "id": "9d86ef4e-7563-436a-ba6e-ef5021ddf371",
   "metadata": {},
   "outputs": [],
   "source": [
    "vizParams = {'bands': ['SR_B5','SR_B4', 'SR_B3'],\n",
    "            'min' : 0, max : '1',  'gamma': 1.3}"
   ]
  },
  {
   "cell_type": "code",
   "execution_count": 25,
   "id": "f978b566-2677-4706-ab77-a9bc60ece08d",
   "metadata": {},
   "outputs": [
    {
     "data": {
      "application/vnd.jupyter.widget-view+json": {
       "model_id": "7e14b18df6e94d63b3b013a2fab574b2",
       "version_major": 2,
       "version_minor": 0
      },
      "text/plain": [
       "Map(bottom=57327.0, center=[22.74832209762237, 77.85461425781251], controls=(WidgetControl(options=['position'…"
      ]
     },
     "metadata": {},
     "output_type": "display_data"
    }
   ],
   "source": [
    "Map.addLayer(image, vizParams, 'Lc05 fire')\n",
    "Map"
   ]
  },
  {
   "cell_type": "code",
   "execution_count": null,
   "id": "a5a72ba8-e8a2-487f-9873-da3cd95cf89f",
   "metadata": {},
   "outputs": [],
   "source": []
  }
 ],
 "metadata": {
  "kernelspec": {
   "display_name": "Python 3 (ipykernel)",
   "language": "python",
   "name": "python3"
  },
  "language_info": {
   "codemirror_mode": {
    "name": "ipython",
    "version": 3
   },
   "file_extension": ".py",
   "mimetype": "text/x-python",
   "name": "python",
   "nbconvert_exporter": "python",
   "pygments_lexer": "ipython3",
   "version": "3.9.13"
  }
 },
 "nbformat": 4,
 "nbformat_minor": 5
}
