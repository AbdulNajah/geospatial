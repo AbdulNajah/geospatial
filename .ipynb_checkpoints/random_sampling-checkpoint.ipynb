{
 "cells": [
  {
   "cell_type": "code",
   "execution_count": 21,
   "id": "e5d23baa-42dc-4c85-801e-1a9954a5d5bd",
   "metadata": {},
   "outputs": [],
   "source": [
    "import geopandas as gpd\n",
    "import pandas as pd\n",
    "import numpy as np"
   ]
  },
  {
   "cell_type": "markdown",
   "id": "05198393-2702-4999-92ff-e98d47d78586",
   "metadata": {},
   "source": [
    "### class creation"
   ]
  },
  {
   "cell_type": "code",
   "execution_count": 77,
   "id": "8027abe2-f338-4de8-903a-493213f61516",
   "metadata": {},
   "outputs": [],
   "source": [
    "random_points = gpd.read_file(\"./images/145044_20100428_random_points.shp\")"
   ]
  },
  {
   "cell_type": "code",
   "execution_count": 83,
   "id": "73634903-91df-412b-b621-9a17a1ba6e24",
   "metadata": {},
   "outputs": [],
   "source": [
    "random_points['class'] = random_points['class'].astype('int')"
   ]
  },
  {
   "cell_type": "code",
   "execution_count": 84,
   "id": "b0c1b66c-5b36-44a5-a27d-86dfb5f134fa",
   "metadata": {},
   "outputs": [
    {
     "data": {
      "text/plain": [
       "11    250\n",
       "10    214\n",
       "5      97\n",
       "1      48\n",
       "13     33\n",
       "4      25\n",
       "2      22\n",
       "8       9\n",
       "12      2\n",
       "Name: class, dtype: int64"
      ]
     },
     "execution_count": 84,
     "metadata": {},
     "output_type": "execute_result"
    }
   ],
   "source": [
    " random_points['class'].value_counts()"
   ]
  },
  {
   "cell_type": "code",
   "execution_count": 85,
   "id": "73814ff7-7a04-4b56-872e-b87997b7c069",
   "metadata": {},
   "outputs": [
    {
     "data": {
      "text/plain": [
       "0    424\n",
       "1     76\n",
       "Name: ag_fire, dtype: int64"
      ]
     },
     "execution_count": 85,
     "metadata": {},
     "output_type": "execute_result"
    }
   ],
   "source": [
    "points500['ag_fire'].value_counts()"
   ]
  },
  {
   "cell_type": "markdown",
   "id": "82731afd-db1a-4473-bcf6-0420e9a87ccb",
   "metadata": {},
   "source": [
    "ag_fire class"
   ]
  },
  {
   "cell_type": "code",
   "execution_count": 86,
   "id": "eb82443d-87d2-4d19-b62d-86c1fa47306a",
   "metadata": {},
   "outputs": [],
   "source": [
    "random_points['ag_fire'] = np.where(random_points['class']==5,1,0)"
   ]
  },
  {
   "cell_type": "markdown",
   "id": "12835d64-fedf-4f90-bded-a4806e29a456",
   "metadata": {},
   "source": [
    "### splitting the dataset"
   ]
  },
  {
   "cell_type": "code",
   "execution_count": 87,
   "id": "7ddb970b-dd82-4604-944c-9a9f00b07914",
   "metadata": {},
   "outputs": [],
   "source": [
    "points500 = random_points.sample(n = 500, random_state= 123)"
   ]
  },
  {
   "cell_type": "code",
   "execution_count": 88,
   "id": "209362ac-e358-41be-9dea-ce2f36f9309d",
   "metadata": {},
   "outputs": [
    {
     "data": {
      "text/plain": [
       "11    179\n",
       "10    146\n",
       "5      76\n",
       "1      33\n",
       "13     23\n",
       "2      19\n",
       "4      16\n",
       "8       7\n",
       "12      1\n",
       "Name: class, dtype: int64"
      ]
     },
     "execution_count": 88,
     "metadata": {},
     "output_type": "execute_result"
    }
   ],
   "source": [
    "points500['class'].value_counts()"
   ]
  },
  {
   "cell_type": "markdown",
   "id": "9968a361-8ce3-4822-8ff5-6969cfe5c997",
   "metadata": {},
   "source": [
    "creating another class with 12 on others.\n",
    "what about 13?"
   ]
  },
  {
   "cell_type": "code",
   "execution_count": 91,
   "id": "61e661c1-b25a-46a1-9950-34bb272b5706",
   "metadata": {},
   "outputs": [
    {
     "data": {
      "text/plain": [
       "57     11\n",
       "478    10\n",
       "597     4\n",
       "689    10\n",
       "647     5\n",
       "Name: class1, dtype: int64"
      ]
     },
     "execution_count": 91,
     "metadata": {},
     "output_type": "execute_result"
    }
   ],
   "source": [
    "points500['class1'] = points500['class']\n",
    "points500.class1.head()\n"
   ]
  },
  {
   "cell_type": "code",
   "execution_count": 95,
   "id": "31cd465a-6a3d-4b60-93d6-792dc12d6aa4",
   "metadata": {},
   "outputs": [
    {
     "data": {
      "text/plain": [
       "11    180\n",
       "10    146\n",
       "5      76\n",
       "1      33\n",
       "13     23\n",
       "2      19\n",
       "4      16\n",
       "8       7\n",
       "Name: class1, dtype: int64"
      ]
     },
     "execution_count": 95,
     "metadata": {},
     "output_type": "execute_result"
    }
   ],
   "source": [
    "## reclassfiying 12 as others\n",
    "points500['class1'] = np.where(points500['class1']==12,11,points500['class1'])\n",
    "points500.class1.value_counts()"
   ]
  },
  {
   "cell_type": "code",
   "execution_count": 59,
   "id": "9a3ae974-0a21-49ad-b4b7-1d9814ccf141",
   "metadata": {},
   "outputs": [],
   "source": [
    "points200 =random_points.drop(points500.index)"
   ]
  },
  {
   "cell_type": "code",
   "execution_count": 60,
   "id": "9c6bf1d4-38d6-457f-aefa-5eff5b329776",
   "metadata": {},
   "outputs": [
    {
     "data": {
      "text/plain": [
       "11    71\n",
       "10    68\n",
       "5     21\n",
       "1     15\n",
       "13    10\n",
       "4      9\n",
       "2      3\n",
       "8      2\n",
       "12     1\n",
       "Name: class, dtype: int64"
      ]
     },
     "execution_count": 60,
     "metadata": {},
     "output_type": "execute_result"
    }
   ],
   "source": [
    "points200['class'].value_counts()"
   ]
  },
  {
   "cell_type": "code",
   "execution_count": 61,
   "id": "78faa9fb-456a-4abf-8734-5f2c214cab8a",
   "metadata": {},
   "outputs": [
    {
     "data": {
      "text/plain": [
       "geopandas.geodataframe.GeoDataFrame"
      ]
     },
     "execution_count": 61,
     "metadata": {},
     "output_type": "execute_result"
    }
   ],
   "source": [
    "type(points200)"
   ]
  },
  {
   "cell_type": "code",
   "execution_count": 62,
   "id": "b6987926-53c5-44e8-a222-fe52e99b4436",
   "metadata": {},
   "outputs": [],
   "source": [
    "##points500[['ag_fire', 'class']]= points500[['ag_fire', 'class']].astype(float)"
   ]
  },
  {
   "cell_type": "code",
   "execution_count": 65,
   "id": "6b344c02-744f-4b14-b947-497c04744d20",
   "metadata": {},
   "outputs": [],
   "source": [
    "##points200[['ag_fire', 'class']]= points200[['ag_fire', 'class']].astype(float)"
   ]
  },
  {
   "cell_type": "code",
   "execution_count": 66,
   "id": "2dc34f1b-c9f7-455d-9e89-4eaf5f415b1d",
   "metadata": {},
   "outputs": [
    {
     "data": {
      "text/plain": [
       "dtype('float64')"
      ]
     },
     "execution_count": 66,
     "metadata": {},
     "output_type": "execute_result"
    }
   ],
   "source": [
    "points200['class'].dtype"
   ]
  },
  {
   "cell_type": "code",
   "execution_count": 96,
   "id": "d3f07043-7443-4685-a570-893e68e08e4a",
   "metadata": {},
   "outputs": [
    {
     "data": {
      "text/html": [
       "<div>\n",
       "<style scoped>\n",
       "    .dataframe tbody tr th:only-of-type {\n",
       "        vertical-align: middle;\n",
       "    }\n",
       "\n",
       "    .dataframe tbody tr th {\n",
       "        vertical-align: top;\n",
       "    }\n",
       "\n",
       "    .dataframe thead th {\n",
       "        text-align: right;\n",
       "    }\n",
       "</style>\n",
       "<table border=\"1\" class=\"dataframe\">\n",
       "  <thead>\n",
       "    <tr style=\"text-align: right;\">\n",
       "      <th></th>\n",
       "      <th>id</th>\n",
       "      <th>long</th>\n",
       "      <th>lat</th>\n",
       "      <th>class</th>\n",
       "      <th>geometry</th>\n",
       "      <th>ag_fire</th>\n",
       "      <th>class1</th>\n",
       "    </tr>\n",
       "  </thead>\n",
       "  <tbody>\n",
       "    <tr>\n",
       "      <th>57</th>\n",
       "      <td>57.0</td>\n",
       "      <td>77.405</td>\n",
       "      <td>23.867</td>\n",
       "      <td>11</td>\n",
       "      <td>POINT (77.40547 23.86674)</td>\n",
       "      <td>0</td>\n",
       "      <td>11</td>\n",
       "    </tr>\n",
       "    <tr>\n",
       "      <th>478</th>\n",
       "      <td>478.0</td>\n",
       "      <td>77.187</td>\n",
       "      <td>22.280</td>\n",
       "      <td>10</td>\n",
       "      <td>POINT (77.18706 22.27971)</td>\n",
       "      <td>0</td>\n",
       "      <td>10</td>\n",
       "    </tr>\n",
       "    <tr>\n",
       "      <th>597</th>\n",
       "      <td>597.0</td>\n",
       "      <td>78.556</td>\n",
       "      <td>23.502</td>\n",
       "      <td>4</td>\n",
       "      <td>POINT (78.55554 23.50168)</td>\n",
       "      <td>0</td>\n",
       "      <td>4</td>\n",
       "    </tr>\n",
       "    <tr>\n",
       "      <th>689</th>\n",
       "      <td>689.0</td>\n",
       "      <td>79.102</td>\n",
       "      <td>23.141</td>\n",
       "      <td>10</td>\n",
       "      <td>POINT (79.10219 23.14083)</td>\n",
       "      <td>0</td>\n",
       "      <td>10</td>\n",
       "    </tr>\n",
       "    <tr>\n",
       "      <th>647</th>\n",
       "      <td>647.0</td>\n",
       "      <td>77.655</td>\n",
       "      <td>22.557</td>\n",
       "      <td>5</td>\n",
       "      <td>POINT (77.65463 22.55665)</td>\n",
       "      <td>1</td>\n",
       "      <td>5</td>\n",
       "    </tr>\n",
       "    <tr>\n",
       "      <th>...</th>\n",
       "      <td>...</td>\n",
       "      <td>...</td>\n",
       "      <td>...</td>\n",
       "      <td>...</td>\n",
       "      <td>...</td>\n",
       "      <td>...</td>\n",
       "      <td>...</td>\n",
       "    </tr>\n",
       "    <tr>\n",
       "      <th>167</th>\n",
       "      <td>167.0</td>\n",
       "      <td>78.200</td>\n",
       "      <td>22.587</td>\n",
       "      <td>1</td>\n",
       "      <td>POINT (78.20018 22.58742)</td>\n",
       "      <td>0</td>\n",
       "      <td>1</td>\n",
       "    </tr>\n",
       "    <tr>\n",
       "      <th>225</th>\n",
       "      <td>225.0</td>\n",
       "      <td>77.815</td>\n",
       "      <td>23.506</td>\n",
       "      <td>4</td>\n",
       "      <td>POINT (77.81519 23.50613)</td>\n",
       "      <td>0</td>\n",
       "      <td>4</td>\n",
       "    </tr>\n",
       "    <tr>\n",
       "      <th>541</th>\n",
       "      <td>541.0</td>\n",
       "      <td>78.071</td>\n",
       "      <td>22.397</td>\n",
       "      <td>1</td>\n",
       "      <td>POINT (78.07059 22.39747)</td>\n",
       "      <td>0</td>\n",
       "      <td>1</td>\n",
       "    </tr>\n",
       "    <tr>\n",
       "      <th>454</th>\n",
       "      <td>454.0</td>\n",
       "      <td>78.597</td>\n",
       "      <td>22.768</td>\n",
       "      <td>4</td>\n",
       "      <td>POINT (78.59674 22.76824)</td>\n",
       "      <td>0</td>\n",
       "      <td>4</td>\n",
       "    </tr>\n",
       "    <tr>\n",
       "      <th>7</th>\n",
       "      <td>7.0</td>\n",
       "      <td>78.240</td>\n",
       "      <td>22.851</td>\n",
       "      <td>5</td>\n",
       "      <td>POINT (78.23990 22.85146)</td>\n",
       "      <td>1</td>\n",
       "      <td>5</td>\n",
       "    </tr>\n",
       "  </tbody>\n",
       "</table>\n",
       "<p>500 rows × 7 columns</p>\n",
       "</div>"
      ],
      "text/plain": [
       "        id    long     lat  class                   geometry  ag_fire  class1\n",
       "57    57.0  77.405  23.867     11  POINT (77.40547 23.86674)        0      11\n",
       "478  478.0  77.187  22.280     10  POINT (77.18706 22.27971)        0      10\n",
       "597  597.0  78.556  23.502      4  POINT (78.55554 23.50168)        0       4\n",
       "689  689.0  79.102  23.141     10  POINT (79.10219 23.14083)        0      10\n",
       "647  647.0  77.655  22.557      5  POINT (77.65463 22.55665)        1       5\n",
       "..     ...     ...     ...    ...                        ...      ...     ...\n",
       "167  167.0  78.200  22.587      1  POINT (78.20018 22.58742)        0       1\n",
       "225  225.0  77.815  23.506      4  POINT (77.81519 23.50613)        0       4\n",
       "541  541.0  78.071  22.397      1  POINT (78.07059 22.39747)        0       1\n",
       "454  454.0  78.597  22.768      4  POINT (78.59674 22.76824)        0       4\n",
       "7      7.0  78.240  22.851      5  POINT (78.23990 22.85146)        1       5\n",
       "\n",
       "[500 rows x 7 columns]"
      ]
     },
     "execution_count": 96,
     "metadata": {},
     "output_type": "execute_result"
    }
   ],
   "source": [
    "points500"
   ]
  },
  {
   "cell_type": "code",
   "execution_count": null,
   "id": "99c9a03e-c098-4fa4-983d-36fc05083077",
   "metadata": {},
   "outputs": [],
   "source": []
  },
  {
   "cell_type": "code",
   "execution_count": 67,
   "id": "2f6db738-2e2f-476a-ae68-7dae6d61495c",
   "metadata": {},
   "outputs": [],
   "source": [
    "points200.to_file(\"./images/145044_20100428_200points.random_points\")"
   ]
  },
  {
   "cell_type": "code",
   "execution_count": 97,
   "id": "fb47121b-b063-4806-8bda-2f650c786038",
   "metadata": {},
   "outputs": [],
   "source": [
    "points500.to_file(\"./images/145044_20100428_500points.random_points\")"
   ]
  },
  {
   "cell_type": "code",
   "execution_count": null,
   "id": "abadb993-5cf9-47f3-9bb3-1f464004cc7e",
   "metadata": {},
   "outputs": [],
   "source": []
  }
 ],
 "metadata": {
  "kernelspec": {
   "display_name": "Python 3 (ipykernel)",
   "language": "python",
   "name": "python3"
  },
  "language_info": {
   "codemirror_mode": {
    "name": "ipython",
    "version": 3
   },
   "file_extension": ".py",
   "mimetype": "text/x-python",
   "name": "python",
   "nbconvert_exporter": "python",
   "pygments_lexer": "ipython3",
   "version": "3.9.13"
  }
 },
 "nbformat": 4,
 "nbformat_minor": 5
}
