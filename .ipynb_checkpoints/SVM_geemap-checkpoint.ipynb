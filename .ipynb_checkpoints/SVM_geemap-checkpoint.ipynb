{
  "cells": [
    {
      "cell_type": "markdown",
      "metadata": {},
      "source": [
        "## Import libraries"
      ]
    },
    {
      "cell_type": "code",
      "metadata": {},
      "source": [
        "import ee\n",
        "import geemap"
      ],
      "outputs": [],
      "execution_count": null
    },
    {
      "cell_type": "markdown",
      "metadata": {},
      "source": [
        "## Create an interactive map"
      ]
    },
    {
      "cell_type": "code",
      "metadata": {},
      "source": [
        "Map = geemap.Map(center=[40, -100], zoom=4)"
      ],
      "outputs": [],
      "execution_count": null
    },
    {
      "cell_type": "markdown",
      "metadata": {},
      "source": [
        "## Add Earth Engine Python script"
      ]
    },
    {
      "cell_type": "code",
      "metadata": {},
      "source": [
        "# Add Earth Engine dataset\n",
        "image = ee.Image(\"USGS/SRTMGL1_003\")\n",
        "# Input required----\n",
        " points = training data\n",
        " geometry = shapefile of AOI\n",
        "print(points)\n",
        "# Make a cloud-free Landsat 8 surface reflectance composite.\n",
        "image = ee.ImageCollection(\"LANDSAT/LT05/C01/T1_TOA\") \\\n",
        "  .filterBounds(geometry) \\\n",
        "  .filterDate('2010-04-15', '2010-04-30') \\\n",
        "  .filter(ee.Filter.eq('WRS_PATH', 145)) \\\n",
        "  .median()\n",
        "bai = image.expression(\n",
        "    '1/((0.02-red)**2+(0.05-nir)**2)', {\n",
        "      'nir': image.select('B4'),\n",
        "      'red': image.select('B3'),\n",
        "  }).rename(\"bai\")\n",
        "\n",
        "ndwi = image.normalizedDifference(['B2', 'B5'])\n",
        "x = (image.select('B5').add(image.select('B3'))).subtract(image.select('B4').add(image.select('B1')))\n",
        "y = (image.select('B5').add(image.select('B3'))).add(image.select('B4').add(image.select('B1')))\n",
        "bare = x.divide(y)\n",
        "image = image.addBands(bai).addBands(ndwi).addBands(bare)\n",
        "\n",
        "ndvi = image.normalizedDifference(['B4','B3']).rename(\"ndvi\")\n",
        "image = image.addBands(ndvi)\n",
        "# Use these bands for prediction.\n",
        "bands = ['B1','B2', 'B3', 'B4', 'B5','B7','bai','ndvi']\n",
        "\n",
        "points = ee.FeatureCollection(points)\n",
        "train = image.select(bands).sampleRegions({\n",
        "  'collection': points,\n",
        "  'properties': ['Actual'],\n",
        "  'scale': 30\n",
        "})\n",
        "\n",
        "def splitData(data):\n",
        "  dict = {}\n",
        "  randomTpixels = data.randomColumn()\n",
        "  training = randomTpixels.filter(ee.Filter.lt('random', 0.7))\n",
        "  valiData = randomTpixels.filter(ee.Filter.gte('random', 0.7))\n",
        "\n",
        "  dict.training = training\n",
        "  dict.valid = valiData\n",
        "\n",
        "  return dict\n",
        "\n",
        "\n",
        "Adata = splitData(train)\n",
        "# Train a CART classifier with default parameters.\n",
        "trained = ee.Classifier.libsvm().train(Adata.training, 'Actual', bands)\n",
        "\n",
        "# Classify the image with the same bands used for training.\n",
        "classified = image.select(bands).classify(trained)\n",
        "print(classified)\n",
        "# Creates error matrix\n",
        "def createMatrix(data):\n",
        "  trainAccuracy = data.errorMatrix(\"Actual\", \"classification\")\n",
        "  print('Resubstitution error matrix: ', trainAccuracy)\n",
        "  print('Training overall accuracy: ', trainAccuracy.accuracy())\n",
        "\n",
        "\n",
        "validation = Adata.valid.classify(trained); # Classifies the validation data\n",
        "\n",
        "createMatrix(validation)\n",
        "\n",
        "# Display the classification result and the input image.\n",
        "Map.addLayer(image,\n",
        "             {'bands': ['B5',  'B4',  'B3'], 'min': 0, 'max': 0.4, 'gamma': 1.2},'image')\n",
        "\n",
        "\n",
        "Map.addLayer(points, {'color': 'yellow'}, 'training polygons')\n",
        "Map.addLayer(classified,\n",
        "             {'min': 0, 'max': 1, 'palette': ['green', 'yellow']},\n",
        "             'Fire')\n",
        "\n",
        "Export.image.toDrive({\n",
        "  'image': classified,\n",
        "  'description': 'SVM_kanha',\n",
        "  'region' : geometry,\n",
        "  'scale': 30,\n",
        "  'maxPixels': 1e9\n",
        "})"
      ],
      "outputs": [],
      "execution_count": null
    },
    {
      "cell_type": "markdown",
      "metadata": {},
      "source": [
        "## Display the interactive map"
      ]
    },
    {
      "cell_type": "code",
      "metadata": {},
      "source": [
        "Map"
      ],
      "outputs": [],
      "execution_count": null
    }
  ],
  "metadata": {
    "anaconda-cloud": {},
    "kernelspec": {
      "display_name": "Python 3",
      "language": "python",
      "name": "python3"
    },
    "language_info": {
      "codemirror_mode": {
        "name": "ipython",
        "version": 3
      },
      "file_extension": ".py",
      "mimetype": "text/x-python",
      "name": "python",
      "nbconvert_exporter": "python",
      "pygments_lexer": "ipython3",
      "version": "3.6.1"
    }
  },
  "nbformat": 4,
  "nbformat_minor": 4
}