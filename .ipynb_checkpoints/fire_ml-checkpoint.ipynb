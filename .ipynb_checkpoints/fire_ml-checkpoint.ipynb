{
 "cells": [
  {
   "cell_type": "code",
   "execution_count": 5,
   "id": "4c94ae91",
   "metadata": {},
   "outputs": [],
   "source": [
    "import ee\n",
    "import geemap\n",
    "ee.Initialize()"
   ]
  },
  {
   "cell_type": "code",
   "execution_count": 23,
   "id": "0cba474a",
   "metadata": {},
   "outputs": [],
   "source": [
    "agfire = './random_points_agfire.kml'\n",
    "\n",
    "agfire = geemap.kml_to_ee(agfire)"
   ]
  },
  {
   "cell_type": "code",
   "execution_count": 26,
   "id": "4e59ce22",
   "metadata": {},
   "outputs": [],
   "source": [
    "Map = geemap.Map()\n",
    "\n",
    "\n",
    "Map.set_center(78.6569, 22.9734,8)\n"
   ]
  },
  {
   "cell_type": "code",
   "execution_count": 28,
   "id": "2f5fff5a",
   "metadata": {
    "scrolled": true
   },
   "outputs": [
    {
     "data": {
      "application/vnd.jupyter.widget-view+json": {
       "model_id": "a5f749ac766c44fa9502dd46725bae0d",
       "version_major": 2,
       "version_minor": 0
      },
      "text/plain": [
       "Map(bottom=28769.0, center=[22.9734, 78.6569], controls=(WidgetControl(options=['position', 'transparent_bg'],…"
      ]
     },
     "metadata": {},
     "output_type": "display_data"
    }
   ],
   "source": [
    "Map.addLayer(agfire, {}, \"description\")\n",
    "Map"
   ]
  },
  {
   "cell_type": "markdown",
   "id": "99ef1ea6",
   "metadata": {},
   "source": [
    "### getting the raster image"
   ]
  },
  {
   "cell_type": "code",
   "execution_count": 107,
   "id": "13fc21fe",
   "metadata": {},
   "outputs": [
    {
     "data": {
      "application/vnd.jupyter.widget-view+json": {
       "model_id": "deba368511984e249410874b13cf2a8a",
       "version_major": 2,
       "version_minor": 0
      },
      "text/plain": [
       "Map(center=[20, 0], controls=(WidgetControl(options=['position', 'transparent_bg'], widget=HBox(children=(Togg…"
      ]
     },
     "metadata": {},
     "output_type": "display_data"
    }
   ],
   "source": [
    "Map = geemap.Map()\n",
    "\n",
    "## https://developers.google.com/earth-engine/datasets/catalog/LANDSAT_LT05_C02_T1_L2#bands\n",
    "\n",
    "dataset = ee.ImageCollection('LANDSAT/LT05/C02/T1_L2')\\\n",
    "  .filterDate('2010-04-27', '2010-04-29') \\\n",
    "  .filter(ee.Filter.eq('WRS_PATH', 145)) \\\n",
    "  .filter(ee.Filter.eq('WRS_ROW', 44))\n",
    "\n",
    "\n",
    "\n",
    "visualization = {\n",
    "  'bands': ['SR_B5', 'SR_B4', 'SR_B3'],\n",
    "  'min': 0.0,\n",
    "  'max': 0.3,\n",
    "}\n",
    "\n",
    "# Applies scaling factors.\n",
    "def applyScaleFactors(image):\n",
    "  opticalBands = image.select('SR_B.').multiply(0.0000275).add(-0.2)\n",
    "  thermalBand = image.select('ST_B6').multiply(0.00341802).add(149.0)\n",
    "  return image.addBands(opticalBands, None, True) \\\n",
    "              .addBands(thermalBand, None, True)\n",
    "\n",
    "dataset = dataset.map(applyScaleFactors)\n",
    "\n",
    "\n",
    "Map.addLayer(dataset, visualization, 'Fire Color (543)')\n",
    "Map"
   ]
  }
 ],
 "metadata": {
  "kernelspec": {
   "display_name": "Python 3 (ipykernel)",
   "language": "python",
   "name": "python3"
  },
  "language_info": {
   "codemirror_mode": {
    "name": "ipython",
    "version": 3
   },
   "file_extension": ".py",
   "mimetype": "text/x-python",
   "name": "python",
   "nbconvert_exporter": "python",
   "pygments_lexer": "ipython3",
   "version": "3.9.13"
  }
 },
 "nbformat": 4,
 "nbformat_minor": 5
}
