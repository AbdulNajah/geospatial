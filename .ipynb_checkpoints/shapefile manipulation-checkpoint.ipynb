{
 "cells": [
  {
   "cell_type": "code",
   "execution_count": 8,
   "id": "7b5234f4",
   "metadata": {},
   "outputs": [],
   "source": [
    "import geopandas as gpd\n",
    "import pandas as pd\n",
    "import numpy as np"
   ]
  },
  {
   "cell_type": "code",
   "execution_count": 17,
   "id": "0b71964a",
   "metadata": {},
   "outputs": [],
   "source": [
    "random_points = gpd.read_file(\"./images/145044_20100428_random_points.shp\")"
   ]
  },
  {
   "cell_type": "code",
   "execution_count": 18,
   "id": "52af1895",
   "metadata": {},
   "outputs": [],
   "source": [
    "random_points['class'] = random_points['class'].astype('int')"
   ]
  },
  {
   "cell_type": "code",
   "execution_count": 21,
   "id": "51cedf7d-153b-4f8a-88ed-1381192fa4e4",
   "metadata": {},
   "outputs": [
    {
     "data": {
      "text/plain": [
       "11    250\n",
       "10    214\n",
       "5      97\n",
       "1      48\n",
       "13     33\n",
       "4      25\n",
       "2      22\n",
       "8       9\n",
       "12      2\n",
       "Name: class, dtype: int64"
      ]
     },
     "execution_count": 21,
     "metadata": {},
     "output_type": "execute_result"
    }
   ],
   "source": [
    " random_points['class'].value_counts()"
   ]
  },
  {
   "cell_type": "code",
   "execution_count": 22,
   "id": "3727e566-7b20-490e-a82d-bab4453e6a1a",
   "metadata": {},
   "outputs": [],
   "source": [
    "random_points['ag_fire'] = np.where(random_points['class']==5,1,0)"
   ]
  },
  {
   "cell_type": "code",
   "execution_count": 77,
   "id": "6dd2b840",
   "metadata": {},
   "outputs": [],
   "source": [
    "random_points['fire'] = np.where(random_points['class1']==5,1,0)"
   ]
  },
  {
   "cell_type": "code",
   "execution_count": 85,
   "id": "c2959227",
   "metadata": {},
   "outputs": [],
   "source": [
    "random_points_fire = random_points[random_points['fire']==1]"
   ]
  },
  {
   "cell_type": "code",
   "execution_count": 84,
   "id": "db2ebd64",
   "metadata": {},
   "outputs": [],
   "source": [
    "random_points_nonfire = random_points[random_points['fire']==0]"
   ]
  },
  {
   "cell_type": "code",
   "execution_count": 68,
   "id": "b45a1a99",
   "metadata": {},
   "outputs": [],
   "source": [
    "import geemap\n"
   ]
  },
  {
   "cell_type": "code",
   "execution_count": 72,
   "id": "27bf0fcc",
   "metadata": {},
   "outputs": [],
   "source": [
    "import fiona"
   ]
  },
  {
   "cell_type": "code",
   "execution_count": 86,
   "id": "d150f4ce",
   "metadata": {},
   "outputs": [
    {
     "name": "stderr",
     "output_type": "stream",
     "text": [
      "/Users/najah/opt/anaconda3/envs/gee/lib/python3.10/site-packages/geopandas/io/file.py:362: FutureWarning: pandas.Int64Index is deprecated and will be removed from pandas in a future version. Use pandas.Index with the appropriate dtype instead.\n",
      "  pd.Int64Index,\n",
      "/Users/najah/opt/anaconda3/envs/gee/lib/python3.10/site-packages/geopandas/io/file.py:362: FutureWarning: pandas.Int64Index is deprecated and will be removed from pandas in a future version. Use pandas.Index with the appropriate dtype instead.\n",
      "  pd.Int64Index,\n"
     ]
    }
   ],
   "source": [
    "fiona.supported_drivers['KML'] = 'rw'\n",
    "\n",
    "random_points_fire.to_file('random_points_non_agfire.kml', driver='KML')\n",
    "\n",
    "random_points_nonfire.to_file('random_points_agfire.kml', driver='KML')"
   ]
  },
  {
   "cell_type": "code",
   "execution_count": null,
   "id": "2345c5f7",
   "metadata": {},
   "outputs": [],
   "source": [
    "\n",
    "geemap.kml_to_ee()"
   ]
  }
 ],
 "metadata": {
  "kernelspec": {
   "display_name": "Python 3 (ipykernel)",
   "language": "python",
   "name": "python3"
  },
  "language_info": {
   "codemirror_mode": {
    "name": "ipython",
    "version": 3
   },
   "file_extension": ".py",
   "mimetype": "text/x-python",
   "name": "python",
   "nbconvert_exporter": "python",
   "pygments_lexer": "ipython3",
   "version": "3.9.13"
  }
 },
 "nbformat": 4,
 "nbformat_minor": 5
}
