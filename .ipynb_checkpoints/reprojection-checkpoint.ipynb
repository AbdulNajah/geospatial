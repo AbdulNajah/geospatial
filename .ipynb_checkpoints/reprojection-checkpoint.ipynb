{
 "cells": [
  {
   "cell_type": "code",
   "execution_count": null,
   "id": "c367a167-4358-4e68-86ad-0702dc74ac78",
   "metadata": {},
   "outputs": [],
   "source": []
  },
  {
   "cell_type": "code",
   "execution_count": 51,
   "id": "8932c0d7-296e-491c-9107-d216d3cf68f5",
   "metadata": {},
   "outputs": [],
   "source": [
    "l5 = rio.open('./LT05_L1TP_145044_20100428_20161016_01_T1/145044_20100428_stacked_masked')"
   ]
  },
  {
   "cell_type": "code",
   "execution_count": 25,
   "id": "d8cea618-0218-4887-91e8-807c2bf900f8",
   "metadata": {},
   "outputs": [
    {
     "data": {
      "text/plain": [
       "6"
      ]
     },
     "execution_count": 25,
     "metadata": {},
     "output_type": "execute_result"
    }
   ],
   "source": [
    "l5.count"
   ]
  },
  {
   "cell_type": "code",
   "execution_count": 26,
   "id": "b4d2f763-6750-4d8b-9a03-fb3a6da8bec5",
   "metadata": {},
   "outputs": [
    {
     "data": {
      "text/plain": [
       "CRS.from_epsg(32643)"
      ]
     },
     "execution_count": 26,
     "metadata": {},
     "output_type": "execute_result"
    }
   ],
   "source": [
    "l5.crs"
   ]
  },
  {
   "cell_type": "markdown",
   "id": "0c60f2ec-aadc-42b2-bdef-b62ae0944849",
   "metadata": {},
   "source": [
    "### changing the crs to wgs [84]"
   ]
  },
  {
   "cell_type": "code",
   "execution_count": 30,
   "id": "f8f3622b-5dab-405d-84d6-72972db966e4",
   "metadata": {},
   "outputs": [],
   "source": [
    "from rasterio.warp import calculate_default_transform, reproject, Resampling"
   ]
  },
  {
   "cell_type": "code",
   "execution_count": 52,
   "id": "7db679ba-8325-4ddf-b7d0-c1c5dad20761",
   "metadata": {},
   "outputs": [
    {
     "data": {
      "text/plain": [
       "{'init': ' EPSG:4326'}"
      ]
     },
     "execution_count": 52,
     "metadata": {},
     "output_type": "execute_result"
    }
   ],
   "source": [
    "\n",
    "destCRS = {'init': ' EPSG:4326'}\n",
    "destCRS"
   ]
  },
  {
   "cell_type": "code",
   "execution_count": 53,
   "id": "45d1ee55-2185-4793-9621-1e41bcfc4c42",
   "metadata": {},
   "outputs": [],
   "source": [
    "# claculate transform array and shape of reprojected raster\n",
    "transform, width, height = calculate_default_transform(\n",
    "            l5.crs, destCRS, l5.width, l5.height, *l5.bounds)"
   ]
  },
  {
   "cell_type": "code",
   "execution_count": 54,
   "id": "8a3435dc-941b-4dee-b685-5c9f221279b7",
   "metadata": {},
   "outputs": [
    {
     "name": "stdout",
     "output_type": "stream",
     "text": [
      "transform array of source raster\n",
      "| 30.00,-0.00, 692085.00|\n",
      "|-0.00,-30.00, 2661615.00|\n",
      "| 0.00, 0.00, 1.00|\n",
      "tranform array of destination raster\n",
      "| 0.00, 0.00, 76.86|\n",
      "| 0.00,-0.00, 24.06|\n",
      "| 0.00, 0.00, 1.00|\n"
     ]
    }
   ],
   "source": [
    "print('transform array of source raster')\n",
    "print(l5.transform)\n",
    "print('tranform array of destination raster')\n",
    "print(transform)"
   ]
  },
  {
   "cell_type": "code",
   "execution_count": 55,
   "id": "7d45b232-8a75-415a-9b79-f76305263bff",
   "metadata": {},
   "outputs": [],
   "source": [
    "#meta data for the destination folder\n",
    "kwargs = l5.meta.copy()\n",
    "kwargs.update({\n",
    "    'crs': destCRS,\n",
    "    'transform' : transform,\n",
    "    'width' : width,\n",
    "    'height' : height\n",
    "})"
   ]
  },
  {
   "cell_type": "code",
   "execution_count": 56,
   "id": "b279b306-9f35-446e-bc62-02afff250086",
   "metadata": {},
   "outputs": [],
   "source": [
    "destRaster = rio.open('./LT05_L1TP_145044_20100428_20161016_01_T1/145044_masked_stacked_wgs84.tif', 'w', **kwargs)"
   ]
  },
  {
   "cell_type": "code",
   "execution_count": 57,
   "id": "244588d2-3efe-405c-a84b-6e745038814e",
   "metadata": {},
   "outputs": [],
   "source": [
    "for i in range (1, l5.count +1):\n",
    "    reproject(\n",
    "    source = rio.band(l5, i),\n",
    "    destination = rio.band(destRaster,i),\n",
    "        src_crs = l5.crs,\n",
    "        dst_crs = destCRS,\n",
    "        resampling = Resampling.nearest\n",
    "    )"
   ]
  },
  {
   "cell_type": "code",
   "execution_count": 58,
   "id": "3f39158e-6675-402e-bcf2-47224afbc2fc",
   "metadata": {},
   "outputs": [],
   "source": [
    "destRaster.close()"
   ]
  }
 ],
 "metadata": {
  "kernelspec": {
   "display_name": "Python 3 (ipykernel)",
   "language": "python",
   "name": "python3"
  },
  "language_info": {
   "codemirror_mode": {
    "name": "ipython",
    "version": 3
   },
   "file_extension": ".py",
   "mimetype": "text/x-python",
   "name": "python",
   "nbconvert_exporter": "python",
   "pygments_lexer": "ipython3",
   "version": "3.9.13"
  }
 },
 "nbformat": 4,
 "nbformat_minor": 5
}
