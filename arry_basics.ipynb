{
 "cells": [
  {
   "cell_type": "code",
   "execution_count": 1,
   "id": "2056d001-a61c-46b3-8e87-61593030fef2",
   "metadata": {},
   "outputs": [],
   "source": [
    "import numpy as np"
   ]
  },
  {
   "cell_type": "code",
   "execution_count": 2,
   "id": "e3a6d2af-20bb-46ca-bdf0-03c19993f11a",
   "metadata": {},
   "outputs": [
    {
     "data": {
      "text/plain": [
       "array([ 3, -8, -2])"
      ]
     },
     "execution_count": 2,
     "metadata": {},
     "output_type": "execute_result"
    }
   ],
   "source": [
    "np.array([3, -8, -2])"
   ]
  },
  {
   "cell_type": "code",
   "execution_count": 6,
   "id": "468bafd0-451e-4e86-bba7-6bd8157e22b1",
   "metadata": {},
   "outputs": [
    {
     "data": {
      "text/plain": [
       "array([[200.,  12.,   1.],\n",
       "       [ 32.,  34.,  55.],\n",
       "       [ nan,  nan,   1.]])"
      ]
     },
     "execution_count": 6,
     "metadata": {},
     "output_type": "execute_result"
    }
   ],
   "source": [
    "np.array([[200,12,1], [32,34,55],[np.nan, np.nan,1]])"
   ]
  },
  {
   "cell_type": "code",
   "execution_count": 12,
   "id": "7cf785f9-3c96-45b0-9811-12f6fd0f7837",
   "metadata": {},
   "outputs": [],
   "source": [
    "c= np.arange(1,25).reshape((2,3,4))"
   ]
  },
  {
   "cell_type": "code",
   "execution_count": 13,
   "id": "7f3dce2a-b43b-46de-92da-3873890d6f94",
   "metadata": {},
   "outputs": [
    {
     "data": {
      "text/plain": [
       "numpy.ndarray"
      ]
     },
     "execution_count": 13,
     "metadata": {},
     "output_type": "execute_result"
    }
   ],
   "source": [
    "type(c)"
   ]
  },
  {
   "cell_type": "code",
   "execution_count": null,
   "id": "469fc9da-b9e0-4927-a4a1-54177cb1492a",
   "metadata": {},
   "outputs": [],
   "source": []
  },
  {
   "cell_type": "code",
   "execution_count": 196,
   "id": "2d0ff270-7b8e-40da-82fc-8bd57d524ffe",
   "metadata": {},
   "outputs": [
    {
     "data": {
      "text/plain": [
       "0.10195189"
      ]
     },
     "execution_count": 196,
     "metadata": {},
     "output_type": "execute_result"
    }
   ],
   "source": [
    "bands_dict['b1'][5000,5000]"
   ]
  },
  {
   "cell_type": "code",
   "execution_count": 219,
   "id": "63d0aa82-2375-46b5-a94b-47105f1ab637",
   "metadata": {},
   "outputs": [
    {
     "data": {
      "text/plain": [
       "array([0., 0., 0., ..., 0., 0., 0.], dtype=float32)"
      ]
     },
     "execution_count": 219,
     "metadata": {},
     "output_type": "execute_result"
    }
   ],
   "source": [
    "bands_dict['b1'].flatten()"
   ]
  },
  {
   "cell_type": "code",
   "execution_count": null,
   "id": "96e4d64a-e44d-4f59-8a86-e8eb969b7576",
   "metadata": {},
   "outputs": [],
   "source": [
    "#bands_dict['b1'].tolist()"
   ]
  },
  {
   "cell_type": "code",
   "execution_count": null,
   "id": "7a809f85-dec4-4914-8748-db95575ea2cd",
   "metadata": {},
   "outputs": [],
   "source": [
    "bands_dict"
   ]
  },
  {
   "cell_type": "code",
   "execution_count": 214,
   "id": "0de797f9-59a8-4d3f-b16f-1561d70de4fa",
   "metadata": {},
   "outputs": [],
   "source": [
    "b_sub =bands_dict['b1'][1,:].copy()"
   ]
  },
  {
   "cell_type": "code",
   "execution_count": 212,
   "id": "a66c0b6f-8555-4e9f-8d64-d15d941993cc",
   "metadata": {},
   "outputs": [
    {
     "data": {
      "text/plain": [
       "array([ 0., 99.,  0., ...,  0.,  0.,  0.], dtype=float32)"
      ]
     },
     "execution_count": 212,
     "metadata": {},
     "output_type": "execute_result"
    }
   ],
   "source": [
    "b_sub[1]=99\n",
    "b_sub"
   ]
  },
  {
   "cell_type": "code",
   "execution_count": 220,
   "id": "4389e4b2-2709-49f1-a607-8f0759e993e9",
   "metadata": {},
   "outputs": [],
   "source": [
    "## operations\n"
   ]
  },
  {
   "cell_type": "code",
   "execution_count": null,
   "id": "c45faec6-983a-42ae-9dce-57006497b37c",
   "metadata": {},
   "outputs": [],
   "source": [
    "bands_dict['b1']>1"
   ]
  },
  {
   "cell_type": "code",
   "execution_count": 244,
   "id": "8a6d804d-3010-485b-bcc8-2bfaca7d6877",
   "metadata": {},
   "outputs": [
    {
     "name": "stdout",
     "output_type": "stream",
     "text": [
      "max of b1 is 0.29589775\n",
      "max of b2 is 0.49833152\n",
      "max of b3 is 0.66163284\n",
      "max of b4 is 0.744654\n",
      "max of b5 is 0.47687572\n",
      "max of b6 is 340.08658\n",
      "max of b7 is 0.68695855\n"
     ]
    }
   ],
   "source": [
    "bands_list = ['b1', 'b2', 'b3', 'b4', 'b5','b6', 'b7']\n",
    "for bands in bands_list:\n",
    "    max = bands_dict[bands].max()\n",
    "    print( 'max of ' + str(bands) + \" is \" + str(max))"
   ]
  },
  {
   "cell_type": "code",
   "execution_count": 236,
   "id": "f5158ba5-1f31-4463-984b-f5907acd781d",
   "metadata": {},
   "outputs": [
    {
     "data": {
      "text/plain": [
       "0.078390054"
      ]
     },
     "execution_count": 236,
     "metadata": {},
     "output_type": "execute_result"
    }
   ],
   "source": [
    "bands_dict['b1'].mean()"
   ]
  },
  {
   "cell_type": "code",
   "execution_count": null,
   "id": "76f1a2e6-85bb-4c64-be0b-bfead7ac7ca3",
   "metadata": {},
   "outputs": [],
   "source": [
    "np.array(bands_dict).flatten()"
   ]
  },
  {
   "cell_type": "code",
   "execution_count": 227,
   "id": "7812b985-c721-4407-9f96-b6388946752f",
   "metadata": {},
   "outputs": [
    {
     "data": {
      "text/plain": [
       "1"
      ]
     },
     "execution_count": 227,
     "metadata": {},
     "output_type": "execute_result"
    }
   ],
   "source": [
    "np.sum(bands_dict['b1']>1)"
   ]
  },
  {
   "cell_type": "code",
   "execution_count": 258,
   "id": "d631ebd0-742a-4501-b300-10dfe0dc98e8",
   "metadata": {},
   "outputs": [],
   "source": [
    "df = np.array(bands_dict).flatten()"
   ]
  },
  {
   "cell_type": "code",
   "execution_count": 259,
   "id": "7bb68c91-a8cd-4d8b-af5e-7b652a43d9bc",
   "metadata": {},
   "outputs": [
    {
     "ename": "AttributeError",
     "evalue": "'numpy.ndarray' object has no attribute 'hist'",
     "output_type": "error",
     "traceback": [
      "\u001b[0;31m---------------------------------------------------------------------------\u001b[0m",
      "\u001b[0;31mAttributeError\u001b[0m                            Traceback (most recent call last)",
      "Input \u001b[0;32mIn [259]\u001b[0m, in \u001b[0;36m<cell line: 1>\u001b[0;34m()\u001b[0m\n\u001b[0;32m----> 1\u001b[0m \u001b[43mdf\u001b[49m\u001b[38;5;241;43m.\u001b[39;49m\u001b[43mhist\u001b[49m(color\u001b[38;5;241m=\u001b[39m\u001b[38;5;124m'\u001b[39m\u001b[38;5;124mk\u001b[39m\u001b[38;5;124m'\u001b[39m, alpha\u001b[38;5;241m=\u001b[39m\u001b[38;5;241m0.5\u001b[39m, bins\u001b[38;5;241m=\u001b[39m\u001b[38;5;241m10\u001b[39m)\n",
      "\u001b[0;31mAttributeError\u001b[0m: 'numpy.ndarray' object has no attribute 'hist'"
     ]
    }
   ],
   "source": [
    "df.hist(color='k', alpha=0.5, bins=10)"
   ]
  },
  {
   "cell_type": "code",
   "execution_count": 266,
   "id": "99fa1289-1f36-4dfd-86bd-1893d56ffdef",
   "metadata": {},
   "outputs": [
    {
     "data": {
      "image/png": "[encoded data removed]",
      "text/plain": [
       "<Figure size 432x288 with 4 Axes>"
      ]
     },
     "metadata": {
      "needs_background": "light"
     },
     "output_type": "display_data"
    }
   ],
   "source": [
    "## hist\n",
    "fig, axs = plt.subplots(2,2)\n",
    "axs[0,0].hist(bands_dict['b1'].flatten())\n",
    "          \n",
    "axs[0,1].hist(bands_dict['b2'].flatten(), bins = 10)\n",
    "axs[1,0].hist(bands_dict['b3'].flatten())\n",
    "          \n",
    "axs[1,1].hist(bands_dict['b4'].flatten())\n",
    "plt.show()"
   ]
  }
 ],
 "metadata": {
  "kernelspec": {
   "display_name": "Python 3 (ipykernel)",
   "language": "python",
   "name": "python3"
  },
  "language_info": {
   "codemirror_mode": {
    "name": "ipython",
    "version": 3
   },
   "file_extension": ".py",
   "mimetype": "text/x-python",
   "name": "python",
   "nbconvert_exporter": "python",
   "pygments_lexer": "ipython3",
   "version": "3.9.13"
  }
 },
 "nbformat": 4,
 "nbformat_minor": 5
}
