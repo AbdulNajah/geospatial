{
 "cells": [
  {
   "cell_type": "code",
   "execution_count": 5,
   "id": "5cd8457d-a00a-4886-a8ec-39d0e4afdaf0",
   "metadata": {},
   "outputs": [],
   "source": [
    "import os\n",
    "from geemap.conversion import *\n",
    "import ee"
   ]
  },
  {
   "cell_type": "code",
   "execution_count": 6,
   "id": "9f90b75b-5ace-494d-884d-61cbd2f19ae1",
   "metadata": {},
   "outputs": [
    {
     "data": {
      "text/html": [
       "<p>To authorize access needed by Earth Engine, open the following\n",
       "        URL in a web browser and follow the instructions:</p>\n",
       "        <p><a href=https://code.earthengine.google.com/client-auth?scopes=https%3A//www.googleapis.com/auth/earthengine%20https%3A//www.googleapis.com/auth/devstorage.full_control&request_id=PaBUPs7M_6Zbn6F1cMAkXhRXLVfhERBd3VpbuRHEnYA&tc=RDiwQfTz6iOAF6Lst_TS27DrBJPY5J1qLvUbcrsXY6Y&cc=p_SNwpS-0p94rRWS0df6H1z1TXYW8AJEwi9de_e-fIE>https://code.earthengine.google.com/client-auth?scopes=https%3A//www.googleapis.com/auth/earthengine%20https%3A//www.googleapis.com/auth/devstorage.full_control&request_id=PaBUPs7M_6Zbn6F1cMAkXhRXLVfhERBd3VpbuRHEnYA&tc=RDiwQfTz6iOAF6Lst_TS27DrBJPY5J1qLvUbcrsXY6Y&cc=p_SNwpS-0p94rRWS0df6H1z1TXYW8AJEwi9de_e-fIE</a></p>\n",
       "        <p>The authorization workflow will generate a code, which you should paste in the box below.</p>\n",
       "        "
      ],
      "text/plain": [
       "<IPython.core.display.HTML object>"
      ]
     },
     "metadata": {},
     "output_type": "display_data"
    },
    {
     "name": "stdin",
     "output_type": "stream",
     "text": [
      "Enter verification code:  4/1ARtbsJqNn_hQLDc72u6bqLzs7e-cSFs1uXxWZq4Gro3y9pBoQs8HDYeTEZM\n"
     ]
    },
    {
     "name": "stdout",
     "output_type": "stream",
     "text": [
      "\n",
      "Successfully saved authorization token.\n"
     ]
    }
   ],
   "source": [
    "ee.Authenticate()"
   ]
  },
  {
   "cell_type": "code",
   "execution_count": 8,
   "id": "5b321131-4717-4401-8871-7f6c3e44c632",
   "metadata": {},
   "outputs": [],
   "source": [
    "ee.Initialize()"
   ]
  },
  {
   "cell_type": "code",
   "execution_count": 10,
   "id": "8d94db5b-b7cf-4d3f-b2eb-86f6c1865492",
   "metadata": {},
   "outputs": [
    {
     "name": "stdout",
     "output_type": "stream",
     "text": [
      "Converting Earth Engine JavaScripts to Python scripts...\n",
      "\n",
      "Processing 1/6: /Users/najah/work/internships/meghna/scripts/js/NormalizedDifference.js\n",
      "Processing 2/6: /Users/najah/work/internships/meghna/scripts/js/FromName.js\n",
      "Processing 3/6: /Users/najah/work/internships/meghna/scripts/js/ModisQaBands.js\n",
      "Processing 4/6: /Users/najah/work/internships/meghna/scripts/js/QualityMosaic.js\n",
      "Processing 5/6: /Users/najah/work/internships/meghna/scripts/js/delhi_split_train.js\n",
      "Processing 6/6: /Users/najah/work/internships/meghna/scripts/js/ClippedComposite.js\n",
      "Python scripts saved at: /Users/najah/work/internships/meghna/scripts/js\n"
     ]
    }
   ],
   "source": [
    "# Create a temporary working directory\n",
    "work_dir = os.path.join(os.path.expanduser('~'), 'work/internships/meghna/scripts/js')\n",
    "# Get Earth Engine JavaScript examples. There are five examples in the geemap package folder.\n",
    "# Change js_dir to your own folder containing your Earth Engine JavaScripts,\n",
    "# such as js_dir = '/path/to/your/js/folder'\n",
    "js_dir = get_js_examples(out_dir=work_dir)\n",
    "\n",
    "# Convert all Earth Engine JavaScripts in a folder recursively to Python scripts.\n",
    "js_to_python_dir(in_dir=js_dir, out_dir=js_dir, use_qgis=True)\n",
    "print(\"Python scripts saved at: {}\".format(js_dir))"
   ]
  },
  {
   "cell_type": "code",
   "execution_count": null,
   "id": "60b47e4e-9cd1-43a4-97b1-ec7df3c08bc4",
   "metadata": {},
   "outputs": [
    {
     "name": "stdout",
     "output_type": "stream",
     "text": [
      "Converting Earth Engine Python scripts to Jupyter notebooks ...\n",
      "\n",
      "Processing 1/6: /Users/najah/work/internships/meghna/scripts/js/QualityMosaic_geemap.py\n",
      "/Users/najah/work/internships/meghna/scripts/js/QualityMosaic_geemap.py\n",
      "\n",
      "Processing 2/6: /Users/najah/work/internships/meghna/scripts/js/FromName_geemap.py\n",
      "/Users/najah/work/internships/meghna/scripts/js/FromName_geemap.py\n",
      "\n",
      "Processing 3/6: /Users/najah/work/internships/meghna/scripts/js/delhi_split_train_geemap.py\n",
      "/Users/najah/work/internships/meghna/scripts/js/delhi_split_train_geemap.py\n",
      "\n",
      "Processing 4/6: /Users/najah/work/internships/meghna/scripts/js/NormalizedDifference_geemap.py\n",
      "/Users/najah/work/internships/meghna/scripts/js/NormalizedDifference_geemap.py\n",
      "\n",
      "Processing 5/6: /Users/najah/work/internships/meghna/scripts/js/ModisQaBands_geemap.py\n",
      "/Users/najah/work/internships/meghna/scripts/js/ModisQaBands_geemap.py\n",
      "\n",
      "Processing 6/6: /Users/najah/work/internships/meghna/scripts/js/ClippedComposite_geemap.py\n",
      "/Users/najah/work/internships/meghna/scripts/js/ClippedComposite_geemap.py\n",
      "\n",
      "Executing Earth Engine Jupyter notebooks ...\n",
      "\n",
      "Processing 1/6: /Users/najah/work/internships/meghna/scripts/js/delhi_split_train_geemap.ipynb ...\n"
     ]
    },
    {
     "name": "stderr",
     "output_type": "stream",
     "text": [
      "[NbConvertApp] Converting notebook /Users/najah/work/internships/meghna/scripts/js/delhi_split_train_geemap.ipynb to notebook\n"
     ]
    }
   ],
   "source": [
    "# Convert all Earth Engine Python scripts in a folder recursively to Jupyter notebooks.\n",
    "nb_template = get_nb_template()  # Get the notebook template from the package folder.\n",
    "py_to_ipynb_dir(js_dir, nb_template)\n",
    "\n",
    "# Execute all Jupyter notebooks in a folder recursively and save the output cells.\n",
    "execute_notebook_dir(in_dir=js_dir)"
   ]
  },
  {
   "cell_type": "code",
   "execution_count": null,
   "id": "eca86bc8-d234-4395-9cba-9c6761a77022",
   "metadata": {},
   "outputs": [],
   "source": []
  }
 ],
 "metadata": {
  "kernelspec": {
   "display_name": "Python 3 (ipykernel)",
   "language": "python",
   "name": "python3"
  },
  "language_info": {
   "codemirror_mode": {
    "name": "ipython",
    "version": 3
   },
   "file_extension": ".py",
   "mimetype": "text/x-python",
   "name": "python",
   "nbconvert_exporter": "python",
   "pygments_lexer": "ipython3",
   "version": "3.9.13"
  }
 },
 "nbformat": 4,
 "nbformat_minor": 5
}
