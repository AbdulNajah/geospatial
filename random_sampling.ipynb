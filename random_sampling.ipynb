{
 "cells": [
  {
   "cell_type": "code",
   "execution_count": 1,
   "id": "e5d23baa-42dc-4c85-801e-1a9954a5d5bd",
   "metadata": {},
   "outputs": [],
   "source": [
    "import geopandas as gpd\n",
    "import pandas as pd\n",
    "import numpy as np\n",
    "import os\n",
    "import rasterio as rio\n",
    "import seaborn as sns\n",
    "import matplotlib.pyplot as plt"
   ]
  },
  {
   "cell_type": "code",
   "execution_count": 2,
   "id": "197b892b-db44-411d-a034-6960b12cc4e5",
   "metadata": {},
   "outputs": [],
   "source": [
    "os.chdir('/Users/najah/work/internships/meghna//LT05_L1TP_145044_20100428_20161016_01_T1')"
   ]
  },
  {
   "cell_type": "markdown",
   "id": "30f15eb6-6584-4018-9805-42e206f5c8c3",
   "metadata": {},
   "source": [
    "## reading image\n",
    "\n"
   ]
  },
  {
   "cell_type": "code",
   "execution_count": 9,
   "id": "5e802982-416b-482d-8b8d-d3504f3d12a8",
   "metadata": {},
   "outputs": [],
   "source": [
    "l5 = rio.open('./145044_masked_stacked_wgs84.tif')"
   ]
  },
  {
   "cell_type": "code",
   "execution_count": null,
   "id": "08cddbbb-3287-4c51-b39a-6bcc759513df",
   "metadata": {},
   "outputs": [],
   "source": []
  },
  {
   "cell_type": "code",
   "execution_count": 10,
   "id": "7991786f-cda8-46ed-9394-414b589b938b",
   "metadata": {},
   "outputs": [
    {
     "ename": "NameError",
     "evalue": "name 'random_points' is not defined",
     "output_type": "error",
     "traceback": [
      "\u001b[0;31m---------------------------------------------------------------------------\u001b[0m",
      "\u001b[0;31mNameError\u001b[0m                                 Traceback (most recent call last)",
      "Input \u001b[0;32mIn [10]\u001b[0m, in \u001b[0;36m<cell line: 2>\u001b[0;34m()\u001b[0m\n\u001b[1;32m      1\u001b[0m fig, ax \u001b[38;5;241m=\u001b[39m plt\u001b[38;5;241m.\u001b[39msubplots(figsize \u001b[38;5;241m=\u001b[39m (\u001b[38;5;241m12\u001b[39m,\u001b[38;5;241m12\u001b[39m))\n\u001b[0;32m----> 2\u001b[0m \u001b[43mrandom_points\u001b[49m\u001b[38;5;241m.\u001b[39mplot(ax \u001b[38;5;241m=\u001b[39m ax, color \u001b[38;5;241m=\u001b[39m \u001b[38;5;124m'\u001b[39m\u001b[38;5;124morange\u001b[39m\u001b[38;5;124m'\u001b[39m)\n\u001b[1;32m      3\u001b[0m show((l5,\u001b[38;5;241m4\u001b[39m), ax \u001b[38;5;241m=\u001b[39m ax)\n",
      "\u001b[0;31mNameError\u001b[0m: name 'random_points' is not defined"
     ]
    },
    {
     "data": {
      "image/png": "[encoded data removed]",
      "text/plain": [
       "<Figure size 1200x1200 with 1 Axes>"
      ]
     },
     "metadata": {},
     "output_type": "display_data"
    }
   ],
   "source": [
    "fig, ax = plt.subplots(figsize = (12,12))\n",
    "random_points.plot(ax = ax, color = 'orange')\n",
    "show((l5,4), ax = ax)"
   ]
  },
  {
   "cell_type": "markdown",
   "id": "05198393-2702-4999-92ff-e98d47d78586",
   "metadata": {},
   "source": [
    "### class creation"
   ]
  },
  {
   "cell_type": "code",
   "execution_count": 3,
   "id": "8027abe2-f338-4de8-903a-493213f61516",
   "metadata": {},
   "outputs": [],
   "source": [
    "random_points = gpd.read_file(\"./145044_20100428_roi/145044_20100428_random_points_2/random_points_merged.shp\")"
   ]
  },
  {
   "cell_type": "code",
   "execution_count": 5,
   "id": "73634903-91df-412b-b621-9a17a1ba6e24",
   "metadata": {},
   "outputs": [],
   "source": [
    "random_points['class'] = random_points['class'].astype('int')"
   ]
  },
  {
   "cell_type": "code",
   "execution_count": 6,
   "id": "b0c1b66c-5b36-44a5-a27d-86dfb5f134fa",
   "metadata": {},
   "outputs": [
    {
     "data": {
      "text/plain": [
       "11    222\n",
       "5     155\n",
       "1      73\n",
       "13     63\n",
       "4      59\n",
       "15     45\n",
       "2      35\n",
       "16     21\n",
       "17     15\n",
       "8      12\n",
       "Name: class, dtype: int64"
      ]
     },
     "execution_count": 6,
     "metadata": {},
     "output_type": "execute_result"
    }
   ],
   "source": [
    " random_points['class'].value_counts()"
   ]
  },
  {
   "cell_type": "markdown",
   "id": "82731afd-db1a-4473-bcf6-0420e9a87ccb",
   "metadata": {},
   "source": [
    "ag_fire class"
   ]
  },
  {
   "cell_type": "code",
   "execution_count": 10,
   "id": "eb82443d-87d2-4d19-b62d-86c1fa47306a",
   "metadata": {},
   "outputs": [],
   "source": [
    "random_points['ag_fire'] = np.where(random_points['class']==5,1,0)"
   ]
  },
  {
   "cell_type": "markdown",
   "id": "12835d64-fedf-4f90-bded-a4806e29a456",
   "metadata": {},
   "source": [
    "### splitting the dataset"
   ]
  },
  {
   "cell_type": "code",
   "execution_count": 17,
   "id": "7ddb970b-dd82-4604-944c-9a9f00b07914",
   "metadata": {},
   "outputs": [],
   "source": [
    "points500 = random_points.sample(n = 500, random_state= 123)"
   ]
  },
  {
   "cell_type": "code",
   "execution_count": 8,
   "id": "209362ac-e358-41be-9dea-ce2f36f9309d",
   "metadata": {},
   "outputs": [
    {
     "data": {
      "text/plain": [
       "11    149\n",
       "5     111\n",
       "1      56\n",
       "13     50\n",
       "4      43\n",
       "15     35\n",
       "2      22\n",
       "16     15\n",
       "17     10\n",
       "8       9\n",
       "Name: class, dtype: int64"
      ]
     },
     "execution_count": 8,
     "metadata": {},
     "output_type": "execute_result"
    }
   ],
   "source": [
    "points500['class'].value_counts()"
   ]
  },
  {
   "cell_type": "markdown",
   "id": "9968a361-8ce3-4822-8ff5-6969cfe5c997",
   "metadata": {},
   "source": [
    "creating another class with 12 on others.\n",
    "what about 13?"
   ]
  },
  {
   "cell_type": "code",
   "execution_count": 13,
   "id": "61e661c1-b25a-46a1-9950-34bb272b5706",
   "metadata": {},
   "outputs": [
    {
     "data": {
      "text/plain": [
       "57     11\n",
       "478    10\n",
       "597     4\n",
       "689    10\n",
       "647     5\n",
       "Name: class1, dtype: int64"
      ]
     },
     "execution_count": 13,
     "metadata": {},
     "output_type": "execute_result"
    }
   ],
   "source": [
    "points500['class1'] = points500['class']\n",
    "points500.class1.head()\n"
   ]
  },
  {
   "cell_type": "code",
   "execution_count": 14,
   "id": "31cd465a-6a3d-4b60-93d6-792dc12d6aa4",
   "metadata": {},
   "outputs": [
    {
     "data": {
      "text/plain": [
       "11    180\n",
       "10    146\n",
       "5      76\n",
       "1      33\n",
       "13     23\n",
       "2      19\n",
       "4      16\n",
       "8       7\n",
       "Name: class1, dtype: int64"
      ]
     },
     "execution_count": 14,
     "metadata": {},
     "output_type": "execute_result"
    }
   ],
   "source": [
    "## reclassfiying 12 as others\n",
    "points500['class1'] = np.where(points500['class1']==12,11,points500['class1'])\n",
    "points500.class1.value_counts()"
   ]
  },
  {
   "cell_type": "code",
   "execution_count": 16,
   "id": "e6704176-dbe0-4cb1-81bb-09b910687374",
   "metadata": {},
   "outputs": [
    {
     "data": {
      "text/plain": [
       "geopandas.geodataframe.GeoDataFrame"
      ]
     },
     "execution_count": 16,
     "metadata": {},
     "output_type": "execute_result"
    }
   ],
   "source": [
    "type(points500)"
   ]
  },
  {
   "cell_type": "code",
   "execution_count": 9,
   "id": "9a3ae974-0a21-49ad-b4b7-1d9814ccf141",
   "metadata": {},
   "outputs": [],
   "source": [
    "points200 =random_points.drop(points500.index)"
   ]
  },
  {
   "cell_type": "code",
   "execution_count": 10,
   "id": "9c6bf1d4-38d6-457f-aefa-5eff5b329776",
   "metadata": {},
   "outputs": [
    {
     "data": {
      "text/plain": [
       "11    73\n",
       "5     44\n",
       "1     17\n",
       "4     16\n",
       "13    13\n",
       "2     13\n",
       "15    10\n",
       "16     6\n",
       "17     5\n",
       "8      3\n",
       "Name: class, dtype: int64"
      ]
     },
     "execution_count": 10,
     "metadata": {},
     "output_type": "execute_result"
    }
   ],
   "source": [
    "points200['class'].value_counts()"
   ]
  },
  {
   "cell_type": "code",
   "execution_count": 62,
   "id": "b6987926-53c5-44e8-a222-fe52e99b4436",
   "metadata": {},
   "outputs": [],
   "source": [
    "##points500[['ag_fire', 'class']]= points500[['ag_fire', 'class']].astype(float)"
   ]
  },
  {
   "cell_type": "code",
   "execution_count": 65,
   "id": "6b344c02-744f-4b14-b947-497c04744d20",
   "metadata": {},
   "outputs": [],
   "source": [
    "##points200[['ag_fire', 'class']]= points200[['ag_fire', 'class']].astype(float)"
   ]
  },
  {
   "cell_type": "code",
   "execution_count": 21,
   "id": "c5f9eff8-e61e-4b8e-b840-38df1302ce20",
   "metadata": {},
   "outputs": [
    {
     "data": {
      "text/plain": [
       "geopandas.geodataframe.GeoDataFrame"
      ]
     },
     "execution_count": 21,
     "metadata": {},
     "output_type": "execute_result"
    }
   ],
   "source": [
    "type(points200)"
   ]
  },
  {
   "cell_type": "code",
   "execution_count": 23,
   "id": "99c9a03e-c098-4fa4-983d-36fc05083077",
   "metadata": {},
   "outputs": [
    {
     "data": {
      "text/html": [
       "<div>\n",
       "<style scoped>\n",
       "    .dataframe tbody tr th:only-of-type {\n",
       "        vertical-align: middle;\n",
       "    }\n",
       "\n",
       "    .dataframe tbody tr th {\n",
       "        vertical-align: top;\n",
       "    }\n",
       "\n",
       "    .dataframe thead th {\n",
       "        text-align: right;\n",
       "    }\n",
       "</style>\n",
       "<table border=\"1\" class=\"dataframe\">\n",
       "  <thead>\n",
       "    <tr style=\"text-align: right;\">\n",
       "      <th></th>\n",
       "      <th>id</th>\n",
       "      <th>long</th>\n",
       "      <th>lat</th>\n",
       "      <th>class</th>\n",
       "      <th>geometry</th>\n",
       "      <th>ag_fire</th>\n",
       "      <th>class1</th>\n",
       "    </tr>\n",
       "  </thead>\n",
       "  <tbody>\n",
       "    <tr>\n",
       "      <th>2</th>\n",
       "      <td>2.0</td>\n",
       "      <td>78.749</td>\n",
       "      <td>22.635</td>\n",
       "      <td>1</td>\n",
       "      <td>POINT (78.74949 22.63525)</td>\n",
       "      <td>0</td>\n",
       "      <td>1</td>\n",
       "    </tr>\n",
       "    <tr>\n",
       "      <th>3</th>\n",
       "      <td>3.0</td>\n",
       "      <td>77.164</td>\n",
       "      <td>23.340</td>\n",
       "      <td>5</td>\n",
       "      <td>POINT (77.16359 23.34006)</td>\n",
       "      <td>1</td>\n",
       "      <td>5</td>\n",
       "    </tr>\n",
       "    <tr>\n",
       "      <th>8</th>\n",
       "      <td>8.0</td>\n",
       "      <td>78.181</td>\n",
       "      <td>22.470</td>\n",
       "      <td>11</td>\n",
       "      <td>POINT (78.18053 22.47018)</td>\n",
       "      <td>0</td>\n",
       "      <td>11</td>\n",
       "    </tr>\n",
       "    <tr>\n",
       "      <th>10</th>\n",
       "      <td>10.0</td>\n",
       "      <td>77.646</td>\n",
       "      <td>23.470</td>\n",
       "      <td>11</td>\n",
       "      <td>POINT (77.64561 23.46997)</td>\n",
       "      <td>0</td>\n",
       "      <td>11</td>\n",
       "    </tr>\n",
       "    <tr>\n",
       "      <th>14</th>\n",
       "      <td>14.0</td>\n",
       "      <td>78.844</td>\n",
       "      <td>23.173</td>\n",
       "      <td>11</td>\n",
       "      <td>POINT (78.84402 23.17313)</td>\n",
       "      <td>0</td>\n",
       "      <td>11</td>\n",
       "    </tr>\n",
       "  </tbody>\n",
       "</table>\n",
       "</div>"
      ],
      "text/plain": [
       "      id    long     lat  class                   geometry  ag_fire  class1\n",
       "2    2.0  78.749  22.635      1  POINT (78.74949 22.63525)        0       1\n",
       "3    3.0  77.164  23.340      5  POINT (77.16359 23.34006)        1       5\n",
       "8    8.0  78.181  22.470     11  POINT (78.18053 22.47018)        0      11\n",
       "10  10.0  77.646  23.470     11  POINT (77.64561 23.46997)        0      11\n",
       "14  14.0  78.844  23.173     11  POINT (78.84402 23.17313)        0      11"
      ]
     },
     "execution_count": 23,
     "metadata": {},
     "output_type": "execute_result"
    }
   ],
   "source": [
    "## reclassfiying 12 as others\n",
    "points200['class1'] = points200['class']\n",
    "points200['class1'] = np.where(points200['class']==12,11,points200['class'])\n",
    "points200.head()"
   ]
  },
  {
   "cell_type": "code",
   "execution_count": 14,
   "id": "2f6db738-2e2f-476a-ae68-7dae6d61495c",
   "metadata": {},
   "outputs": [],
   "source": [
    "points200.to_file(\"./145044_20100428_roi/145044_20100428_200points.random_points2\")"
   ]
  },
  {
   "cell_type": "code",
   "execution_count": 19,
   "id": "fb47121b-b063-4806-8bda-2f650c786038",
   "metadata": {},
   "outputs": [],
   "source": [
    "points500.to_file(\"./145044_20100428_roi/145044_20100428_500points.random_points2\")"
   ]
  },
  {
   "cell_type": "code",
   "execution_count": null,
   "id": "abadb993-5cf9-47f3-9bb3-1f464004cc7e",
   "metadata": {},
   "outputs": [],
   "source": []
  }
 ],
 "metadata": {
  "kernelspec": {
   "display_name": "Python 3 (ipykernel)",
   "language": "python",
   "name": "python3"
  },
  "language_info": {
   "codemirror_mode": {
    "name": "ipython",
    "version": 3
   },
   "file_extension": ".py",
   "mimetype": "text/x-python",
   "name": "python",
   "nbconvert_exporter": "python",
   "pygments_lexer": "ipython3",
   "version": "3.9.13"
  }
 },
 "nbformat": 4,
 "nbformat_minor": 5
}
