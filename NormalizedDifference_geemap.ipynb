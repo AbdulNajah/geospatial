{
 "cells": [
  {
   "cell_type": "markdown",
   "metadata": {},
   "source": [
    "## Import libraries"
   ]
  },
  {
   "cell_type": "code",
   "execution_count": null,
   "metadata": {},
   "outputs": [],
   "source": [
    "import ee\n",
    "import geemap"
   ]
  },
  {
   "cell_type": "markdown",
   "metadata": {},
   "source": [
    "## Create an interactive map"
   ]
  },
  {
   "cell_type": "code",
   "execution_count": null,
   "metadata": {},
   "outputs": [],
   "source": [
    "Map = geemap.Map(center=[40, -100], zoom=4)"
   ]
  },
  {
   "cell_type": "markdown",
   "metadata": {},
   "source": [
    "## Add Earth Engine Python script"
   ]
  },
  {
   "cell_type": "code",
   "execution_count": null,
   "metadata": {},
   "outputs": [],
   "source": [
    "# Add Earth Engine dataset\n",
    "image = ee.Image(\"USGS/SRTMGL1_003\")\n",
    "# NormalizedDifference example.\n",
    "#\n",
    "# Compute Normalized Difference Vegetation Index over MOD09GA product.\n",
    "# NDVI = (NIR - RED) / (NIR + RED), where\n",
    "# RED is sur_refl_b01, 620-670nm\n",
    "# NIR is sur_refl_b02, 841-876nm\n",
    "\n",
    "# Load a MODIS image.\n",
    "img = ee.Image('MODIS/006/MOD09GA/2012_03_09')\n",
    "\n",
    "# Use the normalizedDifference(A, B) to compute (A - B) / (A + B)\n",
    "ndvi = img.normalizedDifference(['sur_refl_b02', 'sur_refl_b01'])\n",
    "\n",
    "# Make a palette: a list of hex strings.\n",
    "palette = ['FFFFFF', 'CE7E45', 'DF923D', 'F1B555', 'FCD163', '99B718',\n",
    "               '74A901', '66A000', '529400', '3E8601', '207401', '056201',\n",
    "               '004C00', '023B01', '012E01', '011D01', '011301']\n",
    "\n",
    "# Center the map\n",
    "Map.setCenter(-94.84497, 39.01918, 8)\n",
    "\n",
    "# Display the input image and the NDVI derived from it.\n",
    "Map.addLayer(img.select(['sur_refl_b01', 'sur_refl_b04', 'sur_refl_b03']),\n",
    "         {'gain': [0.1, 0.1, 0.1]}, 'MODIS bands 1/4/3')\n",
    "Map.addLayer(ndvi, {'min': 0, 'max': 1, 'palette': palette}, 'NDVI')"
   ]
  },
  {
   "cell_type": "markdown",
   "metadata": {},
   "source": [
    "## Display the interactive map"
   ]
  },
  {
   "cell_type": "code",
   "execution_count": null,
   "metadata": {},
   "outputs": [],
   "source": [
    "Map"
   ]
  }
 ],
 "metadata": {
  "anaconda-cloud": {},
  "kernelspec": {
   "display_name": "Python 3 (ipykernel)",
   "language": "python",
   "name": "python3"
  },
  "language_info": {
   "codemirror_mode": {
    "name": "ipython",
    "version": 3
   },
   "file_extension": ".py",
   "mimetype": "text/x-python",
   "name": "python",
   "nbconvert_exporter": "python",
   "pygments_lexer": "ipython3",
   "version": "3.9.13"
  }
 },
 "nbformat": 4,
 "nbformat_minor": 4
}
