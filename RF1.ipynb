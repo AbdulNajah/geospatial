{
 "cells": [
  {
   "cell_type": "code",
   "execution_count": 77,
   "id": "adf4f744-8901-4fe7-b58b-28eef500d854",
   "metadata": {},
   "outputs": [],
   "source": [
    "import ee\n",
    "import geemap\n",
    "import pandas as pd\n",
    "import numpy as np\n",
    "import os\n",
    "import geopandas as gpd"
   ]
  },
  {
   "cell_type": "code",
   "execution_count": 78,
   "id": "97ea6d3a-85f6-496a-98d0-1b37055dce1d",
   "metadata": {},
   "outputs": [],
   "source": [
    "try:\n",
    "        ee.Initialize()\n",
    "except Exception as e:\n",
    "        ee.Authenticate()\n",
    "        ee.Initialize()"
   ]
  },
  {
   "cell_type": "code",
   "execution_count": 79,
   "id": "f3fb8da9-7e10-466b-a8cb-697725c2cf75",
   "metadata": {},
   "outputs": [],
   "source": [
    "os.chdir('/Users/najah/work/internships/meghna//LT05_L1TP_145044_20100428_20161016_01_T1')"
   ]
  },
  {
   "cell_type": "code",
   "execution_count": 43,
   "id": "b7e114de-4d3a-4f54-b7a9-3318c8cd923b",
   "metadata": {},
   "outputs": [],
   "source": [
    "## adding points from gee\n",
    "# points = ee.FeatureCollection(\"projects/fire-ashoka/assets/145044_20100428_500points1\")\n",
    "\n",
    "# Map.addLayer(points, {'color':'red'}, '500points')"
   ]
  },
  {
   "cell_type": "code",
   "execution_count": 80,
   "id": "638ab7a4-6170-4012-8d72-e03bbcd8b584",
   "metadata": {},
   "outputs": [
    {
     "data": {
      "application/vnd.jupyter.widget-view+json": {
       "model_id": "a796fd1ecb7642db95d4990bef656236",
       "version_major": 2,
       "version_minor": 0
      },
      "text/plain": [
       "Map(center=[23.101347181130787, 78.0196924881727], controls=(WidgetControl(options=['position', 'transparent_b…"
      ]
     },
     "metadata": {},
     "output_type": "display_data"
    }
   ],
   "source": [
    "## adding points from local machine\n",
    "Map = geemap.Map()\n",
    "points_shp = './145044_20100428_roi/145044_20100428_500points.random_points2/145044_20100428_500points.shp'\n",
    "points = geemap.shp_to_ee(points_shp)\n",
    "Map.addLayer(   points, {'color':'red'}, '500points')\n",
    "Map.centerObject(points,8)\n",
    "Map\n",
    " "
   ]
  },
  {
   "cell_type": "code",
   "execution_count": 119,
   "id": "008dbda2-f714-46c6-8674-5333beaee59a",
   "metadata": {},
   "outputs": [
    {
     "data": {
      "text/plain": [
       "11    149\n",
       "5     111\n",
       "1      56\n",
       "13     50\n",
       "4      43\n",
       "15     35\n",
       "2      22\n",
       "16     15\n",
       "17     10\n",
       "8       9\n",
       "Name: class, dtype: int64"
      ]
     },
     "execution_count": 119,
     "metadata": {},
     "output_type": "execute_result"
    }
   ],
   "source": [
    "## distribution of points\n",
    "\n",
    "\n",
    "\n",
    "gpd.read_file(points_shp)['class'].value_counts()"
   ]
  },
  {
   "cell_type": "code",
   "execution_count": 120,
   "id": "29bab2f6-fcf2-4cc6-bcac-ec96c3c3277e",
   "metadata": {},
   "outputs": [
    {
     "ename": "SyntaxError",
     "evalue": "invalid syntax (1080671861.py, line 4)",
     "output_type": "error",
     "traceback": [
      "\u001b[0;36m  Input \u001b[0;32mIn [120]\u001b[0;36m\u001b[0m\n\u001b[0;31m    'Water', 'Cloud', ,' Others',  'Unknown'\u001b[0m\n\u001b[0m                      ^\u001b[0m\n\u001b[0;31mSyntaxError\u001b[0m\u001b[0;31m:\u001b[0m invalid syntax\n"
     ]
    }
   ],
   "source": [
    "## need to rewrite the classes\n",
    "\n",
    "cats = pd.Series(['Forest', 'Forest Fire', 'Forest Active Fire', 'Ag', \"Ag Fire\", 'Ag Active Fire', 'Shadow',\n",
    "                  'Water', 'Cloud', ,' Others',  'Unknown'\n",
    "                 ])\n",
    "\n",
    "numbers = pd.Series(list(range(1,14)))\n",
    "d = {'class': numbers,'class_label': cats}\n",
    "labels =pd.DataFrame(d)\n",
    "labels"
   ]
  },
  {
   "cell_type": "code",
   "execution_count": 81,
   "id": "27bed0d9-0482-4826-a1d7-a58021f6f460",
   "metadata": {},
   "outputs": [
    {
     "data": {
      "application/vnd.jupyter.widget-view+json": {
       "model_id": "a796fd1ecb7642db95d4990bef656236",
       "version_major": 2,
       "version_minor": 0
      },
      "text/plain": [
       "Map(bottom=28744.0, center=[23.101347181130787, 78.0196924881727], controls=(WidgetControl(options=['position'…"
      ]
     },
     "metadata": {},
     "output_type": "display_data"
    }
   ],
   "source": [
    "## adding the landsat image\n",
    "\n",
    "image = ee.Image('LANDSAT/LT05/C01/T1_TOA/LT05_145044_20100428') \\\n",
    "            .select(['B1', 'B2', 'B3', 'B4', 'B5', 'B7'])\n",
    "\n",
    "Map.centerObject(image)\n",
    "\n",
    "rgbVis = {\n",
    "  'min':0,\n",
    "  'max' :0.4,\n",
    "  'bands' : ['B5', 'B4', 'B3'],\n",
    "  'gamma' : 1.2\n",
    "}\n",
    "\n",
    "Map.addLayer(image, rgbVis, 'original')\n",
    "Map"
   ]
  },
  {
   "cell_type": "code",
   "execution_count": 82,
   "id": "0192d963-683e-43cd-811c-5b8bea551605",
   "metadata": {},
   "outputs": [],
   "source": [
    "# Calculate Slope and Elevation\n",
    "elevation_raster = ee.Image('USGS/SRTMGL1_003')\n",
    "\n",
    "elev = elevation_raster.select('elevation').rename('elev')\n",
    "slope = ee.Terrain.slope(elevation_raster.select('elevation')).rename('slope')\n",
    "\n",
    "##image meta data\n",
    "\n",
    "image = image.addBands(elev).addBands(slope)\n",
    "\n"
   ]
  },
  {
   "cell_type": "code",
   "execution_count": null,
   "id": "ce6f03c2-8bed-4891-8e45-7a8d113db2fe",
   "metadata": {},
   "outputs": [],
   "source": [
    "# Creates a shadow band, with output 1 where pixels are illumunated and 0\n",
    "# where they are shadowed. Takes as input an elevation band, azimuth and\n",
    "# zenith of the light source in degrees, a neighborhood size, and whether or\n",
    "# not to apply hysteresis when a shadow appears. Currently, this algorithm\n",
    "# only works for Mercator projections, in which light rays are parallel.\n",
    "\n",
    "# def getShadow(image):\n",
    "#     azimuth = image.get('SUN_AZIMUTH').getInfo(),\n",
    "#     elevation = image.get('SUN_ELEVATION').getInfo(),\n",
    "#     zenith = ee.Number(90).subtract(ee.Number(elevation)).getInfo(),\n",
    "#     shadow = ee.Terrain.hillShadow(image, azimuth, zenith),\n",
    "#     return image.addBands(shadow)\n",
    "\n",
    "# image  = getShadow(image)"
   ]
  },
  {
   "cell_type": "code",
   "execution_count": 83,
   "id": "3ca1e509-edeb-4b8e-b48e-546aac9dffdd",
   "metadata": {},
   "outputs": [],
   "source": [
    "## temp fix\n",
    "azimuth = image.get('SUN_AZIMUTH').getInfo()\n",
    "elevation = image.get('SUN_ELEVATION').getInfo()\n",
    "zenith = ee.Number(90).subtract(ee.Number(elevation)).getInfo()\n",
    "shadow = ee.Terrain.hillShadow(image, azimuth, zenith)\n",
    "image = image.addBands(shadow)"
   ]
  },
  {
   "cell_type": "markdown",
   "id": "25bc1b30-fc25-445b-b5da-cb884b33c752",
   "metadata": {},
   "source": [
    "#### indices"
   ]
  },
  {
   "cell_type": "code",
   "execution_count": 84,
   "id": "231cadf4-a92a-49b8-b592-4ad36e543e54",
   "metadata": {},
   "outputs": [],
   "source": [
    "## creating the indices\n",
    "def addIndices(image):\n",
    "\n",
    "  ndvi = image.normalizedDifference(['B4', 'B3']).rename('ndvi'),\n",
    "\n",
    "  ndmi = image.normalizedDifference(['B4', 'B5']).rename('ndmi'),\n",
    "\n",
    "  nbr = image.normalizedDifference(['B4', 'B7']).rename('nbr'),\n",
    "\n",
    "  ndwi = image.normalizedDifference(['B2', 'B4']).rename('ndwi'),\n",
    "    \n",
    "\n",
    "  bai = image.expression(\n",
    "    '1/((0.1-red)**2+ (0.06-nir)**2)',{\n",
    "      'nir': image.select('B4'),\n",
    "      'red': image.select('B3')\n",
    "\n",
    "    }).rename('bai'),\n",
    "\n",
    "\n",
    "  mirbi = image.expression(\n",
    "    '10.0 * S2 - 9.8 * S1 + 2.0',{\n",
    "      'S1': image.select('B5'),\n",
    "      'S2': image.select('B7')\n",
    "\n",
    "    }).rename('mirbi'),\n",
    "    \n",
    "  baims = image.expression(\n",
    "    '1.0/((0.05 - N) ** 2.0) + ((0.2 - S1) ** 2.0)',{\n",
    "      'N': image.select('B4'),\n",
    "      'S1': image.select('B5')\n",
    "    }).rename('baims'),\n",
    "\n",
    "  baiml = image.expression(\n",
    "    '1.0/((0.05 - N) ** 2.0) + ((0.2 - S2) ** 2.0)',{\n",
    "      'N': image.select('B4'),\n",
    "      'S2': image.select('B7')\n",
    "\n",
    "    }).rename('baiml'),\n",
    "    \n",
    "  gemi = image.expression(\n",
    "    '((2*(B4**2-B3)**2+ (1.5*B4)+(.5*B3))/(B4+B3+.5))*(1-.25*((2*(B4**2-B3)**2+ (1.5*B4)+(.5*B3))/(B4+B3+.5)))-((R-.125)/(1-R))',{\n",
    "        'R' : image.select('B3'),\n",
    "        'B4': image.select('B4'),\n",
    "        'B3':image.select('B3')\n",
    "    }).rename('gemi')\n",
    " \n",
    "\n",
    "\n",
    "  return image.addBands(ndvi).addBands(ndmi).addBands(nbr).addBands(ndwi).addBands(bai).addBands(baims).addBands(baiml).addBands(mirbi).addBands(gemi)\n",
    "\n",
    "image = addIndices(image)"
   ]
  },
  {
   "cell_type": "code",
   "execution_count": 11,
   "id": "95913e73-44b5-4728-81f7-4d695b2530ae",
   "metadata": {},
   "outputs": [
    {
     "data": {
      "text/plain": [
       "{'shadow': 1}"
      ]
     },
     "execution_count": 11,
     "metadata": {},
     "output_type": "execute_result"
    }
   ],
   "source": [
    "## mean values\n",
    "geemap.image_mean_value(image.select('shadow')).getInfo()"
   ]
  },
  {
   "cell_type": "markdown",
   "id": "b51b4586-728b-4528-908c-46311a9035ff",
   "metadata": {
    "tags": []
   },
   "source": [
    "### normalization and satandardisation\n",
    "\n",
    "- no gemoetry defined for normalisation\n",
    "- how do i normalise with a python function"
   ]
  },
  {
   "cell_type": "code",
   "execution_count": 12,
   "id": "8d7bd24d-1217-4142-bfc4-ff5141bc5566",
   "metadata": {},
   "outputs": [],
   "source": [
    "\n",
    "# def normalize(image):\n",
    "#   bandNames = image.bandNames()\n",
    "#   # Compute min and max of the image\n",
    "#   minDict = image.reduceRegion({\n",
    "#     'reducer': ee.Reducer.min(),\n",
    "#     'geometry': geometry,\n",
    "#     'scale': 10,\n",
    "#     'maxPixels': 1e9,\n",
    "#     'bestEffort': True,\n",
    "#     'tileScale': 16\n",
    "#   })\n",
    "#   maxDict = image.reduceRegion({\n",
    "#     'reducer': ee.Reducer.max(),\n",
    "#     'geometry': geometry,\n",
    "#     'scale': 10,\n",
    "#     'maxPixels': 1e9,\n",
    "#     'bestEffort': True,\n",
    "#     'tileScale': 16\n",
    "#   })\n",
    "#   mins = ee.Image.constant(minDict.values(bandNames))\n",
    "#   maxs = ee.Image.constant(maxDict.values(bandNames))\n",
    "\n",
    "#   normalized = image.subtract(mins).divide(maxs.subtract(mins))\n",
    "#   return normalized\n",
    "\n",
    "# #**************************************************************************\n",
    "# # Function to Standardize Image\n",
    "# # (Mean Centered Imagery with Unit Standard Deviation)\n",
    "# # https:#365datascience.com/tutorials/statistics-tutorials/standardization/\n",
    "# #**************************************************************************\n",
    "# def standardize(image):\n",
    "#   bandNames = image.bandNames()\n",
    "#   # Mean center the data to enable a faster covariance reducer\n",
    "#   # and an SD stretch of the principal components.\n",
    "#   meanDict = image.reduceRegion({\n",
    "#     'reducer': ee.Reducer.mean(),\n",
    "#     'geometry': geometry,\n",
    "#     'scale': 10,\n",
    "#     'maxPixels': 1e9,\n",
    "#     'bestEffort': True,\n",
    "#     'tileScale': 16\n",
    "#   })\n",
    "#   means = ee.Image.constant(meanDict.values(bandNames))\n",
    "#   centered = image.subtract(means)\n",
    "\n",
    "#   stdDevDict = image.reduceRegion({\n",
    "#     'reducer': ee.Reducer.stdDev(),\n",
    "#     'geometry': geometry,\n",
    "#     'scale': 10,\n",
    "#     'maxPixels': 1e9,\n",
    "#     'bestEffort': True,\n",
    "#     'tileScale': 16\n",
    "#   })\n",
    "#   stddevs = ee.Image.constant(stdDevDict.values(bandNames))\n",
    "\n",
    "#   standardized = centered.divide(stddevs)\n",
    "\n",
    "#   return standardized\n",
    "\n",
    "# standardizedImage = standardize(image)\n",
    "# normalizedImage = normalize(image)"
   ]
  },
  {
   "cell_type": "markdown",
   "id": "c75adeda-79de-4867-b187-875bf18fe572",
   "metadata": {
    "tags": []
   },
   "source": [
    "### Main classfier"
   ]
  },
  {
   "cell_type": "code",
   "execution_count": 13,
   "id": "beeeb8b6-6c68-494f-b2bc-975625f7a9cd",
   "metadata": {},
   "outputs": [],
   "source": [
    "# #'formula': '10.0 * S2 - 9.8 * S1 + 2.0',\n",
    "# baiml = image.expression(\n",
    "#     '1.0/((0.05 - N) ** 2.0) + ((0.2 - S2) ** 2.0)',{\n",
    "#       'N': image.select('B4'),\n",
    "#       'S2': image.select('B7')\n",
    "\n",
    "#     }).rename('baiml')"
   ]
  },
  {
   "cell_type": "code",
   "execution_count": 85,
   "id": "44624860-1994-4dc6-991e-863134f1ee78",
   "metadata": {},
   "outputs": [],
   "source": [
    "# Use these bands for prediction.\n",
    "bands = ['B1', 'B2', 'B3', 'B4', 'B5',  'B7', 'ndvi','ndmi' ,'nbr', 'ndwi',  'mirbi', 'baims', 'baiml', 'gemi','slope', 'elev', 'shadow']\n",
    "\n",
    "# This property of the table stores the land cover labels.\n",
    "label = 'class'\n",
    "\n",
    "# Overlay the points on the imagery to get training.\n",
    "# sample = image.select(bands).sampleRegions(\n",
    "#     **{'collection': points, 'properties': [label], 'scale': 30}\n",
    "# )\n",
    "\n",
    "training = image.select(bands).sampleRegions(**{\n",
    "  'collection' : points,\n",
    "  'properties' : [label],\n",
    "  'scale': 30\n",
    "})"
   ]
  },
  {
   "cell_type": "code",
   "execution_count": 15,
   "id": "a369696b-940b-4021-92a0-6db1e383e298",
   "metadata": {},
   "outputs": [
    {
     "data": {
      "text/plain": [
       "ee.featurecollection.FeatureCollection"
      ]
     },
     "execution_count": 15,
     "metadata": {},
     "output_type": "execute_result"
    }
   ],
   "source": [
    "type(training)"
   ]
  },
  {
   "cell_type": "code",
   "execution_count": 16,
   "id": "365c0913-9f8c-40ad-8892-113619459eed",
   "metadata": {},
   "outputs": [],
   "source": [
    "training_gpd = geemap.ee_to_geopandas(training)\n",
    "\n",
    "training_gpd.head()\n",
    "\n",
    "training_gpd.to_csv('./145044_20100428_models/training_data.csv')\n"
   ]
  },
  {
   "cell_type": "code",
   "execution_count": 41,
   "id": "a115ac6f-95e8-465e-a505-66c3718fe4e7",
   "metadata": {},
   "outputs": [],
   "source": [
    "## building the classifer\n",
    "\n",
    "# numberOfTrees: The number of decision trees to create.\n",
    "#   variablesPerSplit: The number of variables per\n",
    "#       split. If unspecified, uses the square root of\n",
    "#       the number of variables.\n",
    "#   minLeafPopulation: Only create nodes whose training\n",
    "#       set contains at least this many points.\n",
    "#   bagFraction: The fraction of input to bag per tree.\n",
    "#   maxNodes: The maximum number of leaf nodes in each tree. If\n",
    "#       unspecified, defaults to no limit.\n",
    "#   seed: The randomization seed.\n",
    "classifier = ee.Classifier.smileRandomForest( numberOfTrees = 500, variablesPerSplit = 5).train(training, label, bands)"
   ]
  },
  {
   "cell_type": "code",
   "execution_count": 86,
   "id": "822de0c9-a91d-4f0a-a0d3-2cff8e694d1c",
   "metadata": {},
   "outputs": [],
   "source": [
    "classifier = ee.Classifier.smileRandomForest( numberOfTrees = 500, variablesPerSplit = 5).train(training, label, bands)"
   ]
  },
  {
   "cell_type": "markdown",
   "id": "57c556aa-e69c-47f1-9f83-e5e831627bc8",
   "metadata": {},
   "source": [
    "### hyper parameter tuning"
   ]
  },
  {
   "cell_type": "code",
   "execution_count": 52,
   "id": "a1c212d9-6501-4a48-88e5-383a33310bcf",
   "metadata": {},
   "outputs": [],
   "source": [
    "\n",
    "test = image.sampleRegions(**{\n",
    "  'collection' : in_fc ,\n",
    "  'properties' : [label],\n",
    "  'scale': 30\n",
    "})\n",
    "\n",
    "\n",
    "def tree_function(n_tree, var_split, bag_frac):\n",
    "    classifier = ee.Classifier.smileRandomForest(numberOfTrees = n_tree, variablesPerSplit = var_split,bagFraction = bag_frac )\\\n",
    "        .train(training, label, bands)\n",
    "    return test\\\n",
    "    .classify(classifier) \\\n",
    "    .errorMatrix(label, 'classification') \\\n",
    "    .accuracy().getInfo()\n",
    "    \n",
    "\n"
   ]
  },
  {
   "cell_type": "code",
   "execution_count": 51,
   "id": "56437369-ff1b-4b23-bda2-dce05d7e8843",
   "metadata": {},
   "outputs": [
    {
     "data": {
      "text/plain": [
       "ee.featurecollection.FeatureCollection"
      ]
     },
     "execution_count": 51,
     "metadata": {},
     "output_type": "execute_result"
    }
   ],
   "source": [
    "type(in_fc)"
   ]
  },
  {
   "cell_type": "code",
   "execution_count": 58,
   "id": "5b9e6d59-3d0c-4041-8618-6049dd8c3b04",
   "metadata": {},
   "outputs": [
    {
     "data": {
      "text/plain": [
       "array([0.1, 0.2, 0.3, 0.4, 0.5, 0.6, 0.7, 0.8, 0.9, 1. ])"
      ]
     },
     "execution_count": 58,
     "metadata": {},
     "output_type": "execute_result"
    }
   ],
   "source": [
    "bag_frac"
   ]
  },
  {
   "cell_type": "code",
   "execution_count": 63,
   "id": "a5d74548-a07f-4226-85fd-fb25e9d8c6a5",
   "metadata": {},
   "outputs": [],
   "source": [
    "numTreesList = list(range(50,1000,50))\n",
    "\n",
    "vars_split = list(range(1,10,1))\n",
    "\n",
    "bag_frac = [.1,.2, .3, .4, .5,.6,.7,.8, .9,1]\n",
    "\n",
    "import itertools\n",
    "vals = list(itertools.product(numTreesList, vars_split,bag_frac))\n"
   ]
  },
  {
   "cell_type": "code",
   "execution_count": null,
   "id": "9efbca49-321c-40e5-8ed9-f851c84a1033",
   "metadata": {},
   "outputs": [],
   "source": [
    "vals"
   ]
  },
  {
   "cell_type": "code",
   "execution_count": 66,
   "id": "9174aeb7-18da-4d08-9de5-2502419bbfa0",
   "metadata": {},
   "outputs": [],
   "source": [
    "vars_split_list = []\n",
    "for i in range(len(vals)):\n",
    "    val = vals[i][1]\n",
    "    vars_split_list.append(val)\n",
    "#vars_split_list "
   ]
  },
  {
   "cell_type": "code",
   "execution_count": 67,
   "id": "5041585c-8e41-46ca-8dfe-09ec97434300",
   "metadata": {},
   "outputs": [],
   "source": [
    "n_tree_list = []\n",
    "for i in range(len(vals)):\n",
    "    val = vals[i][0]\n",
    "    n_tree_list .append(val)\n",
    "#n_tree_list "
   ]
  },
  {
   "cell_type": "code",
   "execution_count": 68,
   "id": "a4e6a21c-b5fe-4203-bdf0-b74a471b5b0a",
   "metadata": {},
   "outputs": [],
   "source": [
    "bag_frac_list = []\n",
    "for i in range(len(vals)):\n",
    "    val = vals[i][2]\n",
    "    bag_frac_list .append(val)\n",
    "#bag_frac_list"
   ]
  },
  {
   "cell_type": "code",
   "execution_count": 199,
   "id": "1c75b15b-eef6-4146-9332-0c2bcb2040d2",
   "metadata": {},
   "outputs": [
    {
     "data": {
      "text/plain": [
       "0.5577889447236181"
      ]
     },
     "execution_count": 199,
     "metadata": {},
     "output_type": "execute_result"
    }
   ],
   "source": [
    "tree_function(100, 10,.1)"
   ]
  },
  {
   "cell_type": "code",
   "execution_count": null,
   "id": "c9cecbf1-d7c6-4b43-873c-26aff229b99b",
   "metadata": {},
   "outputs": [],
   "source": [
    "accs = list(map(tree_function,n_tree_list,vars_split_list, bag_frac_list  ))"
   ]
  },
  {
   "cell_type": "code",
   "execution_count": null,
   "id": "9db71a0e-6997-4b4a-8a05-53fe8282bed3",
   "metadata": {},
   "outputs": [],
   "source": [
    "numTreesList = ee.List.sequence(50, 1000, 50)\n",
    "accuracies = numTreesList.map(tree_function)\n",
    "\n",
    "print(accuracies)"
   ]
  },
  {
   "cell_type": "code",
   "execution_count": null,
   "id": "0e635f0e-111a-4580-97f5-b6ede8751dfe",
   "metadata": {},
   "outputs": [],
   "source": [
    "\n",
    "\n"
   ]
  },
  {
   "cell_type": "code",
   "execution_count": 87,
   "id": "6bdda936-24ad-4d8f-8ecd-f8250861b16a",
   "metadata": {},
   "outputs": [
    {
     "data": {
      "application/vnd.jupyter.widget-view+json": {
       "model_id": "a796fd1ecb7642db95d4990bef656236",
       "version_major": 2,
       "version_minor": 0
      },
      "text/plain": [
       "Map(bottom=28743.0, center=[23.10324765528739, 78.02415285034276], controls=(WidgetControl(options=['position'…"
      ]
     },
     "metadata": {},
     "output_type": "display_data"
    }
   ],
   "source": [
    "# Classify the image with the same bands used for training.\n",
    "result = image.select(bands).classify(classifier)\n",
    "\n",
    "# # Display the clusters with random colors.\n",
    "Map.addLayer(result.randomVisualizer(), {}, 'classfied')\n",
    "Map.centerObject(result)\n",
    "Map"
   ]
  },
  {
   "cell_type": "markdown",
   "id": "e8a8aa93-51df-40e1-9e92-0f1ecf2db23b",
   "metadata": {
    "tags": []
   },
   "source": [
    "### accuracy\n"
   ]
  },
  {
   "cell_type": "code",
   "execution_count": 44,
   "id": "cdc3935a-1084-406b-ac77-147149a6cd7d",
   "metadata": {},
   "outputs": [],
   "source": [
    "in_shp = './145044_20100428_roi/145044_20100428_200points.random_points2/145044_20100428_200points.shp'\n"
   ]
  },
  {
   "cell_type": "code",
   "execution_count": 45,
   "id": "67f71039-6ec6-4526-96e9-74eea6e7888a",
   "metadata": {},
   "outputs": [
    {
     "data": {
      "text/plain": [
       "11    73\n",
       "5     44\n",
       "1     17\n",
       "4     16\n",
       "13    13\n",
       "2     13\n",
       "15    10\n",
       "16     6\n",
       "17     5\n",
       "8      3\n",
       "Name: class, dtype: int64"
      ]
     },
     "execution_count": 45,
     "metadata": {},
     "output_type": "execute_result"
    }
   ],
   "source": [
    "\n",
    "gpd.read_file(in_shp)['class'].value_counts()"
   ]
  },
  {
   "cell_type": "code",
   "execution_count": 88,
   "id": "b1e87b38-be2d-47e2-b9a8-f22221b51bc5",
   "metadata": {},
   "outputs": [
    {
     "name": "stdout",
     "output_type": "stream",
     "text": [
      "Generating URL ...\n",
      "Downloading data from https://earthengine.googleapis.com/v1alpha/projects/earthengine-legacy/tables/1519e6ec40f458afaa532dbd5f0d52f4-ee04ba82d0fcaf587e65980fcb9bada8:getFeatures\n",
      "Please wait ...\n",
      "Data downloaded to /Users/najah/work/internships/meghna/LT05_L1TP_145044_20100428_20161016_01_T1/145044_20100428_models/RF/145044_20100428_200points_validation.csv\n"
     ]
    },
    {
     "data": {
      "text/plain": [
       "11    73\n",
       "5     44\n",
       "1     17\n",
       "4     16\n",
       "13    13\n",
       "2     13\n",
       "15    10\n",
       "16     6\n",
       "17     5\n",
       "8      3\n",
       "Name: class, dtype: int64"
      ]
     },
     "execution_count": 88,
     "metadata": {},
     "output_type": "execute_result"
    }
   ],
   "source": [
    "in_fc = geemap.shp_to_ee(in_shp)\n",
    "\n",
    "\n",
    "out_csv = ('./145044_20100428_models/RF/145044_20100428_200points_validation.csv')\n",
    "geemap.extract_values_to_points(in_fc, result, out_csv)\n",
    "validation_df = pd.read_csv(out_csv)\n",
    "\n",
    "validation_df['class'].value_counts()"
   ]
  },
  {
   "cell_type": "code",
   "execution_count": 47,
   "id": "ba88ada1-a0e3-4471-b4f6-41495cde195d",
   "metadata": {},
   "outputs": [
    {
     "data": {
      "text/plain": [
       "11.0    77\n",
       "5.0     57\n",
       "13.0    20\n",
       "1.0     19\n",
       "15.0    10\n",
       "4.0      9\n",
       "8.0      3\n",
       "2.0      3\n",
       "16.0     1\n",
       "Name: first, dtype: int64"
      ]
     },
     "execution_count": 47,
     "metadata": {},
     "output_type": "execute_result"
    }
   ],
   "source": [
    "validation_df['first'].value_counts()"
   ]
  },
  {
   "cell_type": "code",
   "execution_count": 89,
   "id": "1c41a8ba-3ffe-44eb-a020-07cc25ef77cb",
   "metadata": {},
   "outputs": [],
   "source": [
    "cf = pd.crosstab( validation_df['class'],validation_df['first'], colnames=['Predicted'],rownames=['Actual'], margins=True).reindex(columns=[1,2,4,5,8,11,13,15,16],index=[1,2,4,5,8,11,13,15,16], fill_value=0)\n",
    "cf"
   ]
  },
  {
   "cell_type": "markdown",
   "id": "b5f41e56-ddf4-4db4-b0bd-1891a8498151",
   "metadata": {},
   "source": [
    " add hiilshade\n",
    " forest fire missclassified\n",
    " 11 \n",
    " 14 haze\n",
    " 13 unknown\n",
    " 15 leaf fallen off\n",
    "11 Others sandy land \n",
    "13  light fires\n",
    "1 truly unknown"
   ]
  },
  {
   "cell_type": "code",
   "execution_count": 36,
   "id": "1b29f20c-3546-4aae-9c16-2763388b854a",
   "metadata": {
    "tags": []
   },
   "outputs": [
    {
     "data": {
      "text/html": [
       "<div>\n",
       "<style scoped>\n",
       "    .dataframe tbody tr th:only-of-type {\n",
       "        vertical-align: middle;\n",
       "    }\n",
       "\n",
       "    .dataframe tbody tr th {\n",
       "        vertical-align: top;\n",
       "    }\n",
       "\n",
       "    .dataframe thead th {\n",
       "        text-align: right;\n",
       "    }\n",
       "</style>\n",
       "<table border=\"1\" class=\"dataframe\">\n",
       "  <thead>\n",
       "    <tr style=\"text-align: right;\">\n",
       "      <th>Predicted</th>\n",
       "      <th>1</th>\n",
       "      <th>2</th>\n",
       "      <th>4</th>\n",
       "      <th>5</th>\n",
       "      <th>8</th>\n",
       "      <th>11</th>\n",
       "      <th>13</th>\n",
       "      <th>15</th>\n",
       "      <th>16</th>\n",
       "    </tr>\n",
       "    <tr>\n",
       "      <th>Actual</th>\n",
       "      <th></th>\n",
       "      <th></th>\n",
       "      <th></th>\n",
       "      <th></th>\n",
       "      <th></th>\n",
       "      <th></th>\n",
       "      <th></th>\n",
       "      <th></th>\n",
       "      <th></th>\n",
       "    </tr>\n",
       "  </thead>\n",
       "  <tbody>\n",
       "    <tr>\n",
       "      <th>1</th>\n",
       "      <td>0.823529</td>\n",
       "      <td>0.000000</td>\n",
       "      <td>0.0625</td>\n",
       "      <td>0.000000</td>\n",
       "      <td>0.000000</td>\n",
       "      <td>0.013889</td>\n",
       "      <td>0.000000</td>\n",
       "      <td>0.3</td>\n",
       "      <td>0.000000</td>\n",
       "    </tr>\n",
       "    <tr>\n",
       "      <th>2</th>\n",
       "      <td>0.000000</td>\n",
       "      <td>0.076923</td>\n",
       "      <td>0.0000</td>\n",
       "      <td>0.022727</td>\n",
       "      <td>0.000000</td>\n",
       "      <td>0.013889</td>\n",
       "      <td>0.000000</td>\n",
       "      <td>0.0</td>\n",
       "      <td>0.000000</td>\n",
       "    </tr>\n",
       "    <tr>\n",
       "      <th>4</th>\n",
       "      <td>0.000000</td>\n",
       "      <td>0.000000</td>\n",
       "      <td>0.3750</td>\n",
       "      <td>0.000000</td>\n",
       "      <td>0.000000</td>\n",
       "      <td>0.041667</td>\n",
       "      <td>0.000000</td>\n",
       "      <td>0.0</td>\n",
       "      <td>0.000000</td>\n",
       "    </tr>\n",
       "    <tr>\n",
       "      <th>5</th>\n",
       "      <td>0.058824</td>\n",
       "      <td>0.692308</td>\n",
       "      <td>0.0625</td>\n",
       "      <td>0.818182</td>\n",
       "      <td>0.000000</td>\n",
       "      <td>0.069444</td>\n",
       "      <td>0.384615</td>\n",
       "      <td>0.0</td>\n",
       "      <td>0.000000</td>\n",
       "    </tr>\n",
       "    <tr>\n",
       "      <th>8</th>\n",
       "      <td>0.000000</td>\n",
       "      <td>0.000000</td>\n",
       "      <td>0.0000</td>\n",
       "      <td>0.000000</td>\n",
       "      <td>0.666667</td>\n",
       "      <td>0.013889</td>\n",
       "      <td>0.000000</td>\n",
       "      <td>0.0</td>\n",
       "      <td>0.000000</td>\n",
       "    </tr>\n",
       "    <tr>\n",
       "      <th>11</th>\n",
       "      <td>0.058824</td>\n",
       "      <td>0.076923</td>\n",
       "      <td>0.5000</td>\n",
       "      <td>0.022727</td>\n",
       "      <td>0.333333</td>\n",
       "      <td>0.638889</td>\n",
       "      <td>0.538462</td>\n",
       "      <td>0.5</td>\n",
       "      <td>0.833333</td>\n",
       "    </tr>\n",
       "    <tr>\n",
       "      <th>13</th>\n",
       "      <td>0.000000</td>\n",
       "      <td>0.153846</td>\n",
       "      <td>0.0000</td>\n",
       "      <td>0.136364</td>\n",
       "      <td>0.000000</td>\n",
       "      <td>0.111111</td>\n",
       "      <td>0.000000</td>\n",
       "      <td>0.0</td>\n",
       "      <td>0.166667</td>\n",
       "    </tr>\n",
       "    <tr>\n",
       "      <th>15</th>\n",
       "      <td>0.058824</td>\n",
       "      <td>0.000000</td>\n",
       "      <td>0.0000</td>\n",
       "      <td>0.000000</td>\n",
       "      <td>0.000000</td>\n",
       "      <td>0.097222</td>\n",
       "      <td>0.000000</td>\n",
       "      <td>0.2</td>\n",
       "      <td>0.000000</td>\n",
       "    </tr>\n",
       "    <tr>\n",
       "      <th>16</th>\n",
       "      <td>0.000000</td>\n",
       "      <td>0.000000</td>\n",
       "      <td>0.0000</td>\n",
       "      <td>0.000000</td>\n",
       "      <td>0.000000</td>\n",
       "      <td>0.000000</td>\n",
       "      <td>0.076923</td>\n",
       "      <td>0.0</td>\n",
       "      <td>0.000000</td>\n",
       "    </tr>\n",
       "  </tbody>\n",
       "</table>\n",
       "</div>"
      ],
      "text/plain": [
       "Predicted        1         2       4         5         8         11        13  \\\n",
       "Actual                                                                          \n",
       "1          0.823529  0.000000  0.0625  0.000000  0.000000  0.013889  0.000000   \n",
       "2          0.000000  0.076923  0.0000  0.022727  0.000000  0.013889  0.000000   \n",
       "4          0.000000  0.000000  0.3750  0.000000  0.000000  0.041667  0.000000   \n",
       "5          0.058824  0.692308  0.0625  0.818182  0.000000  0.069444  0.384615   \n",
       "8          0.000000  0.000000  0.0000  0.000000  0.666667  0.013889  0.000000   \n",
       "11         0.058824  0.076923  0.5000  0.022727  0.333333  0.638889  0.538462   \n",
       "13         0.000000  0.153846  0.0000  0.136364  0.000000  0.111111  0.000000   \n",
       "15         0.058824  0.000000  0.0000  0.000000  0.000000  0.097222  0.000000   \n",
       "16         0.000000  0.000000  0.0000  0.000000  0.000000  0.000000  0.076923   \n",
       "\n",
       "Predicted   15        16  \n",
       "Actual                    \n",
       "1          0.3  0.000000  \n",
       "2          0.0  0.000000  \n",
       "4          0.0  0.000000  \n",
       "5          0.0  0.000000  \n",
       "8          0.0  0.000000  \n",
       "11         0.5  0.833333  \n",
       "13         0.0  0.166667  \n",
       "15         0.2  0.000000  \n",
       "16         0.0  0.000000  "
      ]
     },
     "execution_count": 36,
     "metadata": {},
     "output_type": "execute_result"
    }
   ],
   "source": [
    "cf / cf.sum(axis=0)\n"
   ]
  },
  {
   "cell_type": "code",
   "execution_count": 93,
   "id": "a3171575-a085-4525-8a00-7a6a93b66b2b",
   "metadata": {},
   "outputs": [
    {
     "data": {
      "text/plain": [
       "0.5515463917525774"
      ]
     },
     "execution_count": 93,
     "metadata": {},
     "output_type": "execute_result"
    }
   ],
   "source": [
    "np.diag(cf).sum() / cf.to_numpy().sum()"
   ]
  },
  {
   "cell_type": "markdown",
   "id": "27b1592e-fce2-4918-b7d0-685d804c2584",
   "metadata": {},
   "source": []
  },
  {
   "cell_type": "code",
   "execution_count": 99,
   "id": "ce9cc546-db51-482f-bf3c-12e21f30a795",
   "metadata": {},
   "outputs": [
    {
     "data": {
      "text/html": [
       "<div>\n",
       "<style scoped>\n",
       "    .dataframe tbody tr th:only-of-type {\n",
       "        vertical-align: middle;\n",
       "    }\n",
       "\n",
       "    .dataframe tbody tr th {\n",
       "        vertical-align: top;\n",
       "    }\n",
       "\n",
       "    .dataframe thead th {\n",
       "        text-align: right;\n",
       "    }\n",
       "</style>\n",
       "<table border=\"1\" class=\"dataframe\">\n",
       "  <thead>\n",
       "    <tr style=\"text-align: right;\">\n",
       "      <th>Predicted</th>\n",
       "      <th>1</th>\n",
       "      <th>2</th>\n",
       "      <th>4</th>\n",
       "      <th>5</th>\n",
       "      <th>8</th>\n",
       "      <th>10</th>\n",
       "      <th>11</th>\n",
       "      <th>13</th>\n",
       "      <th>Total</th>\n",
       "    </tr>\n",
       "    <tr>\n",
       "      <th>Actual</th>\n",
       "      <th></th>\n",
       "      <th></th>\n",
       "      <th></th>\n",
       "      <th></th>\n",
       "      <th></th>\n",
       "      <th></th>\n",
       "      <th></th>\n",
       "      <th></th>\n",
       "      <th></th>\n",
       "    </tr>\n",
       "  </thead>\n",
       "  <tbody>\n",
       "    <tr>\n",
       "      <th>1</th>\n",
       "      <td>11.0</td>\n",
       "      <td>0.0</td>\n",
       "      <td>0.0</td>\n",
       "      <td>0.0</td>\n",
       "      <td>1.0</td>\n",
       "      <td>0.0</td>\n",
       "      <td>5.0</td>\n",
       "      <td>0.0</td>\n",
       "      <td>17.0</td>\n",
       "    </tr>\n",
       "    <tr>\n",
       "      <th>2</th>\n",
       "      <td>0.0</td>\n",
       "      <td>0.0</td>\n",
       "      <td>0.0</td>\n",
       "      <td>0.0</td>\n",
       "      <td>0.0</td>\n",
       "      <td>0.0</td>\n",
       "      <td>0.0</td>\n",
       "      <td>0.0</td>\n",
       "      <td>0.0</td>\n",
       "    </tr>\n",
       "    <tr>\n",
       "      <th>4</th>\n",
       "      <td>2.0</td>\n",
       "      <td>0.0</td>\n",
       "      <td>6.0</td>\n",
       "      <td>0.0</td>\n",
       "      <td>0.0</td>\n",
       "      <td>0.0</td>\n",
       "      <td>3.0</td>\n",
       "      <td>0.0</td>\n",
       "      <td>11.0</td>\n",
       "    </tr>\n",
       "    <tr>\n",
       "      <th>5</th>\n",
       "      <td>0.0</td>\n",
       "      <td>3.0</td>\n",
       "      <td>1.0</td>\n",
       "      <td>17.0</td>\n",
       "      <td>0.0</td>\n",
       "      <td>0.0</td>\n",
       "      <td>3.0</td>\n",
       "      <td>0.0</td>\n",
       "      <td>24.0</td>\n",
       "    </tr>\n",
       "    <tr>\n",
       "      <th>8</th>\n",
       "      <td>0.0</td>\n",
       "      <td>0.0</td>\n",
       "      <td>0.0</td>\n",
       "      <td>0.0</td>\n",
       "      <td>1.0</td>\n",
       "      <td>0.0</td>\n",
       "      <td>1.0</td>\n",
       "      <td>0.0</td>\n",
       "      <td>2.0</td>\n",
       "    </tr>\n",
       "    <tr>\n",
       "      <th>10</th>\n",
       "      <td>0.0</td>\n",
       "      <td>0.0</td>\n",
       "      <td>0.0</td>\n",
       "      <td>0.0</td>\n",
       "      <td>0.0</td>\n",
       "      <td>0.0</td>\n",
       "      <td>0.0</td>\n",
       "      <td>0.0</td>\n",
       "      <td>0.0</td>\n",
       "    </tr>\n",
       "    <tr>\n",
       "      <th>11</th>\n",
       "      <td>2.0</td>\n",
       "      <td>0.0</td>\n",
       "      <td>1.0</td>\n",
       "      <td>4.0</td>\n",
       "      <td>0.0</td>\n",
       "      <td>0.0</td>\n",
       "      <td>59.0</td>\n",
       "      <td>9.0</td>\n",
       "      <td>75.0</td>\n",
       "    </tr>\n",
       "    <tr>\n",
       "      <th>13</th>\n",
       "      <td>0.0</td>\n",
       "      <td>0.0</td>\n",
       "      <td>1.0</td>\n",
       "      <td>0.0</td>\n",
       "      <td>0.0</td>\n",
       "      <td>0.0</td>\n",
       "      <td>0.0</td>\n",
       "      <td>1.0</td>\n",
       "      <td>2.0</td>\n",
       "    </tr>\n",
       "    <tr>\n",
       "      <th>Total</th>\n",
       "      <td>15.0</td>\n",
       "      <td>3.0</td>\n",
       "      <td>9.0</td>\n",
       "      <td>21.0</td>\n",
       "      <td>2.0</td>\n",
       "      <td>0.0</td>\n",
       "      <td>71.0</td>\n",
       "      <td>10.0</td>\n",
       "      <td>131.0</td>\n",
       "    </tr>\n",
       "  </tbody>\n",
       "</table>\n",
       "</div>"
      ],
      "text/plain": [
       "Predicted     1    2    4     5    8   10    11    13  Total\n",
       "Actual                                                      \n",
       "1          11.0  0.0  0.0   0.0  1.0  0.0   5.0   0.0   17.0\n",
       "2           0.0  0.0  0.0   0.0  0.0  0.0   0.0   0.0    0.0\n",
       "4           2.0  0.0  6.0   0.0  0.0  0.0   3.0   0.0   11.0\n",
       "5           0.0  3.0  1.0  17.0  0.0  0.0   3.0   0.0   24.0\n",
       "8           0.0  0.0  0.0   0.0  1.0  0.0   1.0   0.0    2.0\n",
       "10          0.0  0.0  0.0   0.0  0.0  0.0   0.0   0.0    0.0\n",
       "11          2.0  0.0  1.0   4.0  0.0  0.0  59.0   9.0   75.0\n",
       "13          0.0  0.0  1.0   0.0  0.0  0.0   0.0   1.0    2.0\n",
       "Total      15.0  3.0  9.0  21.0  2.0  0.0  71.0  10.0  131.0"
      ]
     },
     "execution_count": 99,
     "metadata": {},
     "output_type": "execute_result"
    }
   ],
   "source": [
    "cf.loc['Total',:] = cf.sum(axis=0)\n",
    "#Total sum per row: \n",
    "cf.loc[:,'Total'] = cf.sum(axis=1)\n",
    "cf"
   ]
  },
  {
   "cell_type": "markdown",
   "id": "694ce768-2269-4268-a0b9-473827e19210",
   "metadata": {},
   "source": [
    "### feature importance"
   ]
  },
  {
   "cell_type": "code",
   "execution_count": null,
   "id": "dadb9395-db5b-49a1-94cc-f52687eea0e6",
   "metadata": {},
   "outputs": [],
   "source": [
    "classifier.explain().getInfo()"
   ]
  },
  {
   "cell_type": "code",
   "execution_count": 84,
   "id": "d1cd17c0-6838-42bb-9277-7d085b79a457",
   "metadata": {},
   "outputs": [
    {
     "data": {
      "image/png": "[encoded data removed]",
      "text/plain": [
       "<Figure size 640x480 with 1 Axes>"
      ]
     },
     "metadata": {},
     "output_type": "display_data"
    }
   ],
   "source": [
    "importance = ee.Dictionary(classifier.explain().get('importance'))\n",
    "\n",
    "vals = importance.getInfo().values()\n",
    "\n",
    "variables = importance.getInfo().keys()\n",
    "\n",
    "imp = pd.DataFrame(vals, variables).reset_index().rename(columns = {'index': 'feature', 0: 'value'}).sort_values('value')\n",
    "\n",
    "## calculating relative importance\n",
    "\n",
    "imp['rel_imp'] = imp['value']*100/imp['value'].sum()\n",
    "\n",
    "import seaborn as sns\n",
    "import matplotlib.pyplot as plt\n",
    "#plt.style.use('ggplot')\n",
    "sns.set_theme(style=\"whitegrid\")\n",
    "\n",
    "ax = sns.barplot(data = imp,\n",
    "           y = 'feature',\n",
    "           x  = 'rel_imp',\n",
    "           color = '#49759c')\n",
    "ax.set(xlabel='Relative Importance')\n",
    "\n",
    "plt.show()"
   ]
  },
  {
   "cell_type": "code",
   "execution_count": 141,
   "id": "894c937c-7303-455a-b5aa-cd6463590609",
   "metadata": {},
   "outputs": [],
   "source": [
    "\n",
    "js_snippet = \"\"\" \n",
    "}\n",
    "\"\"\"\n",
    "geemap.js_snippet_to_py(js_snippet)"
   ]
  },
  {
   "cell_type": "markdown",
   "id": "2794b871-4d27-4eea-a6fa-ae048ffe874a",
   "metadata": {
    "tags": []
   },
   "source": [
    "### split train and test"
   ]
  },
  {
   "cell_type": "code",
   "execution_count": null,
   "id": "83209c5a-43a7-405a-b2d7-e10964a7be41",
   "metadata": {},
   "outputs": [],
   "source": []
  },
  {
   "cell_type": "code",
   "execution_count": 148,
   "id": "5c61799f-31f5-49f0-9560-95674b6f17b6",
   "metadata": {},
   "outputs": [],
   "source": [
    "## classifier\n",
    "\n",
    "training = image.select(bands).sampleRegions(**{\n",
    "  'collection' : training_points,\n",
    "  'properties' : [label],\n",
    "  'scale': 30\n",
    "})"
   ]
  },
  {
   "cell_type": "code",
   "execution_count": 158,
   "id": "fe040f4a-acbf-48df-9b88-4363d41c870e",
   "metadata": {},
   "outputs": [
    {
     "data": {
      "text/plain": [
       "{'type': 'Feature',\n",
       " 'geometry': None,\n",
       " 'id': '11_0',\n",
       " 'properties': {'B1': 0.151354119181633,\n",
       "  'B2': 0.16839967668056488,\n",
       "  'B3': 0.19971393048763275,\n",
       "  'B4': 0.25785401463508606,\n",
       "  'B5': 0.3216153085231781,\n",
       "  'B7': 0.25481507182121277,\n",
       "  'baiml': 23.14938932152985,\n",
       "  'baims': 23.161174912698275,\n",
       "  'class1': 8,\n",
       "  'mirbi': 1.3963206946849822,\n",
       "  'nbr': 0.005927688907831907,\n",
       "  'ndmi': -0.11003394424915314,\n",
       "  'ndvi': 0.12706327438354492,\n",
       "  'ndwi': -0.20986172556877136,\n",
       "  'random': 0.72664157329318}}"
      ]
     },
     "execution_count": 158,
     "metadata": {},
     "output_type": "execute_result"
    }
   ],
   "source": [
    "##Adds a column of deterministic pseudorandom numbers.\n",
    "training = training.randomColumn()\n",
    "\n",
    "split = 0.7\n",
    "\n",
    "training_points = training.filter(ee.Filter.lt('random', split))\n",
    "validation_points = training.filter(ee.Filter.gte('random', split))\n",
    "\n",
    "training_points.first().getInfo()\n",
    "\n",
    "validation_points.first().getInfo()"
   ]
  },
  {
   "cell_type": "code",
   "execution_count": 176,
   "id": "b163a926-0c93-4523-9e20-0eaf5c545090",
   "metadata": {},
   "outputs": [],
   "source": [
    "classifier = ee.Classifier.smileRandomForest(100).train(training_points, 'class1', bands)"
   ]
  },
  {
   "cell_type": "code",
   "execution_count": 177,
   "id": "80bccb4b-97a1-47aa-afe5-f34205e54273",
   "metadata": {},
   "outputs": [
    {
     "data": {
      "application/vnd.jupyter.widget-view+json": {
       "model_id": "1731419bee3942bb986a464b8bfa49a3",
       "version_major": 2,
       "version_minor": 0
      },
      "text/plain": [
       "Map(bottom=229801.0, center=[21.86311093593943, 76.7732172877952], controls=(WidgetControl(options=['position'…"
      ]
     },
     "metadata": {},
     "output_type": "display_data"
    }
   ],
   "source": [
    "# Classify the image with the same bands used for training.\n",
    "result = image.select(bands).classify(classifier)\n",
    "\n",
    "# # Display the clusters with random colors.\n",
    "Map.addLayer(result.randomVisualizer(), {}, 'classfied')\n",
    "Map.centerObject(result)\n",
    "Map"
   ]
  },
  {
   "cell_type": "code",
   "execution_count": 183,
   "id": "6e29f225-50d6-4ea2-94d9-ed6876c1a319",
   "metadata": {},
   "outputs": [
    {
     "data": {
      "text/plain": [
       "11    42\n",
       "5     14\n",
       "1      8\n",
       "2      6\n",
       "8      4\n",
       "13     4\n",
       "4      3\n",
       "Name: class1, dtype: int64"
      ]
     },
     "execution_count": 183,
     "metadata": {},
     "output_type": "execute_result"
    }
   ],
   "source": [
    "validation_points_gdp = geemap.ee_to_geopandas(validation_points)\n",
    "validation_points_gdp['class1'].value_counts()"
   ]
  },
  {
   "cell_type": "code",
   "execution_count": 178,
   "id": "b16df508-a418-4a94-951e-42d4bf7f0dcd",
   "metadata": {},
   "outputs": [],
   "source": [
    "validated = validation_points.classify(classifier)"
   ]
  },
  {
   "cell_type": "code",
   "execution_count": 179,
   "id": "708725a6-92d1-4302-a082-e29ed1ff596a",
   "metadata": {},
   "outputs": [],
   "source": [
    "test_accuracy= validated.errorMatrix('class1', 'classification')"
   ]
  },
  {
   "cell_type": "code",
   "execution_count": 180,
   "id": "17fbadbd-c7a7-4fc2-9363-0d9f6477925e",
   "metadata": {},
   "outputs": [
    {
     "data": {
      "text/plain": [
       "0.6419753086419753"
      ]
     },
     "execution_count": 180,
     "metadata": {},
     "output_type": "execute_result"
    }
   ],
   "source": [
    "test_accuracy.accuracy().getInfo()"
   ]
  },
  {
   "cell_type": "code",
   "execution_count": 190,
   "id": "39dec3ac-8592-4c2c-a8c8-e6e5c398c262",
   "metadata": {},
   "outputs": [
    {
     "data": {
      "text/html": [
       "<div>\n",
       "<style scoped>\n",
       "    .dataframe tbody tr th:only-of-type {\n",
       "        vertical-align: middle;\n",
       "    }\n",
       "\n",
       "    .dataframe tbody tr th {\n",
       "        vertical-align: top;\n",
       "    }\n",
       "\n",
       "    .dataframe thead th {\n",
       "        text-align: right;\n",
       "    }\n",
       "</style>\n",
       "<table border=\"1\" class=\"dataframe\">\n",
       "  <thead>\n",
       "    <tr style=\"text-align: right;\">\n",
       "      <th></th>\n",
       "      <th>0</th>\n",
       "      <th>1</th>\n",
       "      <th>2</th>\n",
       "      <th>3</th>\n",
       "      <th>4</th>\n",
       "      <th>5</th>\n",
       "      <th>6</th>\n",
       "      <th>7</th>\n",
       "      <th>8</th>\n",
       "      <th>9</th>\n",
       "      <th>10</th>\n",
       "      <th>11</th>\n",
       "      <th>12</th>\n",
       "      <th>13</th>\n",
       "      <th>Total</th>\n",
       "    </tr>\n",
       "  </thead>\n",
       "  <tbody>\n",
       "    <tr>\n",
       "      <th>0</th>\n",
       "      <td>0.0</td>\n",
       "      <td>0.0</td>\n",
       "      <td>0.0</td>\n",
       "      <td>0.0</td>\n",
       "      <td>0.0</td>\n",
       "      <td>0.0</td>\n",
       "      <td>0.0</td>\n",
       "      <td>0.0</td>\n",
       "      <td>0.0</td>\n",
       "      <td>0.0</td>\n",
       "      <td>0.0</td>\n",
       "      <td>0.0</td>\n",
       "      <td>0.0</td>\n",
       "      <td>0.0</td>\n",
       "      <td>0.0</td>\n",
       "    </tr>\n",
       "    <tr>\n",
       "      <th>1</th>\n",
       "      <td>0.0</td>\n",
       "      <td>5.0</td>\n",
       "      <td>0.0</td>\n",
       "      <td>0.0</td>\n",
       "      <td>0.0</td>\n",
       "      <td>0.0</td>\n",
       "      <td>0.0</td>\n",
       "      <td>0.0</td>\n",
       "      <td>0.0</td>\n",
       "      <td>0.0</td>\n",
       "      <td>0.0</td>\n",
       "      <td>3.0</td>\n",
       "      <td>0.0</td>\n",
       "      <td>0.0</td>\n",
       "      <td>8.0</td>\n",
       "    </tr>\n",
       "    <tr>\n",
       "      <th>2</th>\n",
       "      <td>0.0</td>\n",
       "      <td>0.0</td>\n",
       "      <td>0.0</td>\n",
       "      <td>0.0</td>\n",
       "      <td>0.0</td>\n",
       "      <td>4.0</td>\n",
       "      <td>0.0</td>\n",
       "      <td>0.0</td>\n",
       "      <td>0.0</td>\n",
       "      <td>0.0</td>\n",
       "      <td>0.0</td>\n",
       "      <td>1.0</td>\n",
       "      <td>0.0</td>\n",
       "      <td>1.0</td>\n",
       "      <td>6.0</td>\n",
       "    </tr>\n",
       "    <tr>\n",
       "      <th>3</th>\n",
       "      <td>0.0</td>\n",
       "      <td>0.0</td>\n",
       "      <td>0.0</td>\n",
       "      <td>0.0</td>\n",
       "      <td>0.0</td>\n",
       "      <td>0.0</td>\n",
       "      <td>0.0</td>\n",
       "      <td>0.0</td>\n",
       "      <td>0.0</td>\n",
       "      <td>0.0</td>\n",
       "      <td>0.0</td>\n",
       "      <td>0.0</td>\n",
       "      <td>0.0</td>\n",
       "      <td>0.0</td>\n",
       "      <td>0.0</td>\n",
       "    </tr>\n",
       "    <tr>\n",
       "      <th>4</th>\n",
       "      <td>0.0</td>\n",
       "      <td>1.0</td>\n",
       "      <td>0.0</td>\n",
       "      <td>0.0</td>\n",
       "      <td>0.0</td>\n",
       "      <td>0.0</td>\n",
       "      <td>0.0</td>\n",
       "      <td>0.0</td>\n",
       "      <td>0.0</td>\n",
       "      <td>0.0</td>\n",
       "      <td>0.0</td>\n",
       "      <td>2.0</td>\n",
       "      <td>0.0</td>\n",
       "      <td>0.0</td>\n",
       "      <td>3.0</td>\n",
       "    </tr>\n",
       "    <tr>\n",
       "      <th>5</th>\n",
       "      <td>0.0</td>\n",
       "      <td>0.0</td>\n",
       "      <td>0.0</td>\n",
       "      <td>0.0</td>\n",
       "      <td>0.0</td>\n",
       "      <td>13.0</td>\n",
       "      <td>0.0</td>\n",
       "      <td>0.0</td>\n",
       "      <td>0.0</td>\n",
       "      <td>0.0</td>\n",
       "      <td>0.0</td>\n",
       "      <td>1.0</td>\n",
       "      <td>0.0</td>\n",
       "      <td>0.0</td>\n",
       "      <td>14.0</td>\n",
       "    </tr>\n",
       "    <tr>\n",
       "      <th>6</th>\n",
       "      <td>0.0</td>\n",
       "      <td>0.0</td>\n",
       "      <td>0.0</td>\n",
       "      <td>0.0</td>\n",
       "      <td>0.0</td>\n",
       "      <td>0.0</td>\n",
       "      <td>0.0</td>\n",
       "      <td>0.0</td>\n",
       "      <td>0.0</td>\n",
       "      <td>0.0</td>\n",
       "      <td>0.0</td>\n",
       "      <td>0.0</td>\n",
       "      <td>0.0</td>\n",
       "      <td>0.0</td>\n",
       "      <td>0.0</td>\n",
       "    </tr>\n",
       "    <tr>\n",
       "      <th>7</th>\n",
       "      <td>0.0</td>\n",
       "      <td>0.0</td>\n",
       "      <td>0.0</td>\n",
       "      <td>0.0</td>\n",
       "      <td>0.0</td>\n",
       "      <td>0.0</td>\n",
       "      <td>0.0</td>\n",
       "      <td>0.0</td>\n",
       "      <td>0.0</td>\n",
       "      <td>0.0</td>\n",
       "      <td>0.0</td>\n",
       "      <td>0.0</td>\n",
       "      <td>0.0</td>\n",
       "      <td>0.0</td>\n",
       "      <td>0.0</td>\n",
       "    </tr>\n",
       "    <tr>\n",
       "      <th>8</th>\n",
       "      <td>0.0</td>\n",
       "      <td>0.0</td>\n",
       "      <td>0.0</td>\n",
       "      <td>0.0</td>\n",
       "      <td>0.0</td>\n",
       "      <td>0.0</td>\n",
       "      <td>0.0</td>\n",
       "      <td>0.0</td>\n",
       "      <td>2.0</td>\n",
       "      <td>0.0</td>\n",
       "      <td>1.0</td>\n",
       "      <td>1.0</td>\n",
       "      <td>0.0</td>\n",
       "      <td>0.0</td>\n",
       "      <td>4.0</td>\n",
       "    </tr>\n",
       "    <tr>\n",
       "      <th>9</th>\n",
       "      <td>0.0</td>\n",
       "      <td>0.0</td>\n",
       "      <td>0.0</td>\n",
       "      <td>0.0</td>\n",
       "      <td>0.0</td>\n",
       "      <td>0.0</td>\n",
       "      <td>0.0</td>\n",
       "      <td>0.0</td>\n",
       "      <td>0.0</td>\n",
       "      <td>0.0</td>\n",
       "      <td>0.0</td>\n",
       "      <td>0.0</td>\n",
       "      <td>0.0</td>\n",
       "      <td>0.0</td>\n",
       "      <td>0.0</td>\n",
       "    </tr>\n",
       "    <tr>\n",
       "      <th>10</th>\n",
       "      <td>0.0</td>\n",
       "      <td>0.0</td>\n",
       "      <td>0.0</td>\n",
       "      <td>0.0</td>\n",
       "      <td>0.0</td>\n",
       "      <td>0.0</td>\n",
       "      <td>0.0</td>\n",
       "      <td>0.0</td>\n",
       "      <td>0.0</td>\n",
       "      <td>0.0</td>\n",
       "      <td>0.0</td>\n",
       "      <td>0.0</td>\n",
       "      <td>0.0</td>\n",
       "      <td>0.0</td>\n",
       "      <td>0.0</td>\n",
       "    </tr>\n",
       "    <tr>\n",
       "      <th>11</th>\n",
       "      <td>0.0</td>\n",
       "      <td>1.0</td>\n",
       "      <td>1.0</td>\n",
       "      <td>0.0</td>\n",
       "      <td>0.0</td>\n",
       "      <td>7.0</td>\n",
       "      <td>0.0</td>\n",
       "      <td>0.0</td>\n",
       "      <td>0.0</td>\n",
       "      <td>0.0</td>\n",
       "      <td>0.0</td>\n",
       "      <td>32.0</td>\n",
       "      <td>0.0</td>\n",
       "      <td>1.0</td>\n",
       "      <td>42.0</td>\n",
       "    </tr>\n",
       "    <tr>\n",
       "      <th>12</th>\n",
       "      <td>0.0</td>\n",
       "      <td>0.0</td>\n",
       "      <td>0.0</td>\n",
       "      <td>0.0</td>\n",
       "      <td>0.0</td>\n",
       "      <td>0.0</td>\n",
       "      <td>0.0</td>\n",
       "      <td>0.0</td>\n",
       "      <td>0.0</td>\n",
       "      <td>0.0</td>\n",
       "      <td>0.0</td>\n",
       "      <td>0.0</td>\n",
       "      <td>0.0</td>\n",
       "      <td>0.0</td>\n",
       "      <td>0.0</td>\n",
       "    </tr>\n",
       "    <tr>\n",
       "      <th>13</th>\n",
       "      <td>0.0</td>\n",
       "      <td>0.0</td>\n",
       "      <td>0.0</td>\n",
       "      <td>0.0</td>\n",
       "      <td>0.0</td>\n",
       "      <td>2.0</td>\n",
       "      <td>0.0</td>\n",
       "      <td>0.0</td>\n",
       "      <td>0.0</td>\n",
       "      <td>0.0</td>\n",
       "      <td>0.0</td>\n",
       "      <td>2.0</td>\n",
       "      <td>0.0</td>\n",
       "      <td>0.0</td>\n",
       "      <td>4.0</td>\n",
       "    </tr>\n",
       "    <tr>\n",
       "      <th>Total</th>\n",
       "      <td>0.0</td>\n",
       "      <td>7.0</td>\n",
       "      <td>1.0</td>\n",
       "      <td>0.0</td>\n",
       "      <td>0.0</td>\n",
       "      <td>26.0</td>\n",
       "      <td>0.0</td>\n",
       "      <td>0.0</td>\n",
       "      <td>2.0</td>\n",
       "      <td>0.0</td>\n",
       "      <td>1.0</td>\n",
       "      <td>42.0</td>\n",
       "      <td>0.0</td>\n",
       "      <td>2.0</td>\n",
       "      <td>81.0</td>\n",
       "    </tr>\n",
       "  </tbody>\n",
       "</table>\n",
       "</div>"
      ],
      "text/plain": [
       "         0    1    2    3    4     5    6    7    8    9   10    11   12   13  \\\n",
       "0      0.0  0.0  0.0  0.0  0.0   0.0  0.0  0.0  0.0  0.0  0.0   0.0  0.0  0.0   \n",
       "1      0.0  5.0  0.0  0.0  0.0   0.0  0.0  0.0  0.0  0.0  0.0   3.0  0.0  0.0   \n",
       "2      0.0  0.0  0.0  0.0  0.0   4.0  0.0  0.0  0.0  0.0  0.0   1.0  0.0  1.0   \n",
       "3      0.0  0.0  0.0  0.0  0.0   0.0  0.0  0.0  0.0  0.0  0.0   0.0  0.0  0.0   \n",
       "4      0.0  1.0  0.0  0.0  0.0   0.0  0.0  0.0  0.0  0.0  0.0   2.0  0.0  0.0   \n",
       "5      0.0  0.0  0.0  0.0  0.0  13.0  0.0  0.0  0.0  0.0  0.0   1.0  0.0  0.0   \n",
       "6      0.0  0.0  0.0  0.0  0.0   0.0  0.0  0.0  0.0  0.0  0.0   0.0  0.0  0.0   \n",
       "7      0.0  0.0  0.0  0.0  0.0   0.0  0.0  0.0  0.0  0.0  0.0   0.0  0.0  0.0   \n",
       "8      0.0  0.0  0.0  0.0  0.0   0.0  0.0  0.0  2.0  0.0  1.0   1.0  0.0  0.0   \n",
       "9      0.0  0.0  0.0  0.0  0.0   0.0  0.0  0.0  0.0  0.0  0.0   0.0  0.0  0.0   \n",
       "10     0.0  0.0  0.0  0.0  0.0   0.0  0.0  0.0  0.0  0.0  0.0   0.0  0.0  0.0   \n",
       "11     0.0  1.0  1.0  0.0  0.0   7.0  0.0  0.0  0.0  0.0  0.0  32.0  0.0  1.0   \n",
       "12     0.0  0.0  0.0  0.0  0.0   0.0  0.0  0.0  0.0  0.0  0.0   0.0  0.0  0.0   \n",
       "13     0.0  0.0  0.0  0.0  0.0   2.0  0.0  0.0  0.0  0.0  0.0   2.0  0.0  0.0   \n",
       "Total  0.0  7.0  1.0  0.0  0.0  26.0  0.0  0.0  2.0  0.0  1.0  42.0  0.0  2.0   \n",
       "\n",
       "       Total  \n",
       "0        0.0  \n",
       "1        8.0  \n",
       "2        6.0  \n",
       "3        0.0  \n",
       "4        3.0  \n",
       "5       14.0  \n",
       "6        0.0  \n",
       "7        0.0  \n",
       "8        4.0  \n",
       "9        0.0  \n",
       "10       0.0  \n",
       "11      42.0  \n",
       "12       0.0  \n",
       "13       4.0  \n",
       "Total   81.0  "
      ]
     },
     "execution_count": 190,
     "metadata": {},
     "output_type": "execute_result"
    }
   ],
   "source": [
    "cf2 = pd.DataFrame(test_accuracy.getInfo())\n",
    "cf2.loc['Total',:] = cf2.sum(axis=0)\n",
    "#Total sum per row: \n",
    "cf2.loc[:,'Total'] = cf2.sum(axis=1)\n",
    "cf2"
   ]
  },
  {
   "cell_type": "code",
   "execution_count": 192,
   "id": "4770b3ec-9d67-443c-8716-aed537078d96",
   "metadata": {},
   "outputs": [],
   "source": [
    "cf2= cf2.loc[:,(cf2 != 0).any(axis=0)]\n",
    "cf2 =cf2.loc[(cf2 != 0).any(axis=1),:]"
   ]
  },
  {
   "cell_type": "code",
   "execution_count": 193,
   "id": "7af3c6a4-74d2-42be-8423-e9cdb5d2cc19",
   "metadata": {},
   "outputs": [
    {
     "data": {
      "text/html": [
       "<div>\n",
       "<style scoped>\n",
       "    .dataframe tbody tr th:only-of-type {\n",
       "        vertical-align: middle;\n",
       "    }\n",
       "\n",
       "    .dataframe tbody tr th {\n",
       "        vertical-align: top;\n",
       "    }\n",
       "\n",
       "    .dataframe thead th {\n",
       "        text-align: right;\n",
       "    }\n",
       "</style>\n",
       "<table border=\"1\" class=\"dataframe\">\n",
       "  <thead>\n",
       "    <tr style=\"text-align: right;\">\n",
       "      <th>Predicted</th>\n",
       "      <th>1</th>\n",
       "      <th>2</th>\n",
       "      <th>4</th>\n",
       "      <th>5</th>\n",
       "      <th>8</th>\n",
       "      <th>10</th>\n",
       "      <th>11</th>\n",
       "      <th>13</th>\n",
       "    </tr>\n",
       "    <tr>\n",
       "      <th>Actual</th>\n",
       "      <th></th>\n",
       "      <th></th>\n",
       "      <th></th>\n",
       "      <th></th>\n",
       "      <th></th>\n",
       "      <th></th>\n",
       "      <th></th>\n",
       "      <th></th>\n",
       "    </tr>\n",
       "  </thead>\n",
       "  <tbody>\n",
       "    <tr>\n",
       "      <th>1</th>\n",
       "      <td>5.0</td>\n",
       "      <td>0.0</td>\n",
       "      <td>NaN</td>\n",
       "      <td>0.0</td>\n",
       "      <td>0.0</td>\n",
       "      <td>0.0</td>\n",
       "      <td>3.0</td>\n",
       "      <td>0.0</td>\n",
       "    </tr>\n",
       "    <tr>\n",
       "      <th>2</th>\n",
       "      <td>0.0</td>\n",
       "      <td>0.0</td>\n",
       "      <td>NaN</td>\n",
       "      <td>4.0</td>\n",
       "      <td>0.0</td>\n",
       "      <td>0.0</td>\n",
       "      <td>1.0</td>\n",
       "      <td>1.0</td>\n",
       "    </tr>\n",
       "    <tr>\n",
       "      <th>4</th>\n",
       "      <td>1.0</td>\n",
       "      <td>0.0</td>\n",
       "      <td>NaN</td>\n",
       "      <td>0.0</td>\n",
       "      <td>0.0</td>\n",
       "      <td>0.0</td>\n",
       "      <td>2.0</td>\n",
       "      <td>0.0</td>\n",
       "    </tr>\n",
       "    <tr>\n",
       "      <th>5</th>\n",
       "      <td>0.0</td>\n",
       "      <td>0.0</td>\n",
       "      <td>NaN</td>\n",
       "      <td>13.0</td>\n",
       "      <td>0.0</td>\n",
       "      <td>0.0</td>\n",
       "      <td>1.0</td>\n",
       "      <td>0.0</td>\n",
       "    </tr>\n",
       "    <tr>\n",
       "      <th>8</th>\n",
       "      <td>0.0</td>\n",
       "      <td>0.0</td>\n",
       "      <td>NaN</td>\n",
       "      <td>0.0</td>\n",
       "      <td>2.0</td>\n",
       "      <td>1.0</td>\n",
       "      <td>1.0</td>\n",
       "      <td>0.0</td>\n",
       "    </tr>\n",
       "    <tr>\n",
       "      <th>10</th>\n",
       "      <td>NaN</td>\n",
       "      <td>NaN</td>\n",
       "      <td>NaN</td>\n",
       "      <td>NaN</td>\n",
       "      <td>NaN</td>\n",
       "      <td>NaN</td>\n",
       "      <td>NaN</td>\n",
       "      <td>NaN</td>\n",
       "    </tr>\n",
       "    <tr>\n",
       "      <th>11</th>\n",
       "      <td>1.0</td>\n",
       "      <td>1.0</td>\n",
       "      <td>NaN</td>\n",
       "      <td>7.0</td>\n",
       "      <td>0.0</td>\n",
       "      <td>0.0</td>\n",
       "      <td>32.0</td>\n",
       "      <td>1.0</td>\n",
       "    </tr>\n",
       "    <tr>\n",
       "      <th>13</th>\n",
       "      <td>0.0</td>\n",
       "      <td>0.0</td>\n",
       "      <td>NaN</td>\n",
       "      <td>2.0</td>\n",
       "      <td>0.0</td>\n",
       "      <td>0.0</td>\n",
       "      <td>2.0</td>\n",
       "      <td>0.0</td>\n",
       "    </tr>\n",
       "  </tbody>\n",
       "</table>\n",
       "</div>"
      ],
      "text/plain": [
       "Predicted   1    2   4     5    8    10    11   13\n",
       "Actual                                            \n",
       "1          5.0  0.0 NaN   0.0  0.0  0.0   3.0  0.0\n",
       "2          0.0  0.0 NaN   4.0  0.0  0.0   1.0  1.0\n",
       "4          1.0  0.0 NaN   0.0  0.0  0.0   2.0  0.0\n",
       "5          0.0  0.0 NaN  13.0  0.0  0.0   1.0  0.0\n",
       "8          0.0  0.0 NaN   0.0  2.0  1.0   1.0  0.0\n",
       "10         NaN  NaN NaN   NaN  NaN  NaN   NaN  NaN\n",
       "11         1.0  1.0 NaN   7.0  0.0  0.0  32.0  1.0\n",
       "13         0.0  0.0 NaN   2.0  0.0  0.0   2.0  0.0"
      ]
     },
     "execution_count": 193,
     "metadata": {},
     "output_type": "execute_result"
    }
   ],
   "source": [
    "cf2.reindex(index=cf.index, columns=cf.columns)"
   ]
  },
  {
   "cell_type": "code",
   "execution_count": null,
   "id": "ab11a397-c4a1-4996-a4ce-780ff54224f6",
   "metadata": {},
   "outputs": [],
   "source": []
  }
 ],
 "metadata": {
  "kernelspec": {
   "display_name": "Python 3 (ipykernel)",
   "language": "python",
   "name": "python3"
  },
  "language_info": {
   "codemirror_mode": {
    "name": "ipython",
    "version": 3
   },
   "file_extension": ".py",
   "mimetype": "text/x-python",
   "name": "python",
   "nbconvert_exporter": "python",
   "pygments_lexer": "ipython3",
   "version": "3.9.13"
  }
 },
 "nbformat": 4,
 "nbformat_minor": 5
}
