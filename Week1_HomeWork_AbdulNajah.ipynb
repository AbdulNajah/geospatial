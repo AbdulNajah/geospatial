{
 "cells": [
  {
   "cell_type": "markdown",
   "id": "220f209d-30ba-47f8-9eba-1495d9a733c8",
   "metadata": {},
   "source": [
    "## Abdul Najah\n",
    "## Week1 Answers\n"
   ]
  },
  {
   "cell_type": "markdown",
   "id": "9d632c08-7750-4852-93ec-7f4f25d4913a",
   "metadata": {},
   "source": [
    "### Q1"
   ]
  },
  {
   "cell_type": "code",
   "execution_count": 216,
   "id": "c3e4938a-8868-454d-8508-018056296f70",
   "metadata": {},
   "outputs": [
    {
     "name": "stdout",
     "output_type": "stream",
     "text": [
      "0\n",
      "1\n",
      "1\n",
      "2\n",
      "3\n",
      "5\n",
      "8\n",
      "13\n",
      "21\n",
      "34\n"
     ]
    }
   ],
   "source": [
    "\n",
    "def fibanocci(n):\n",
    "    a= 0\n",
    "    b=1\n",
    "    print(a)\n",
    "    print(b)\n",
    "    for i in range(2,n):\n",
    "        c= a+b\n",
    "        a= b\n",
    "        b=c\n",
    "        print(c)\n",
    "\n",
    "fibanocci(10)"
   ]
  },
  {
   "cell_type": "markdown",
   "id": "b2068368-c089-4437-a308-df843580a930",
   "metadata": {},
   "source": [
    "### Q2"
   ]
  },
  {
   "cell_type": "code",
   "execution_count": 110,
   "id": "febdf6eb-10f2-4c37-b7da-cf871792cddc",
   "metadata": {},
   "outputs": [
    {
     "name": "stdout",
     "output_type": "stream",
     "text": [
      "{'A': [1, 2, 3], 'B': ['Hi', 'How are you']}\n"
     ]
    }
   ],
   "source": [
    "dict = {\n",
    "    \"A\": [1,2,3],\n",
    "    \"B\": [\"Hi\", \"How are you\"]\n",
    "}\n",
    "\n",
    "print(dict)"
   ]
  },
  {
   "cell_type": "markdown",
   "id": "8687bf20-7b76-4c14-9c11-b834def7fd3a",
   "metadata": {},
   "source": [
    "### Q3"
   ]
  },
  {
   "cell_type": "code",
   "execution_count": 195,
   "id": "ce3063b8-0fdf-48f1-9372-2df5b20fd63d",
   "metadata": {},
   "outputs": [
    {
     "name": "stdout",
     "output_type": "stream",
     "text": [
      "Checked the first 5 numbers for even numbers. The even numbers are, 0, 2, 4\n",
      "Checked the last 5 numbers for odd numbers. The odd number are ,5,7,9\n",
      "Naturally, [0, 2, 4] and [5, 7, 9] are numbers drawn from the range that you generated\n"
     ]
    }
   ],
   "source": [
    "numbers = list(range(0,11))\n",
    "even = []\n",
    "odd = []\n",
    "for i in numbers:\n",
    "    if i%2 ==0 and i<5 :\n",
    "        even.append(i)\n",
    "    elif i%2 !=0 and i>=5:\n",
    "        odd.append(i)\n",
    "print(\"Checked the first 5 numbers for even numbers. The even numbers are\" , *even,sep = ', ')\n",
    "\n",
    "print(\"Checked the last 5 numbers for odd numbers. The odd number are \", *odd, sep = ',')\n",
    "\n",
    "print(\"Naturally,\",  even, \"and\" , odd ,  \"are numbers drawn from the range that you generated\")\n"
   ]
  },
  {
   "cell_type": "markdown",
   "id": "17466d74-3b26-4260-ae23-d458057a3dd6",
   "metadata": {},
   "source": [
    "### Q4"
   ]
  },
  {
   "cell_type": "code",
   "execution_count": 231,
   "id": "3019d2c8-117a-428a-890e-aeb921c0a9fc",
   "metadata": {},
   "outputs": [
    {
     "data": {
      "text/plain": [
       "'AcirfA is dnuof in nohTYP'"
      ]
     },
     "execution_count": 231,
     "metadata": {},
     "output_type": "execute_result"
    }
   ],
   "source": [
    "Test = \"Python is found in Africa\"\n",
    "out = Test[::-1]\n",
    "\n",
    "\n",
    "\n",
    "out[0:1].upper()+ out[1:6] + \" \" +\"is\" + out[9:15]+ \" \" +\"in\"+ \" \" +out[-6:-3]+out[-3:].upper()"
   ]
  },
  {
   "cell_type": "markdown",
   "id": "56936f60-5152-4b4f-9b66-36ecf451c4fa",
   "metadata": {},
   "source": [
    "### Q5"
   ]
  },
  {
   "cell_type": "code",
   "execution_count": 54,
   "id": "61ce26dd-3fe5-4f0a-951e-037104fd62e6",
   "metadata": {},
   "outputs": [
    {
     "name": "stdout",
     "output_type": "stream",
     "text": [
      "Racecar is a palindrome\n"
     ]
    }
   ],
   "source": [
    "T = \"Racecar\"\n",
    "\n",
    "if T.lower()[::-1]==T.lower():\n",
    "    print(\"Racecar is a palindrome\")"
   ]
  },
  {
   "cell_type": "markdown",
   "id": "71460f05-89d5-4a34-8bac-2af502374f13",
   "metadata": {},
   "source": [
    "### Q6"
   ]
  },
  {
   "cell_type": "code",
   "execution_count": 255,
   "id": "5bcf5e19-f449-4f5a-8485-38b5bc057a30",
   "metadata": {},
   "outputs": [
    {
     "name": "stdout",
     "output_type": "stream",
     "text": [
      "1.5\n",
      "2.0\n",
      "2.5\n",
      "3.0\n",
      "3.5\n"
     ]
    }
   ],
   "source": [
    "dict= {'x': \"1 2 3 4 5\"}\n",
    "x = list(dict.values())\n",
    "x_str  =str(x[0]).split()\n",
    "x_int = [int(x) for x in y]\n",
    "\n",
    "for x in x_int:\n",
    "    y = x/2+1\n",
    "    print(y)"
   ]
  },
  {
   "cell_type": "markdown",
   "id": "e16aba1b-8897-4918-8b60-4063894a9aaf",
   "metadata": {},
   "source": [
    "### Q7"
   ]
  },
  {
   "cell_type": "code",
   "execution_count": 124,
   "id": "3d9b759a-fdeb-43f7-aaee-96429b485b21",
   "metadata": {},
   "outputs": [
    {
     "data": {
      "text/plain": [
       "'Python for Marketing and Sales  is just getting started'"
      ]
     },
     "execution_count": 124,
     "metadata": {},
     "output_type": "execute_result"
    }
   ],
   "source": [
    "int_string =  \"Python is just getting started\"\n",
    "\n",
    "add_string = \"for Marketing and Sales\"\n",
    "\n",
    "int_string[0:6]+ \" \"+ add_string+ \" \"+ int_string[6:]"
   ]
  },
  {
   "cell_type": "markdown",
   "id": "4ffcd904-143c-4c0d-b779-a022cd88feff",
   "metadata": {},
   "source": [
    "### Q8"
   ]
  },
  {
   "cell_type": "code",
   "execution_count": 147,
   "id": "70ea45ad-0884-4679-ac2b-be6aa94a50ea",
   "metadata": {},
   "outputs": [
    {
     "name": "stdout",
     "output_type": "stream",
     "text": [
      "(22, 7, 11, 20)\n"
     ]
    }
   ],
   "source": [
    "t = (22, 7, 11)\n",
    "\n",
    "\n",
    "k = (20,)\n",
    "\n",
    "new_t = t+k\n",
    "print(new_t)"
   ]
  },
  {
   "cell_type": "markdown",
   "id": "db1d984c-2b71-4132-851d-26ad2996cc61",
   "metadata": {},
   "source": [
    "### Q9"
   ]
  },
  {
   "cell_type": "code",
   "execution_count": 102,
   "id": "cef7dab4-6550-47d6-a0d5-dbffcc1ffc07",
   "metadata": {},
   "outputs": [
    {
     "data": {
      "text/plain": [
       "'Hello How are you'"
      ]
     },
     "execution_count": 102,
     "metadata": {},
     "output_type": "execute_result"
    }
   ],
   "source": [
    "X = {\"Key1\": \"Hello\", \"Key2\": \"How are you\"} \n",
    "\n",
    "X['Key1'] + \" \" +X['Key2']"
   ]
  },
  {
   "cell_type": "markdown",
   "id": "858c8775-b01e-40c2-be80-9eaadeb9653b",
   "metadata": {},
   "source": [
    "### Q10\n",
    "Write a programme that takes an input integer and outputs it's square"
   ]
  },
  {
   "cell_type": "code",
   "execution_count": 108,
   "id": "6f91a61c-5e7a-42ed-8126-9dd992bd82f4",
   "metadata": {},
   "outputs": [
    {
     "name": "stdin",
     "output_type": "stream",
     "text": [
      "the integer 10\n"
     ]
    },
    {
     "name": "stdout",
     "output_type": "stream",
     "text": [
      "100\n"
     ]
    }
   ],
   "source": [
    "n=int(input(\"the integer\"))\n",
    "square = n**2\n",
    "print(square)"
   ]
  },
  {
   "cell_type": "code",
   "execution_count": null,
   "id": "47947f9a-ac78-44e1-9ee6-81d0e39e3d0a",
   "metadata": {},
   "outputs": [],
   "source": []
  }
 ],
 "metadata": {
  "kernelspec": {
   "display_name": "Python 3 (ipykernel)",
   "language": "python",
   "name": "python3"
  },
  "language_info": {
   "codemirror_mode": {
    "name": "ipython",
    "version": 3
   },
   "file_extension": ".py",
   "mimetype": "text/x-python",
   "name": "python",
   "nbconvert_exporter": "python",
   "pygments_lexer": "ipython3",
   "version": "3.9.13"
  }
 },
 "nbformat": 4,
 "nbformat_minor": 5
}
